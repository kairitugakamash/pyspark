{
  "nbformat": 4,
  "nbformat_minor": 0,
  "metadata": {
    "colab": {
      "provenance": []
    },
    "kernelspec": {
      "name": "python3",
      "display_name": "Python 3"
    },
    "language_info": {
      "name": "python"
    }
  },
  "cells": [
    {
      "cell_type": "code",
      "source": [
        "pip install pyspark"
      ],
      "metadata": {
        "colab": {
          "base_uri": "https://localhost:8080/"
        },
        "id": "Cz0PWm7A54P-",
        "outputId": "1c9c48d1-4b4e-4570-c8e4-2621df241286"
      },
      "execution_count": 1,
      "outputs": [
        {
          "output_type": "stream",
          "name": "stdout",
          "text": [
            "Requirement already satisfied: pyspark in /usr/local/lib/python3.10/dist-packages (3.5.3)\n",
            "Requirement already satisfied: py4j==0.10.9.7 in /usr/local/lib/python3.10/dist-packages (from pyspark) (0.10.9.7)\n"
          ]
        }
      ]
    },
    {
      "cell_type": "code",
      "execution_count": 2,
      "metadata": {
        "id": "bmuVC_7b53jw"
      },
      "outputs": [],
      "source": [
        "#!pip install pyspark\n",
        "\n",
        "import pyspark\n",
        "\n",
        "sc = pyspark.SparkContext(appName=\"songs_and_spark\")\n",
        "\n",
        "songs = [\n",
        "        \"Despacito\",\n",
        "        \"Nice for what\",\n",
        "        \"No tears left to cry\",\n",
        "        \"Despacito\",\n",
        "        \"Havana\",\n",
        "        \"In my feelings\",\n",
        "        \"Nice for what\",\n",
        "        \"despacito\",\n",
        "        \"All the stars\"\n",
        "]\n",
        "\n",
        "# parallelize the log_of_songs to use with Spark\n",
        "distributed_songs = sc.parallelize(songs)"
      ]
    },
    {
      "cell_type": "code",
      "source": [
        "distributed_songs"
      ],
      "metadata": {
        "colab": {
          "base_uri": "https://localhost:8080/"
        },
        "id": "e2mvKnRp54S1",
        "outputId": "cb29d801-8741-45ee-9d17-5fac8e0fdd59"
      },
      "execution_count": 3,
      "outputs": [
        {
          "output_type": "execute_result",
          "data": {
            "text/plain": [
              "ParallelCollectionRDD[0] at readRDDFromFile at PythonRDD.scala:289"
            ]
          },
          "metadata": {},
          "execution_count": 3
        }
      ]
    },
    {
      "cell_type": "code",
      "source": [
        "def convert_song_to_lowercase(song):\n",
        "  return song.lower()"
      ],
      "metadata": {
        "id": "UcGFXb7054Vd"
      },
      "execution_count": 4,
      "outputs": []
    },
    {
      "cell_type": "code",
      "source": [
        "distributed_songs.map(convert_song_to_lowercase)"
      ],
      "metadata": {
        "colab": {
          "base_uri": "https://localhost:8080/"
        },
        "id": "yhJZ55H554YV",
        "outputId": "2321edf2-2a27-407c-fc35-27154017f6ad"
      },
      "execution_count": 5,
      "outputs": [
        {
          "output_type": "execute_result",
          "data": {
            "text/plain": [
              "PythonRDD[1] at RDD at PythonRDD.scala:53"
            ]
          },
          "metadata": {},
          "execution_count": 5
        }
      ]
    },
    {
      "cell_type": "code",
      "source": [
        "distributed_songs.map(convert_song_to_lowercase).collect()"
      ],
      "metadata": {
        "colab": {
          "base_uri": "https://localhost:8080/"
        },
        "id": "_kDn5cL854a9",
        "outputId": "49c17d3b-2f89-45bc-d502-9d511bbd0fa1"
      },
      "execution_count": 6,
      "outputs": [
        {
          "output_type": "execute_result",
          "data": {
            "text/plain": [
              "['despacito',\n",
              " 'nice for what',\n",
              " 'no tears left to cry',\n",
              " 'despacito',\n",
              " 'havana',\n",
              " 'in my feelings',\n",
              " 'nice for what',\n",
              " 'despacito',\n",
              " 'all the stars']"
            ]
          },
          "metadata": {},
          "execution_count": 6
        }
      ]
    },
    {
      "cell_type": "code",
      "source": [
        "def convert_song_to_uppercase(song):\n",
        "  return song.upper()\n",
        "\n",
        "distributed_songs.map(convert_song_to_uppercase)"
      ],
      "metadata": {
        "colab": {
          "base_uri": "https://localhost:8080/"
        },
        "id": "SQY77iUC54d1",
        "outputId": "2425c3a6-da12-4040-db76-8358febc2435"
      },
      "execution_count": 7,
      "outputs": [
        {
          "output_type": "execute_result",
          "data": {
            "text/plain": [
              "PythonRDD[3] at RDD at PythonRDD.scala:53"
            ]
          },
          "metadata": {},
          "execution_count": 7
        }
      ]
    },
    {
      "cell_type": "code",
      "source": [
        "distributed_songs.map(convert_song_to_uppercase).collect()"
      ],
      "metadata": {
        "colab": {
          "base_uri": "https://localhost:8080/"
        },
        "id": "U8Z7bOJw6dnv",
        "outputId": "05cbc475-64c0-4d98-fcd9-15b8215897ee"
      },
      "execution_count": 8,
      "outputs": [
        {
          "output_type": "execute_result",
          "data": {
            "text/plain": [
              "['DESPACITO',\n",
              " 'NICE FOR WHAT',\n",
              " 'NO TEARS LEFT TO CRY',\n",
              " 'DESPACITO',\n",
              " 'HAVANA',\n",
              " 'IN MY FEELINGS',\n",
              " 'NICE FOR WHAT',\n",
              " 'DESPACITO',\n",
              " 'ALL THE STARS']"
            ]
          },
          "metadata": {},
          "execution_count": 8
        }
      ]
    },
    {
      "cell_type": "code",
      "source": [
        "distributed_songs.collect()"
      ],
      "metadata": {
        "colab": {
          "base_uri": "https://localhost:8080/"
        },
        "id": "nem5Kw136dqe",
        "outputId": "0528d92d-6ba3-4985-eaa4-a217d12428db"
      },
      "execution_count": 9,
      "outputs": [
        {
          "output_type": "execute_result",
          "data": {
            "text/plain": [
              "['Despacito',\n",
              " 'Nice for what',\n",
              " 'No tears left to cry',\n",
              " 'Despacito',\n",
              " 'Havana',\n",
              " 'In my feelings',\n",
              " 'Nice for what',\n",
              " 'despacito',\n",
              " 'All the stars']"
            ]
          },
          "metadata": {},
          "execution_count": 9
        }
      ]
    },
    {
      "cell_type": "code",
      "source": [
        "# Reading and Writing Data with Spark\n",
        "from pyspark import SparkConf\n",
        "from pyspark.sql import SparkSession"
      ],
      "metadata": {
        "id": "5pZqXmst6dvX"
      },
      "execution_count": 11,
      "outputs": []
    },
    {
      "cell_type": "code",
      "source": [
        "spark = SparkSession.builder.appName(\"songs_and_spark\").getOrCreate()"
      ],
      "metadata": {
        "id": "N9f3dd9_8rAr"
      },
      "execution_count": 12,
      "outputs": []
    },
    {
      "cell_type": "code",
      "source": [
        "spark.sparkContext.getConf().getAll()"
      ],
      "metadata": {
        "colab": {
          "base_uri": "https://localhost:8080/"
        },
        "id": "gL2if6Ef9Jjn",
        "outputId": "f4df49be-5664-4dc2-f914-361c8133b8c6"
      },
      "execution_count": 13,
      "outputs": [
        {
          "output_type": "execute_result",
          "data": {
            "text/plain": [
              "[('spark.driver.extraJavaOptions',\n",
              "  '-Djava.net.preferIPv6Addresses=false -XX:+IgnoreUnrecognizedVMOptions --add-opens=java.base/java.lang=ALL-UNNAMED --add-opens=java.base/java.lang.invoke=ALL-UNNAMED --add-opens=java.base/java.lang.reflect=ALL-UNNAMED --add-opens=java.base/java.io=ALL-UNNAMED --add-opens=java.base/java.net=ALL-UNNAMED --add-opens=java.base/java.nio=ALL-UNNAMED --add-opens=java.base/java.util=ALL-UNNAMED --add-opens=java.base/java.util.concurrent=ALL-UNNAMED --add-opens=java.base/java.util.concurrent.atomic=ALL-UNNAMED --add-opens=java.base/jdk.internal.ref=ALL-UNNAMED --add-opens=java.base/sun.nio.ch=ALL-UNNAMED --add-opens=java.base/sun.nio.cs=ALL-UNNAMED --add-opens=java.base/sun.security.action=ALL-UNNAMED --add-opens=java.base/sun.util.calendar=ALL-UNNAMED --add-opens=java.security.jgss/sun.security.krb5=ALL-UNNAMED -Djdk.reflect.useDirectMethodHandle=false'),\n",
              " ('spark.app.startTime', '1735586998266'),\n",
              " ('spark.executor.id', 'driver'),\n",
              " ('spark.driver.host', 'dad2a7e2e20c'),\n",
              " ('spark.app.name', 'songs_and_spark'),\n",
              " ('spark.rdd.compress', 'True'),\n",
              " ('spark.executor.extraJavaOptions',\n",
              "  '-Djava.net.preferIPv6Addresses=false -XX:+IgnoreUnrecognizedVMOptions --add-opens=java.base/java.lang=ALL-UNNAMED --add-opens=java.base/java.lang.invoke=ALL-UNNAMED --add-opens=java.base/java.lang.reflect=ALL-UNNAMED --add-opens=java.base/java.io=ALL-UNNAMED --add-opens=java.base/java.net=ALL-UNNAMED --add-opens=java.base/java.nio=ALL-UNNAMED --add-opens=java.base/java.util=ALL-UNNAMED --add-opens=java.base/java.util.concurrent=ALL-UNNAMED --add-opens=java.base/java.util.concurrent.atomic=ALL-UNNAMED --add-opens=java.base/jdk.internal.ref=ALL-UNNAMED --add-opens=java.base/sun.nio.ch=ALL-UNNAMED --add-opens=java.base/sun.nio.cs=ALL-UNNAMED --add-opens=java.base/sun.security.action=ALL-UNNAMED --add-opens=java.base/sun.util.calendar=ALL-UNNAMED --add-opens=java.security.jgss/sun.security.krb5=ALL-UNNAMED -Djdk.reflect.useDirectMethodHandle=false'),\n",
              " ('spark.driver.port', '35223'),\n",
              " ('spark.app.id', 'local-1735586999850'),\n",
              " ('spark.serializer.objectStreamReset', '100'),\n",
              " ('spark.master', 'local[*]'),\n",
              " ('spark.submit.pyFiles', ''),\n",
              " ('spark.submit.deployMode', 'client'),\n",
              " ('spark.app.submitTime', '1735586997970'),\n",
              " ('spark.ui.showConsoleProgress', 'true')]"
            ]
          },
          "metadata": {},
          "execution_count": 13
        }
      ]
    },
    {
      "cell_type": "code",
      "source": [
        "spark"
      ],
      "metadata": {
        "colab": {
          "base_uri": "https://localhost:8080/",
          "height": 219
        },
        "id": "cgSratwn9Jmm",
        "outputId": "358abc70-6fb6-4616-c3aa-2656ea287e29"
      },
      "execution_count": 14,
      "outputs": [
        {
          "output_type": "execute_result",
          "data": {
            "text/plain": [
              "<pyspark.sql.session.SparkSession at 0x7dedd93317b0>"
            ],
            "text/html": [
              "\n",
              "            <div>\n",
              "                <p><b>SparkSession - in-memory</b></p>\n",
              "                \n",
              "        <div>\n",
              "            <p><b>SparkContext</b></p>\n",
              "\n",
              "            <p><a href=\"http://dad2a7e2e20c:4040\">Spark UI</a></p>\n",
              "\n",
              "            <dl>\n",
              "              <dt>Version</dt>\n",
              "                <dd><code>v3.5.3</code></dd>\n",
              "              <dt>Master</dt>\n",
              "                <dd><code>local[*]</code></dd>\n",
              "              <dt>AppName</dt>\n",
              "                <dd><code>songs_and_spark</code></dd>\n",
              "            </dl>\n",
              "        </div>\n",
              "        \n",
              "            </div>\n",
              "        "
            ]
          },
          "metadata": {},
          "execution_count": 14
        }
      ]
    },
    {
      "cell_type": "code",
      "source": [
        "path = \"/content/pyspark\"\n",
        "songs_log = spark.read.json(path)"
      ],
      "metadata": {
        "id": "sX0IwSDA9Jpl"
      },
      "execution_count": 17,
      "outputs": []
    },
    {
      "cell_type": "code",
      "source": [
        "songs_log.printSchema()"
      ],
      "metadata": {
        "colab": {
          "base_uri": "https://localhost:8080/"
        },
        "id": "xMpanXDn9Jsl",
        "outputId": "ef3a7bfd-8d94-4755-82ac-b7c2db412e06"
      },
      "execution_count": 18,
      "outputs": [
        {
          "output_type": "stream",
          "name": "stdout",
          "text": [
            "root\n",
            " |-- artist: string (nullable = true)\n",
            " |-- auth: string (nullable = true)\n",
            " |-- firstName: string (nullable = true)\n",
            " |-- gender: string (nullable = true)\n",
            " |-- itemInSession: long (nullable = true)\n",
            " |-- lastName: string (nullable = true)\n",
            " |-- length: double (nullable = true)\n",
            " |-- level: string (nullable = true)\n",
            " |-- location: string (nullable = true)\n",
            " |-- method: string (nullable = true)\n",
            " |-- page: string (nullable = true)\n",
            " |-- registration: long (nullable = true)\n",
            " |-- sessionId: long (nullable = true)\n",
            " |-- song: string (nullable = true)\n",
            " |-- status: long (nullable = true)\n",
            " |-- ts: long (nullable = true)\n",
            " |-- userAgent: string (nullable = true)\n",
            " |-- userId: string (nullable = true)\n",
            "\n"
          ]
        }
      ]
    },
    {
      "cell_type": "code",
      "source": [
        "dir(songs_log)"
      ],
      "metadata": {
        "colab": {
          "base_uri": "https://localhost:8080/"
        },
        "id": "h3pTjZJJ9XVK",
        "outputId": "27c0f57d-3e66-449b-c904-b350152c12e8"
      },
      "execution_count": 19,
      "outputs": [
        {
          "output_type": "execute_result",
          "data": {
            "text/plain": [
              "['__class__',\n",
              " '__delattr__',\n",
              " '__dict__',\n",
              " '__dir__',\n",
              " '__doc__',\n",
              " '__eq__',\n",
              " '__format__',\n",
              " '__ge__',\n",
              " '__getattr__',\n",
              " '__getattribute__',\n",
              " '__getitem__',\n",
              " '__gt__',\n",
              " '__hash__',\n",
              " '__init__',\n",
              " '__init_subclass__',\n",
              " '__le__',\n",
              " '__lt__',\n",
              " '__module__',\n",
              " '__ne__',\n",
              " '__new__',\n",
              " '__reduce__',\n",
              " '__reduce_ex__',\n",
              " '__repr__',\n",
              " '__setattr__',\n",
              " '__sizeof__',\n",
              " '__str__',\n",
              " '__subclasshook__',\n",
              " '__weakref__',\n",
              " '_collect_as_arrow',\n",
              " '_ipython_key_completions_',\n",
              " '_jcols',\n",
              " '_jdf',\n",
              " '_jmap',\n",
              " '_joinAsOf',\n",
              " '_jseq',\n",
              " '_lazy_rdd',\n",
              " '_repr_html_',\n",
              " '_sc',\n",
              " '_schema',\n",
              " '_session',\n",
              " '_show_string',\n",
              " '_sort_cols',\n",
              " '_sql_ctx',\n",
              " '_support_repr_html',\n",
              " 'agg',\n",
              " 'alias',\n",
              " 'approxQuantile',\n",
              " 'artist',\n",
              " 'auth',\n",
              " 'cache',\n",
              " 'checkpoint',\n",
              " 'coalesce',\n",
              " 'colRegex',\n",
              " 'collect',\n",
              " 'columns',\n",
              " 'corr',\n",
              " 'count',\n",
              " 'cov',\n",
              " 'createGlobalTempView',\n",
              " 'createOrReplaceGlobalTempView',\n",
              " 'createOrReplaceTempView',\n",
              " 'createTempView',\n",
              " 'crossJoin',\n",
              " 'crosstab',\n",
              " 'cube',\n",
              " 'describe',\n",
              " 'distinct',\n",
              " 'drop',\n",
              " 'dropDuplicates',\n",
              " 'dropDuplicatesWithinWatermark',\n",
              " 'drop_duplicates',\n",
              " 'dropna',\n",
              " 'dtypes',\n",
              " 'exceptAll',\n",
              " 'explain',\n",
              " 'fillna',\n",
              " 'filter',\n",
              " 'first',\n",
              " 'firstName',\n",
              " 'foreach',\n",
              " 'foreachPartition',\n",
              " 'freqItems',\n",
              " 'gender',\n",
              " 'groupBy',\n",
              " 'groupby',\n",
              " 'head',\n",
              " 'hint',\n",
              " 'inputFiles',\n",
              " 'intersect',\n",
              " 'intersectAll',\n",
              " 'isEmpty',\n",
              " 'isLocal',\n",
              " 'isStreaming',\n",
              " 'is_cached',\n",
              " 'itemInSession',\n",
              " 'join',\n",
              " 'lastName',\n",
              " 'length',\n",
              " 'level',\n",
              " 'limit',\n",
              " 'localCheckpoint',\n",
              " 'location',\n",
              " 'mapInArrow',\n",
              " 'mapInPandas',\n",
              " 'melt',\n",
              " 'method',\n",
              " 'na',\n",
              " 'observe',\n",
              " 'offset',\n",
              " 'orderBy',\n",
              " 'page',\n",
              " 'pandas_api',\n",
              " 'persist',\n",
              " 'printSchema',\n",
              " 'randomSplit',\n",
              " 'rdd',\n",
              " 'registerTempTable',\n",
              " 'registration',\n",
              " 'repartition',\n",
              " 'repartitionByRange',\n",
              " 'replace',\n",
              " 'rollup',\n",
              " 'sameSemantics',\n",
              " 'sample',\n",
              " 'sampleBy',\n",
              " 'schema',\n",
              " 'select',\n",
              " 'selectExpr',\n",
              " 'semanticHash',\n",
              " 'sessionId',\n",
              " 'show',\n",
              " 'song',\n",
              " 'sort',\n",
              " 'sortWithinPartitions',\n",
              " 'sparkSession',\n",
              " 'sql_ctx',\n",
              " 'stat',\n",
              " 'status',\n",
              " 'storageLevel',\n",
              " 'subtract',\n",
              " 'summary',\n",
              " 'tail',\n",
              " 'take',\n",
              " 'to',\n",
              " 'toDF',\n",
              " 'toJSON',\n",
              " 'toLocalIterator',\n",
              " 'toPandas',\n",
              " 'to_koalas',\n",
              " 'to_pandas_on_spark',\n",
              " 'transform',\n",
              " 'ts',\n",
              " 'union',\n",
              " 'unionAll',\n",
              " 'unionByName',\n",
              " 'unpersist',\n",
              " 'unpivot',\n",
              " 'userAgent',\n",
              " 'userId',\n",
              " 'where',\n",
              " 'withColumn',\n",
              " 'withColumnRenamed',\n",
              " 'withColumns',\n",
              " 'withColumnsRenamed',\n",
              " 'withMetadata',\n",
              " 'withWatermark',\n",
              " 'write',\n",
              " 'writeStream',\n",
              " 'writeTo']"
            ]
          },
          "metadata": {},
          "execution_count": 19
        }
      ]
    },
    {
      "cell_type": "code",
      "source": [
        "songs_log.take(5)"
      ],
      "metadata": {
        "colab": {
          "base_uri": "https://localhost:8080/"
        },
        "id": "JhFPhjSu-fgG",
        "outputId": "72266140-4db0-479e-8a55-c07063ec07a1"
      },
      "execution_count": 20,
      "outputs": [
        {
          "output_type": "execute_result",
          "data": {
            "text/plain": [
              "[Row(artist='Showaddywaddy', auth='Logged In', firstName='Kenneth', gender='M', itemInSession=112, lastName='Matthews', length=232.93342, level='paid', location='Charlotte-Concord-Gastonia, NC-SC', method='PUT', page='NextSong', registration=1509380319284, sessionId=5132, song='Christmas Tears Will Fall', status=200, ts=1513720872284, userAgent='\"Mozilla/5.0 (Windows NT 6.1) AppleWebKit/537.36 (KHTML, like Gecko) Chrome/36.0.1985.125 Safari/537.36\"', userId='1046'),\n",
              " Row(artist='Lily Allen', auth='Logged In', firstName='Elizabeth', gender='F', itemInSession=7, lastName='Chase', length=195.23873, level='free', location='Shreveport-Bossier City, LA', method='PUT', page='NextSong', registration=1512718541284, sessionId=5027, song='Cheryl Tweedy', status=200, ts=1513720878284, userAgent='\"Mozilla/5.0 (Windows NT 6.1) AppleWebKit/537.36 (KHTML, like Gecko) Chrome/36.0.1985.143 Safari/537.36\"', userId='1000'),\n",
              " Row(artist='Cobra Starship Featuring Leighton Meester', auth='Logged In', firstName='Vera', gender='F', itemInSession=6, lastName='Blackwell', length=196.20526, level='paid', location='Racine, WI', method='PUT', page='NextSong', registration=1499855749284, sessionId=5516, song='Good Girls Go Bad (Feat.Leighton Meester) (Album Version)', status=200, ts=1513720881284, userAgent='\"Mozilla/5.0 (Macintosh; Intel Mac OS X 10_9_4) AppleWebKit/537.78.2 (KHTML, like Gecko) Version/7.0.6 Safari/537.78.2\"', userId='2219'),\n",
              " Row(artist='Alex Smoke', auth='Logged In', firstName='Sophee', gender='F', itemInSession=8, lastName='Barker', length=405.99465, level='paid', location='San Luis Obispo-Paso Robles-Arroyo Grande, CA', method='PUT', page='NextSong', registration=1513009647284, sessionId=2372, song=\"Don't See The Point\", status=200, ts=1513720905284, userAgent='\"Mozilla/5.0 (Windows NT 6.1; WOW64) AppleWebKit/537.36 (KHTML, like Gecko) Chrome/36.0.1985.143 Safari/537.36\"', userId='2373'),\n",
              " Row(artist=None, auth='Logged In', firstName='Jordyn', gender='F', itemInSession=0, lastName='Jones', length=None, level='free', location='Syracuse, NY', method='GET', page='Home', registration=1513648531284, sessionId=1746, song=None, status=200, ts=1513720913284, userAgent='\"Mozilla/5.0 (Macintosh; Intel Mac OS X 10_9_4) AppleWebKit/537.36 (KHTML, like Gecko) Chrome/37.0.2062.94 Safari/537.36\"', userId='1747')]"
            ]
          },
          "metadata": {},
          "execution_count": 20
        }
      ]
    },
    {
      "cell_type": "code",
      "source": [
        "songs_log.show(n=13)"
      ],
      "metadata": {
        "colab": {
          "base_uri": "https://localhost:8080/"
        },
        "id": "cKpDgZlq-OlH",
        "outputId": "ca2050e4-ce8e-4650-9e93-dfff122f0ba3"
      },
      "execution_count": 23,
      "outputs": [
        {
          "output_type": "stream",
          "name": "stdout",
          "text": [
            "+--------------------+---------+---------+------+-------------+---------+---------+-----+--------------------+------+--------+-------------+---------+--------------------+------+-------------+--------------------+------+\n",
            "|              artist|     auth|firstName|gender|itemInSession| lastName|   length|level|            location|method|    page| registration|sessionId|                song|status|           ts|           userAgent|userId|\n",
            "+--------------------+---------+---------+------+-------------+---------+---------+-----+--------------------+------+--------+-------------+---------+--------------------+------+-------------+--------------------+------+\n",
            "|       Showaddywaddy|Logged In|  Kenneth|     M|          112| Matthews|232.93342| paid|Charlotte-Concord...|   PUT|NextSong|1509380319284|     5132|Christmas Tears W...|   200|1513720872284|\"Mozilla/5.0 (Win...|  1046|\n",
            "|          Lily Allen|Logged In|Elizabeth|     F|            7|    Chase|195.23873| free|Shreveport-Bossie...|   PUT|NextSong|1512718541284|     5027|       Cheryl Tweedy|   200|1513720878284|\"Mozilla/5.0 (Win...|  1000|\n",
            "|Cobra Starship Fe...|Logged In|     Vera|     F|            6|Blackwell|196.20526| paid|          Racine, WI|   PUT|NextSong|1499855749284|     5516|Good Girls Go Bad...|   200|1513720881284|\"Mozilla/5.0 (Mac...|  2219|\n",
            "|          Alex Smoke|Logged In|   Sophee|     F|            8|   Barker|405.99465| paid|San Luis Obispo-P...|   PUT|NextSong|1513009647284|     2372| Don't See The Point|   200|1513720905284|\"Mozilla/5.0 (Win...|  2373|\n",
            "|                NULL|Logged In|   Jordyn|     F|            0|    Jones|     NULL| free|        Syracuse, NY|   GET|    Home|1513648531284|     1746|                NULL|   200|1513720913284|\"Mozilla/5.0 (Mac...|  1747|\n",
            "|                NULL|Logged In|   Jordyn|     F|            1|    Jones|     NULL| free|        Syracuse, NY|   GET|Settings|1513648531284|     1746|                NULL|   200|1513720932284|\"Mozilla/5.0 (Mac...|  1747|\n",
            "|              Redman|Logged In|    Paige|     F|            0|   Hunter|154.53995| free|       Brownwood, TX|   PUT|NextSong|1498414068284|     4406|        Smoke Buddah|   200|1513720955284|\"Mozilla/5.0 (Mac...|  1162|\n",
            "|     Ulrich Schnauss|Logged In|  Gabriel|     M|            2|     Koch|402.93832| paid|     Panama City, FL|   PUT|NextSong|1505820418284|     1060|           On My Own|   200|1513720959284|Mozilla/5.0 (Wind...|  1061|\n",
            "|                NULL|Logged In|    Mason|     M|            2|   Thomas|     NULL| paid|Indianapolis-Carm...|   GET|    Home|1487015656284|     5661|                NULL|   200|1513720959284|Mozilla/5.0 (comp...|   748|\n",
            "|                NULL|Logged In|Alexander|     M|            0|    Short|     NULL| free|       Green Bay, WI|   GET|    Home|1513594398284|     3689|                NULL|   200|1513720980284|\"Mozilla/5.0 (Win...|   597|\n",
            "|               Jay-Z|Logged In|  Micheal|     M|           23|   Morgan|223.26812| paid|        Sterling, CO|   PUT|NextSong|1485051492284|     5175|Heart Of The City...|   200|1513720983284|\"Mozilla/5.0 (Win...|  1806|\n",
            "|         Evanescence|Logged In|    Mason|     M|            3|   Thomas|237.11302| paid|Indianapolis-Carm...|   PUT|NextSong|1487015656284|     5661|    Bring Me To Life|   200|1513720993284|Mozilla/5.0 (comp...|   748|\n",
            "|     Scissor Sisters|Logged In|   Justin|     M|           82|    Jones|218.01751| paid|          Dayton, TN|   PUT|NextSong|1504706730284|     1175|               Laura|   200|1513721031284|\"Mozilla/5.0 (Win...|  1176|\n",
            "+--------------------+---------+---------+------+-------------+---------+---------+-----+--------------------+------+--------+-------------+---------+--------------------+------+-------------+--------------------+------+\n",
            "only showing top 13 rows\n",
            "\n"
          ]
        }
      ]
    },
    {
      "cell_type": "code",
      "source": [
        "songs_log.groupBy('artist').count().show()"
      ],
      "metadata": {
        "colab": {
          "base_uri": "https://localhost:8080/"
        },
        "id": "wr49SH7e-OoT",
        "outputId": "16c50479-7c95-48b5-8469-4084e5e4b4f0"
      },
      "execution_count": 24,
      "outputs": [
        {
          "output_type": "stream",
          "name": "stdout",
          "text": [
            "+--------------------+-----+\n",
            "|              artist|count|\n",
            "+--------------------+-----+\n",
            "|      The Black Keys|   40|\n",
            "|        STRATOVARIUS|    1|\n",
            "|      The Chameleons|    1|\n",
            "|Dashboard Confess...|    3|\n",
            "|      Jarabe De Palo|    3|\n",
            "|        Ziggy Marley|    1|\n",
            "|        Yann Tiersen|   10|\n",
            "|  The Watts Prophets|    1|\n",
            "|            Goldfish|    1|\n",
            "|           Kate Nash|    3|\n",
            "|              DJ Taz|    1|\n",
            "|    Jane's Addiction|    1|\n",
            "|         Eva Cassidy|    4|\n",
            "|               Rufio|    1|\n",
            "|           Los Lobos|    4|\n",
            "|         Silverstein|    1|\n",
            "|        Rhett Miller|    1|\n",
            "|              Nebula|    1|\n",
            "|Yonder Mountain S...|    1|\n",
            "|     Groove Coverage|    1|\n",
            "+--------------------+-----+\n",
            "only showing top 20 rows\n",
            "\n"
          ]
        }
      ]
    },
    {
      "cell_type": "code",
      "source": [
        "songs_log.drop_duplicates().show()"
      ],
      "metadata": {
        "colab": {
          "base_uri": "https://localhost:8080/"
        },
        "id": "VLXWcYF3-Oqd",
        "outputId": "7ab74ffd-703f-4def-ba34-1b493cde67de"
      },
      "execution_count": 25,
      "outputs": [
        {
          "output_type": "stream",
          "name": "stdout",
          "text": [
            "+--------------------+---------+---------+------+-------------+----------+---------+-----+--------------------+------+--------+-------------+---------+--------------------+------+-------------+--------------------+------+\n",
            "|              artist|     auth|firstName|gender|itemInSession|  lastName|   length|level|            location|method|    page| registration|sessionId|                song|status|           ts|           userAgent|userId|\n",
            "+--------------------+---------+---------+------+-------------+----------+---------+-----+--------------------+------+--------+-------------+---------+--------------------+------+-------------+--------------------+------+\n",
            "|               Petra|Logged In|  Gabriel|     M|           10|      Koch|291.05587| paid|     Panama City, FL|   PUT|NextSong|1505820418284|     1060|         Whole World|   200|1513723045284|Mozilla/5.0 (Wind...|  1061|\n",
            "|     Alliance Ethnik|Logged In|  Abigail|     F|           36|  Davidson|252.21179| paid|Lansing-East Lans...|   PUT|NextSong|1513173389284|     4591|       ReprÃÂ©sente|   200|1513728452284|\"Mozilla/5.0 (Mac...|   226|\n",
            "|Chris Brown featu...|Logged In| Karleigh|     F|           13|Valenzuela|250.67057| paid|Wisconsin Rapids-...|   PUT|NextSong|1489899558284|     4934|           Kiss Kiss|   200|1513734425284|\"Mozilla/5.0 (Mac...|  2462|\n",
            "|          The Script|Logged In| Jonathan|     M|           51|   Webster|260.67546| paid|Los Angeles-Long ...|   PUT|NextSong|1505697773284|     1078|           Breakeven|   200|1513760229284|\"Mozilla/5.0 (Mac...|  1079|\n",
            "|   Cage The Elephant|Logged In|   Alexis|     F|            7|      Diaz|197.38077| paid|    Fort Collins, CO|   PUT|NextSong|1495269268284|      173|     Soil To The Sun|   200|1513770782284|\"Mozilla/5.0 (Win...|   174|\n",
            "|Two Door Cinema Club|Logged In|   Evelyn|     F|            0|    Norman|190.56281| paid|Atlanta-Sandy Spr...|   PUT|NextSong|1508811189284|     6145|You Are Not Stubborn|   200|1513777209284|Mozilla/5.0 (Wind...|  1579|\n",
            "|           Relient K|Logged In|   Tyanna|     F|           23|     Jones|238.94159| paid|       Cedartown, GA|   PUT|NextSong|1487337122284|     2293|Jefferson Aeropla...|   200|1513777797284|\"Mozilla/5.0 (Win...|  2294|\n",
            "|           Metallica|Logged In|   Tyanna|     F|           41|     Jones|515.21261| paid|       Cedartown, GA|   PUT|NextSong|1487337122284|     2293|   Master Of Puppets|   200|1513781025284|\"Mozilla/5.0 (Win...|  2294|\n",
            "|        Beastie Boys|Logged In|   Robert|     M|            0|     Glass|228.91057| free|San Antonio-New B...|   PUT|NextSong|1508720158284|     5293|Alive (Digitally ...|   200|1513781079284|\"Mozilla/5.0 (Win...|  1403|\n",
            "|Alison Krauss / U...|Logged In|     Kade|     M|           29|     Jones|200.12363| paid|        Key West, FL|   PUT|NextSong|1508056774284|      597|Let Me Touch You ...|   200|1513781913284|Mozilla/5.0 (Wind...|   598|\n",
            "|         Josh Groban|Logged In|   Calvin|     M|            0|    Wright|265.27302| free|         Jackson, MS|   PUT|NextSong|1503455052284|     5699|Un Amore Per Semp...|   200|1513782699284|\"Mozilla/5.0 (Mac...|  2361|\n",
            "|              Metric|Logged In|   Olivia|     F|            0|    Oneill|286.24934| paid|Allentown-Bethleh...|   PUT|NextSong|1488509117284|     1084|      Help I'm Alive|   200|1513785525284|\"Mozilla/5.0 (Mac...|  1085|\n",
            "|Steppenwolf / Joh...|Logged In|    Mason|     M|           46|    Thomas|233.82159| paid|Indianapolis-Carm...|   PUT|NextSong|1487015656284|     5909|    Snowblind Friend|   200|1513785689284|Mozilla/5.0 (comp...|   748|\n",
            "|          Kanye West|Logged In|   Hayden|     M|            2| Hernandez| 203.4673| free|     Terre Haute, IN|   PUT|NextSong|1505062364284|      358|          Homecoming|   200|1513786508284|Mozilla/5.0 (Wind...|   359|\n",
            "| Angels and Airwaves|Logged In|    Tyler|     M|            1|      Lutz|302.05342| free|Cincinnati, OH-KY-IN|   PUT|NextSong|1506469292284|     3659|            The Gift|   200|1513786578284|\"Mozilla/5.0 (Mac...|  2885|\n",
            "|           Cleopatra|Logged In|    Kaden|     M|           10|    Mclean|249.20771| paid|Phoenix-Mesa-Scot...|   PUT|NextSong|1504346253284|     5642|   Cleopatra's Theme|   200|1513788024284|\"Mozilla/5.0 (Mac...|  1611|\n",
            "|The Pretend It's ...|Logged In|   Kamani|     F|            9|    Suarez|265.53424| paid|    Worcester, MA-CT|   PUT|NextSong|1507035661284|     4610|It's Christmas So...|   200|1513789093284|\"Mozilla/5.0 (Win...|  2281|\n",
            "|             Man Man|Logged In|  Enrique|     M|            5|    Miller|617.87383| paid|Chicago-Napervill...|   PUT|NextSong|1500182660284|     6616|Werewolf (on the ...|   200|1513789902284|\"Mozilla/5.0 (Win...|    58|\n",
            "|    Edith MÃÂ¡rquez|Logged In|     Jack|     M|           44|     Kelly|295.96689| paid|Los Angeles-Long ...|   PUT|NextSong|1492304380284|     5341|VuÃÂ©lveme A Querer|   200|1513790235284|\"Mozilla/5.0 (Mac...|  1869|\n",
            "|       The Cardigans|Logged In|  Brianna|     F|            1|  Townsend|272.01261| free|          Fresno, CA|   PUT|NextSong|1513349836284|     6134|Lead Me Into The ...|   200|1513794454284|\"Mozilla/5.0 (Mac...|  1851|\n",
            "+--------------------+---------+---------+------+-------------+----------+---------+-----+--------------------+------+--------+-------------+---------+--------------------+------+-------------+--------------------+------+\n",
            "only showing top 20 rows\n",
            "\n"
          ]
        }
      ]
    },
    {
      "cell_type": "code",
      "source": [
        "songs_log.distinct().show()"
      ],
      "metadata": {
        "colab": {
          "base_uri": "https://localhost:8080/"
        },
        "id": "vEmDLuRP-C1n",
        "outputId": "f6849611-c69a-4743-aa38-425956dd3cc1"
      },
      "execution_count": 26,
      "outputs": [
        {
          "output_type": "stream",
          "name": "stdout",
          "text": [
            "+--------------------+---------+---------+------+-------------+----------+---------+-----+--------------------+------+--------+-------------+---------+--------------------+------+-------------+--------------------+------+\n",
            "|              artist|     auth|firstName|gender|itemInSession|  lastName|   length|level|            location|method|    page| registration|sessionId|                song|status|           ts|           userAgent|userId|\n",
            "+--------------------+---------+---------+------+-------------+----------+---------+-----+--------------------+------+--------+-------------+---------+--------------------+------+-------------+--------------------+------+\n",
            "|               Petra|Logged In|  Gabriel|     M|           10|      Koch|291.05587| paid|     Panama City, FL|   PUT|NextSong|1505820418284|     1060|         Whole World|   200|1513723045284|Mozilla/5.0 (Wind...|  1061|\n",
            "|     Alliance Ethnik|Logged In|  Abigail|     F|           36|  Davidson|252.21179| paid|Lansing-East Lans...|   PUT|NextSong|1513173389284|     4591|       ReprÃÂ©sente|   200|1513728452284|\"Mozilla/5.0 (Mac...|   226|\n",
            "|Chris Brown featu...|Logged In| Karleigh|     F|           13|Valenzuela|250.67057| paid|Wisconsin Rapids-...|   PUT|NextSong|1489899558284|     4934|           Kiss Kiss|   200|1513734425284|\"Mozilla/5.0 (Mac...|  2462|\n",
            "|          The Script|Logged In| Jonathan|     M|           51|   Webster|260.67546| paid|Los Angeles-Long ...|   PUT|NextSong|1505697773284|     1078|           Breakeven|   200|1513760229284|\"Mozilla/5.0 (Mac...|  1079|\n",
            "|   Cage The Elephant|Logged In|   Alexis|     F|            7|      Diaz|197.38077| paid|    Fort Collins, CO|   PUT|NextSong|1495269268284|      173|     Soil To The Sun|   200|1513770782284|\"Mozilla/5.0 (Win...|   174|\n",
            "|Two Door Cinema Club|Logged In|   Evelyn|     F|            0|    Norman|190.56281| paid|Atlanta-Sandy Spr...|   PUT|NextSong|1508811189284|     6145|You Are Not Stubborn|   200|1513777209284|Mozilla/5.0 (Wind...|  1579|\n",
            "|           Relient K|Logged In|   Tyanna|     F|           23|     Jones|238.94159| paid|       Cedartown, GA|   PUT|NextSong|1487337122284|     2293|Jefferson Aeropla...|   200|1513777797284|\"Mozilla/5.0 (Win...|  2294|\n",
            "|           Metallica|Logged In|   Tyanna|     F|           41|     Jones|515.21261| paid|       Cedartown, GA|   PUT|NextSong|1487337122284|     2293|   Master Of Puppets|   200|1513781025284|\"Mozilla/5.0 (Win...|  2294|\n",
            "|        Beastie Boys|Logged In|   Robert|     M|            0|     Glass|228.91057| free|San Antonio-New B...|   PUT|NextSong|1508720158284|     5293|Alive (Digitally ...|   200|1513781079284|\"Mozilla/5.0 (Win...|  1403|\n",
            "|Alison Krauss / U...|Logged In|     Kade|     M|           29|     Jones|200.12363| paid|        Key West, FL|   PUT|NextSong|1508056774284|      597|Let Me Touch You ...|   200|1513781913284|Mozilla/5.0 (Wind...|   598|\n",
            "|         Josh Groban|Logged In|   Calvin|     M|            0|    Wright|265.27302| free|         Jackson, MS|   PUT|NextSong|1503455052284|     5699|Un Amore Per Semp...|   200|1513782699284|\"Mozilla/5.0 (Mac...|  2361|\n",
            "|              Metric|Logged In|   Olivia|     F|            0|    Oneill|286.24934| paid|Allentown-Bethleh...|   PUT|NextSong|1488509117284|     1084|      Help I'm Alive|   200|1513785525284|\"Mozilla/5.0 (Mac...|  1085|\n",
            "|Steppenwolf / Joh...|Logged In|    Mason|     M|           46|    Thomas|233.82159| paid|Indianapolis-Carm...|   PUT|NextSong|1487015656284|     5909|    Snowblind Friend|   200|1513785689284|Mozilla/5.0 (comp...|   748|\n",
            "|          Kanye West|Logged In|   Hayden|     M|            2| Hernandez| 203.4673| free|     Terre Haute, IN|   PUT|NextSong|1505062364284|      358|          Homecoming|   200|1513786508284|Mozilla/5.0 (Wind...|   359|\n",
            "| Angels and Airwaves|Logged In|    Tyler|     M|            1|      Lutz|302.05342| free|Cincinnati, OH-KY-IN|   PUT|NextSong|1506469292284|     3659|            The Gift|   200|1513786578284|\"Mozilla/5.0 (Mac...|  2885|\n",
            "|           Cleopatra|Logged In|    Kaden|     M|           10|    Mclean|249.20771| paid|Phoenix-Mesa-Scot...|   PUT|NextSong|1504346253284|     5642|   Cleopatra's Theme|   200|1513788024284|\"Mozilla/5.0 (Mac...|  1611|\n",
            "|The Pretend It's ...|Logged In|   Kamani|     F|            9|    Suarez|265.53424| paid|    Worcester, MA-CT|   PUT|NextSong|1507035661284|     4610|It's Christmas So...|   200|1513789093284|\"Mozilla/5.0 (Win...|  2281|\n",
            "|             Man Man|Logged In|  Enrique|     M|            5|    Miller|617.87383| paid|Chicago-Napervill...|   PUT|NextSong|1500182660284|     6616|Werewolf (on the ...|   200|1513789902284|\"Mozilla/5.0 (Win...|    58|\n",
            "|    Edith MÃÂ¡rquez|Logged In|     Jack|     M|           44|     Kelly|295.96689| paid|Los Angeles-Long ...|   PUT|NextSong|1492304380284|     5341|VuÃÂ©lveme A Querer|   200|1513790235284|\"Mozilla/5.0 (Mac...|  1869|\n",
            "|       The Cardigans|Logged In|  Brianna|     F|            1|  Townsend|272.01261| free|          Fresno, CA|   PUT|NextSong|1513349836284|     6134|Lead Me Into The ...|   200|1513794454284|\"Mozilla/5.0 (Mac...|  1851|\n",
            "+--------------------+---------+---------+------+-------------+----------+---------+-----+--------------------+------+--------+-------------+---------+--------------------+------+-------------+--------------------+------+\n",
            "only showing top 20 rows\n",
            "\n"
          ]
        }
      ]
    },
    {
      "cell_type": "code",
      "source": [
        "songs_log.dropDuplicates()"
      ],
      "metadata": {
        "colab": {
          "base_uri": "https://localhost:8080/"
        },
        "id": "Iw_Ow0m8-C4m",
        "outputId": "904d2d4e-9f07-47d3-bb4c-97010e3ec220"
      },
      "execution_count": 27,
      "outputs": [
        {
          "output_type": "execute_result",
          "data": {
            "text/plain": [
              "DataFrame[artist: string, auth: string, firstName: string, gender: string, itemInSession: bigint, lastName: string, length: double, level: string, location: string, method: string, page: string, registration: bigint, sessionId: bigint, song: string, status: bigint, ts: bigint, userAgent: string, userId: string]"
            ]
          },
          "metadata": {},
          "execution_count": 27
        }
      ]
    },
    {
      "cell_type": "code",
      "source": [
        "songs_log.describe()"
      ],
      "metadata": {
        "colab": {
          "base_uri": "https://localhost:8080/"
        },
        "id": "LaIYQNd098fb",
        "outputId": "139b3f93-47b2-4d1d-8b4b-1e77a838ef46"
      },
      "execution_count": 28,
      "outputs": [
        {
          "output_type": "execute_result",
          "data": {
            "text/plain": [
              "DataFrame[summary: string, artist: string, auth: string, firstName: string, gender: string, itemInSession: string, lastName: string, length: string, level: string, location: string, method: string, page: string, registration: string, sessionId: string, song: string, status: string, ts: string, userAgent: string, userId: string]"
            ]
          },
          "metadata": {},
          "execution_count": 28
        }
      ]
    },
    {
      "cell_type": "code",
      "source": [
        "# Save the songs_log file to a csv file\n",
        "out_path = \"/content/pyspark/spark_log_small.csv\"\n",
        "songs_log.write.save(out_path, format=\"csv\", header=True)"
      ],
      "metadata": {
        "id": "JvHzq7HB-yi_"
      },
      "execution_count": 30,
      "outputs": []
    },
    {
      "cell_type": "code",
      "source": [
        "songs_log = spark.read.csv(out_path, header=True)"
      ],
      "metadata": {
        "id": "JfkoBJyn-yl2"
      },
      "execution_count": 31,
      "outputs": []
    },
    {
      "cell_type": "code",
      "source": [
        "songs_log.printSchema()"
      ],
      "metadata": {
        "colab": {
          "base_uri": "https://localhost:8080/"
        },
        "id": "J3zDymBt-_mH",
        "outputId": "b50eaf05-852f-434a-9d7b-417097335c7e"
      },
      "execution_count": 32,
      "outputs": [
        {
          "output_type": "stream",
          "name": "stdout",
          "text": [
            "root\n",
            " |-- artist: string (nullable = true)\n",
            " |-- auth: string (nullable = true)\n",
            " |-- firstName: string (nullable = true)\n",
            " |-- gender: string (nullable = true)\n",
            " |-- itemInSession: string (nullable = true)\n",
            " |-- lastName: string (nullable = true)\n",
            " |-- length: string (nullable = true)\n",
            " |-- level: string (nullable = true)\n",
            " |-- location: string (nullable = true)\n",
            " |-- method: string (nullable = true)\n",
            " |-- page: string (nullable = true)\n",
            " |-- registration: string (nullable = true)\n",
            " |-- sessionId: string (nullable = true)\n",
            " |-- song: string (nullable = true)\n",
            " |-- status: string (nullable = true)\n",
            " |-- ts: string (nullable = true)\n",
            " |-- userAgent: string (nullable = true)\n",
            " |-- userId: string (nullable = true)\n",
            "\n"
          ]
        }
      ]
    },
    {
      "cell_type": "code",
      "source": [
        "songs_log.take(12)"
      ],
      "metadata": {
        "colab": {
          "base_uri": "https://localhost:8080/"
        },
        "id": "LzYYqJOS-_jd",
        "outputId": "5df25ece-f29f-4758-d2f6-2f231a9c83b0"
      },
      "execution_count": 34,
      "outputs": [
        {
          "output_type": "execute_result",
          "data": {
            "text/plain": [
              "[Row(artist='Showaddywaddy', auth='Logged In', firstName='Kenneth', gender='M', itemInSession='112', lastName='Matthews', length='232.93342', level='paid', location='Charlotte-Concord-Gastonia, NC-SC', method='PUT', page='NextSong', registration='1509380319284', sessionId='5132', song='Christmas Tears Will Fall', status='200', ts='1513720872284', userAgent='\"Mozilla/5.0 (Windows NT 6.1) AppleWebKit/537.36 (KHTML, like Gecko) Chrome/36.0.1985.125 Safari/537.36\"', userId='1046'),\n",
              " Row(artist='Lily Allen', auth='Logged In', firstName='Elizabeth', gender='F', itemInSession='7', lastName='Chase', length='195.23873', level='free', location='Shreveport-Bossier City, LA', method='PUT', page='NextSong', registration='1512718541284', sessionId='5027', song='Cheryl Tweedy', status='200', ts='1513720878284', userAgent='\"Mozilla/5.0 (Windows NT 6.1) AppleWebKit/537.36 (KHTML, like Gecko) Chrome/36.0.1985.143 Safari/537.36\"', userId='1000'),\n",
              " Row(artist='Cobra Starship Featuring Leighton Meester', auth='Logged In', firstName='Vera', gender='F', itemInSession='6', lastName='Blackwell', length='196.20526', level='paid', location='Racine, WI', method='PUT', page='NextSong', registration='1499855749284', sessionId='5516', song='Good Girls Go Bad (Feat.Leighton Meester) (Album Version)', status='200', ts='1513720881284', userAgent='\"Mozilla/5.0 (Macintosh; Intel Mac OS X 10_9_4) AppleWebKit/537.78.2 (KHTML, like Gecko) Version/7.0.6 Safari/537.78.2\"', userId='2219'),\n",
              " Row(artist='Alex Smoke', auth='Logged In', firstName='Sophee', gender='F', itemInSession='8', lastName='Barker', length='405.99465', level='paid', location='San Luis Obispo-Paso Robles-Arroyo Grande, CA', method='PUT', page='NextSong', registration='1513009647284', sessionId='2372', song=\"Don't See The Point\", status='200', ts='1513720905284', userAgent='\"Mozilla/5.0 (Windows NT 6.1; WOW64) AppleWebKit/537.36 (KHTML, like Gecko) Chrome/36.0.1985.143 Safari/537.36\"', userId='2373'),\n",
              " Row(artist=None, auth='Logged In', firstName='Jordyn', gender='F', itemInSession='0', lastName='Jones', length=None, level='free', location='Syracuse, NY', method='GET', page='Home', registration='1513648531284', sessionId='1746', song=None, status='200', ts='1513720913284', userAgent='\"Mozilla/5.0 (Macintosh; Intel Mac OS X 10_9_4) AppleWebKit/537.36 (KHTML, like Gecko) Chrome/37.0.2062.94 Safari/537.36\"', userId='1747'),\n",
              " Row(artist=None, auth='Logged In', firstName='Jordyn', gender='F', itemInSession='1', lastName='Jones', length=None, level='free', location='Syracuse, NY', method='GET', page='Settings', registration='1513648531284', sessionId='1746', song=None, status='200', ts='1513720932284', userAgent='\"Mozilla/5.0 (Macintosh; Intel Mac OS X 10_9_4) AppleWebKit/537.36 (KHTML, like Gecko) Chrome/37.0.2062.94 Safari/537.36\"', userId='1747'),\n",
              " Row(artist='Redman', auth='Logged In', firstName='Paige', gender='F', itemInSession='0', lastName='Hunter', length='154.53995', level='free', location='Brownwood, TX', method='PUT', page='NextSong', registration='1498414068284', sessionId='4406', song='Smoke Buddah', status='200', ts='1513720955284', userAgent='\"Mozilla/5.0 (Macintosh; Intel Mac OS X 10_9_4) AppleWebKit/537.36 (KHTML, like Gecko) Chrome/37.0.2062.94 Safari/537.36\"', userId='1162'),\n",
              " Row(artist='Ulrich Schnauss', auth='Logged In', firstName='Gabriel', gender='M', itemInSession='2', lastName='Koch', length='402.93832', level='paid', location='Panama City, FL', method='PUT', page='NextSong', registration='1505820418284', sessionId='1060', song='On My Own', status='200', ts='1513720959284', userAgent='Mozilla/5.0 (Windows NT 6.1; WOW64; rv:32.0) Gecko/20100101 Firefox/32.0', userId='1061'),\n",
              " Row(artist=None, auth='Logged In', firstName='Mason', gender='M', itemInSession='2', lastName='Thomas', length=None, level='paid', location='Indianapolis-Carmel-Anderson, IN', method='GET', page='Home', registration='1487015656284', sessionId='5661', song=None, status='200', ts='1513720959284', userAgent='Mozilla/5.0 (compatible; MSIE 10.0; Windows NT 6.2; WOW64; Trident/6.0)', userId='748'),\n",
              " Row(artist=None, auth='Logged In', firstName='Alexander', gender='M', itemInSession='0', lastName='Short', length=None, level='free', location='Green Bay, WI', method='GET', page='Home', registration='1513594398284', sessionId='3689', song=None, status='200', ts='1513720980284', userAgent='\"Mozilla/5.0 (Windows NT 6.1; WOW64) AppleWebKit/537.36 (KHTML, like Gecko) Chrome/36.0.1985.125 Safari/537.36\"', userId='597'),\n",
              " Row(artist='Jay-Z', auth='Logged In', firstName='Micheal', gender='M', itemInSession='23', lastName='Morgan', length='223.26812', level='paid', location='Sterling, CO', method='PUT', page='NextSong', registration='1485051492284', sessionId='5175', song=\"Heart Of The City (Ain't No Love)\", status='200', ts='1513720983284', userAgent='\"Mozilla/5.0 (Windows NT 6.1; WOW64) AppleWebKit/537.36 (KHTML, like Gecko) Chrome/36.0.1985.143 Safari/537.36\"', userId='1806'),\n",
              " Row(artist='Evanescence', auth='Logged In', firstName='Mason', gender='M', itemInSession='3', lastName='Thomas', length='237.11302', level='paid', location='Indianapolis-Carmel-Anderson, IN', method='PUT', page='NextSong', registration='1487015656284', sessionId='5661', song='Bring Me To Life', status='200', ts='1513720993284', userAgent='Mozilla/5.0 (compatible; MSIE 10.0; Windows NT 6.2; WOW64; Trident/6.0)', userId='748')]"
            ]
          },
          "metadata": {},
          "execution_count": 34
        }
      ]
    },
    {
      "cell_type": "code",
      "source": [
        "songs_log.select(\"userID\").show(n=5)"
      ],
      "metadata": {
        "colab": {
          "base_uri": "https://localhost:8080/"
        },
        "id": "VFIeEHOB-_gk",
        "outputId": "cf44d406-9310-4d52-c297-ab541a0f39a5"
      },
      "execution_count": 37,
      "outputs": [
        {
          "output_type": "stream",
          "name": "stdout",
          "text": [
            "+------+\n",
            "|userID|\n",
            "+------+\n",
            "|  1046|\n",
            "|  1000|\n",
            "|  2219|\n",
            "|  2373|\n",
            "|  1747|\n",
            "+------+\n",
            "only showing top 5 rows\n",
            "\n"
          ]
        }
      ]
    },
    {
      "cell_type": "code",
      "source": [
        "songs_log.select(\"level\").show(n=7)"
      ],
      "metadata": {
        "colab": {
          "base_uri": "https://localhost:8080/"
        },
        "id": "cGd4eBH9-_dH",
        "outputId": "9ced83c9-c82e-4bde-c8bb-9a8b8b976c63"
      },
      "execution_count": 38,
      "outputs": [
        {
          "output_type": "stream",
          "name": "stdout",
          "text": [
            "+-----+\n",
            "|level|\n",
            "+-----+\n",
            "| paid|\n",
            "| free|\n",
            "| paid|\n",
            "| paid|\n",
            "| free|\n",
            "| free|\n",
            "| free|\n",
            "+-----+\n",
            "only showing top 7 rows\n",
            "\n"
          ]
        }
      ]
    },
    {
      "cell_type": "code",
      "source": [
        "# Data Exploration\n",
        "from pyspark.sql import SparkSession\n",
        "from pyspark.sql.functions import udf\n",
        "from pyspark.sql.types import StringType\n",
        "from pyspark.sql.types import IntegerType\n",
        "from pyspark.sql.functions import desc\n",
        "from pyspark.sql.functions import asc\n",
        "from pyspark.sql.functions import sum as Fsum\n",
        "\n",
        "import datetime\n",
        "\n",
        "import numpy as np\n",
        "import pandas as pd\n",
        "%matplotlib inline\n",
        "import matplotlib.pyplot as plt"
      ],
      "metadata": {
        "id": "EcZKquNH_Q5G"
      },
      "execution_count": 39,
      "outputs": []
    },
    {
      "cell_type": "code",
      "source": [
        "path = \"/content/pyspark/sparkify_log_small.json\"\n",
        "user_log = spark.read.json(path)"
      ],
      "metadata": {
        "id": "CmW1vgl9_Q72"
      },
      "execution_count": 41,
      "outputs": []
    },
    {
      "cell_type": "code",
      "source": [
        "user_log.describe(\"registration\", \"sessionId\").show()"
      ],
      "metadata": {
        "colab": {
          "base_uri": "https://localhost:8080/"
        },
        "id": "G2U43Vs-_h60",
        "outputId": "c68ba4a4-0c82-4c7d-812c-185615dcdf71"
      },
      "execution_count": 42,
      "outputs": [
        {
          "output_type": "stream",
          "name": "stdout",
          "text": [
            "+-------+--------------------+------------------+\n",
            "|summary|        registration|         sessionId|\n",
            "+-------+--------------------+------------------+\n",
            "|  count|                9664|             10000|\n",
            "|   mean|1.504695369588739...|         4436.7511|\n",
            "| stddev| 8.473142521316586E9|2043.1281541827552|\n",
            "|    min|       1463503881284|                 9|\n",
            "|    max|       1513760702284|              7144|\n",
            "+-------+--------------------+------------------+\n",
            "\n"
          ]
        }
      ]
    },
    {
      "cell_type": "code",
      "source": [
        "user_log.count()"
      ],
      "metadata": {
        "colab": {
          "base_uri": "https://localhost:8080/"
        },
        "id": "s4aIaanF_h38",
        "outputId": "344b1061-7935-4022-aaad-4ed3cf0fe842"
      },
      "execution_count": 43,
      "outputs": [
        {
          "output_type": "execute_result",
          "data": {
            "text/plain": [
              "10000"
            ]
          },
          "metadata": {},
          "execution_count": 43
        }
      ]
    },
    {
      "cell_type": "code",
      "source": [
        "user_log.select(\"page\").dropDuplicates().sort(\"page\").show()"
      ],
      "metadata": {
        "colab": {
          "base_uri": "https://localhost:8080/"
        },
        "id": "CKJduOBb_h0t",
        "outputId": "f2193811-4ba0-4239-ba78-a9541a73d0bf"
      },
      "execution_count": 44,
      "outputs": [
        {
          "output_type": "stream",
          "name": "stdout",
          "text": [
            "+----------------+\n",
            "|            page|\n",
            "+----------------+\n",
            "|           About|\n",
            "|       Downgrade|\n",
            "|           Error|\n",
            "|            Help|\n",
            "|            Home|\n",
            "|           Login|\n",
            "|          Logout|\n",
            "|        NextSong|\n",
            "|   Save Settings|\n",
            "|        Settings|\n",
            "|Submit Downgrade|\n",
            "|  Submit Upgrade|\n",
            "|         Upgrade|\n",
            "+----------------+\n",
            "\n"
          ]
        }
      ]
    },
    {
      "cell_type": "code",
      "source": [
        "user_log.select(\n",
        "    [\"userId\", \"firstname\", \"page\", \"song\"]\n",
        "    ).where(user_log.userId == \"1000\").collect()"
      ],
      "metadata": {
        "colab": {
          "base_uri": "https://localhost:8080/"
        },
        "id": "IFp9rZwIAFLV",
        "outputId": "acabbf4a-132d-4cdf-b515-59bb161e2e1a"
      },
      "execution_count": 45,
      "outputs": [
        {
          "output_type": "execute_result",
          "data": {
            "text/plain": [
              "[Row(userId='1000', firstname='Elizabeth', page='NextSong', song='Cheryl Tweedy')]"
            ]
          },
          "metadata": {},
          "execution_count": 45
        }
      ]
    },
    {
      "cell_type": "code",
      "source": [
        "user_log.select([\"userId\", \"firstname\"]).groupBy(\"userId\").count().collect()\n",
        "\n",
        "#user_log.select(\"userId\").sort(\"userId\").dropDuplicates().show()"
      ],
      "metadata": {
        "colab": {
          "base_uri": "https://localhost:8080/"
        },
        "id": "EdDufJjtAJ8-",
        "outputId": "85ace0ef-3e52-437c-ae80-d71eea5de1b1"
      },
      "execution_count": 46,
      "outputs": [
        {
          "output_type": "execute_result",
          "data": {
            "text/plain": [
              "[Row(userId='2904', count=1),\n",
              " Row(userId='691', count=4),\n",
              " Row(userId='2294', count=62),\n",
              " Row(userId='2162', count=39),\n",
              " Row(userId='1436', count=2),\n",
              " Row(userId='2088', count=14),\n",
              " Row(userId='2275', count=5),\n",
              " Row(userId='2756', count=8),\n",
              " Row(userId='800', count=3),\n",
              " Row(userId='1394', count=28),\n",
              " Row(userId='926', count=7),\n",
              " Row(userId='1746', count=2),\n",
              " Row(userId='2696', count=2),\n",
              " Row(userId='1280', count=2),\n",
              " Row(userId='870', count=2),\n",
              " Row(userId='7', count=2),\n",
              " Row(userId='1903', count=7),\n",
              " Row(userId='591', count=1),\n",
              " Row(userId='613', count=4),\n",
              " Row(userId='574', count=7),\n",
              " Row(userId='307', count=1),\n",
              " Row(userId='577', count=2),\n",
              " Row(userId='2402', count=4),\n",
              " Row(userId='2644', count=1),\n",
              " Row(userId='1043', count=3),\n",
              " Row(userId='1349', count=12),\n",
              " Row(userId='2964', count=1),\n",
              " Row(userId='462', count=122),\n",
              " Row(userId='1418', count=4),\n",
              " Row(userId='647', count=1),\n",
              " Row(userId='2392', count=1),\n",
              " Row(userId='2200', count=1),\n",
              " Row(userId='2980', count=9),\n",
              " Row(userId='442', count=7),\n",
              " Row(userId='2531', count=1),\n",
              " Row(userId='700', count=20),\n",
              " Row(userId='2628', count=3),\n",
              " Row(userId='448', count=1),\n",
              " Row(userId='282', count=8),\n",
              " Row(userId='1686', count=5),\n",
              " Row(userId='2720', count=1),\n",
              " Row(userId='2812', count=11),\n",
              " Row(userId='2988', count=2),\n",
              " Row(userId='1158', count=10),\n",
              " Row(userId='1377', count=3),\n",
              " Row(userId='862', count=1),\n",
              " Row(userId='635', count=1),\n",
              " Row(userId='1304', count=1),\n",
              " Row(userId='2415', count=1),\n",
              " Row(userId='1412', count=1),\n",
              " Row(userId='714', count=1),\n",
              " Row(userId='2079', count=8),\n",
              " Row(userId='2115', count=4),\n",
              " Row(userId='1290', count=100),\n",
              " Row(userId='625', count=2),\n",
              " Row(userId='200', count=1),\n",
              " Row(userId='2020', count=5),\n",
              " Row(userId='986', count=7),\n",
              " Row(userId='2354', count=2),\n",
              " Row(userId='11', count=3),\n",
              " Row(userId='1259', count=3),\n",
              " Row(userId='685', count=8),\n",
              " Row(userId='422', count=5),\n",
              " Row(userId='979', count=6),\n",
              " Row(userId='415', count=3),\n",
              " Row(userId='138', count=1),\n",
              " Row(userId='1497', count=31),\n",
              " Row(userId='961', count=5),\n",
              " Row(userId='387', count=6),\n",
              " Row(userId='323', count=1),\n",
              " Row(userId='2201', count=7),\n",
              " Row(userId='724', count=9),\n",
              " Row(userId='1943', count=2),\n",
              " Row(userId='2443', count=1),\n",
              " Row(userId='419', count=5),\n",
              " Row(userId='1205', count=2),\n",
              " Row(userId='2799', count=1),\n",
              " Row(userId='534', count=2),\n",
              " Row(userId='863', count=3),\n",
              " Row(userId='2587', count=10),\n",
              " Row(userId='890', count=3),\n",
              " Row(userId='2784', count=1),\n",
              " Row(userId='2772', count=1),\n",
              " Row(userId='686', count=2),\n",
              " Row(userId='1429', count=2),\n",
              " Row(userId='512', count=84),\n",
              " Row(userId='2349', count=5),\n",
              " Row(userId='308', count=16),\n",
              " Row(userId='1584', count=7),\n",
              " Row(userId='2224', count=2),\n",
              " Row(userId='1972', count=2),\n",
              " Row(userId='710', count=4),\n",
              " Row(userId='459', count=19),\n",
              " Row(userId='64', count=2),\n",
              " Row(userId='2942', count=4),\n",
              " Row(userId='541', count=17),\n",
              " Row(userId='446', count=18),\n",
              " Row(userId='2699', count=1),\n",
              " Row(userId='2111', count=6),\n",
              " Row(userId='970', count=29),\n",
              " Row(userId='30', count=2),\n",
              " Row(userId='1569', count=3),\n",
              " Row(userId='406', count=2),\n",
              " Row(userId='2759', count=10),\n",
              " Row(userId='1215', count=1),\n",
              " Row(userId='2085', count=2),\n",
              " Row(userId='2305', count=3),\n",
              " Row(userId='910', count=4),\n",
              " Row(userId='652', count=1),\n",
              " Row(userId='1758', count=4),\n",
              " Row(userId='880', count=4),\n",
              " Row(userId='2791', count=3),\n",
              " Row(userId='389', count=2),\n",
              " Row(userId='2842', count=3),\n",
              " Row(userId='1642', count=4),\n",
              " Row(userId='2164', count=84),\n",
              " Row(userId='1282', count=2),\n",
              " Row(userId='989', count=6),\n",
              " Row(userId='1775', count=1),\n",
              " Row(userId='59', count=2),\n",
              " Row(userId='2281', count=15),\n",
              " Row(userId='1678', count=7),\n",
              " Row(userId='2913', count=1),\n",
              " Row(userId='1911', count=3),\n",
              " Row(userId='2113', count=36),\n",
              " Row(userId='1926', count=3),\n",
              " Row(userId='1988', count=14),\n",
              " Row(userId='1347', count=2),\n",
              " Row(userId='1109', count=3),\n",
              " Row(userId='379', count=3),\n",
              " Row(userId='1918', count=1),\n",
              " Row(userId='1747', count=2),\n",
              " Row(userId='160', count=1),\n",
              " Row(userId='2017', count=1),\n",
              " Row(userId='2708', count=3),\n",
              " Row(userId='1296', count=5),\n",
              " Row(userId='2749', count=1),\n",
              " Row(userId='2882', count=3),\n",
              " Row(userId='2975', count=2),\n",
              " Row(userId='2816', count=3),\n",
              " Row(userId='1117', count=42),\n",
              " Row(userId='1821', count=1),\n",
              " Row(userId='1367', count=4),\n",
              " Row(userId='1814', count=1),\n",
              " Row(userId='1054', count=2),\n",
              " Row(userId='1452', count=2),\n",
              " Row(userId='951', count=1),\n",
              " Row(userId='184', count=4),\n",
              " Row(userId='2247', count=1),\n",
              " Row(userId='28', count=71),\n",
              " Row(userId='203', count=2),\n",
              " Row(userId='2496', count=1),\n",
              " Row(userId='888', count=36),\n",
              " Row(userId='1707', count=1),\n",
              " Row(userId='2685', count=4),\n",
              " Row(userId='1062', count=3),\n",
              " Row(userId='1609', count=1),\n",
              " Row(userId='628', count=24),\n",
              " Row(userId='343', count=2),\n",
              " Row(userId='856', count=68),\n",
              " Row(userId='2570', count=1),\n",
              " Row(userId='2946', count=2),\n",
              " Row(userId='2774', count=15),\n",
              " Row(userId='1941', count=2),\n",
              " Row(userId='917', count=1),\n",
              " Row(userId='597', count=3),\n",
              " Row(userId='712', count=13),\n",
              " Row(userId='2231', count=1),\n",
              " Row(userId='2773', count=2),\n",
              " Row(userId='1888', count=3),\n",
              " Row(userId='2991', count=1),\n",
              " Row(userId='35', count=11),\n",
              " Row(userId='1613', count=2),\n",
              " Row(userId='644', count=115),\n",
              " Row(userId='52', count=2),\n",
              " Row(userId='742', count=2),\n",
              " Row(userId='634', count=1),\n",
              " Row(userId='1074', count=1),\n",
              " Row(userId='1143', count=4),\n",
              " Row(userId='1635', count=5),\n",
              " Row(userId='807', count=3),\n",
              " Row(userId='1598', count=24),\n",
              " Row(userId='2035', count=1),\n",
              " Row(userId='441', count=3),\n",
              " Row(userId='187', count=2),\n",
              " Row(userId='1303', count=1),\n",
              " Row(userId='1476', count=1),\n",
              " Row(userId='1514', count=4),\n",
              " Row(userId='410', count=1),\n",
              " Row(userId='1906', count=5),\n",
              " Row(userId='1431', count=2),\n",
              " Row(userId='2703', count=3),\n",
              " Row(userId='1664', count=2),\n",
              " Row(userId='2954', count=1),\n",
              " Row(userId='2709', count=1),\n",
              " Row(userId='298', count=7),\n",
              " Row(userId='47', count=4),\n",
              " Row(userId='902', count=6),\n",
              " Row(userId='1141', count=1),\n",
              " Row(userId='594', count=1),\n",
              " Row(userId='568', count=4),\n",
              " Row(userId='99', count=1),\n",
              " Row(userId='2131', count=10),\n",
              " Row(userId='2319', count=1),\n",
              " Row(userId='726', count=1),\n",
              " Row(userId='892', count=2),\n",
              " Row(userId='2795', count=4),\n",
              " Row(userId='1375', count=6),\n",
              " Row(userId='107', count=5),\n",
              " Row(userId='1076', count=2),\n",
              " Row(userId='785', count=4),\n",
              " Row(userId='1770', count=1),\n",
              " Row(userId='1645', count=1),\n",
              " Row(userId='1866', count=7),\n",
              " Row(userId='2755', count=1),\n",
              " Row(userId='656', count=5),\n",
              " Row(userId='527', count=6),\n",
              " Row(userId='1278', count=1),\n",
              " Row(userId='1641', count=4),\n",
              " Row(userId='573', count=2),\n",
              " Row(userId='2877', count=1),\n",
              " Row(userId='2521', count=5),\n",
              " Row(userId='2028', count=4),\n",
              " Row(userId='1579', count=64),\n",
              " Row(userId='520', count=1),\n",
              " Row(userId='1193', count=1),\n",
              " Row(userId='1494', count=2),\n",
              " Row(userId='1543', count=4),\n",
              " Row(userId='1006', count=3),\n",
              " Row(userId='1608', count=1),\n",
              " Row(userId='825', count=1),\n",
              " Row(userId='804', count=3),\n",
              " Row(userId='1322', count=1),\n",
              " Row(userId='1454', count=4),\n",
              " Row(userId='873', count=1),\n",
              " Row(userId='1030', count=1),\n",
              " Row(userId='43', count=7),\n",
              " Row(userId='2638', count=2),\n",
              " Row(userId='421', count=1),\n",
              " Row(userId='1152', count=2),\n",
              " Row(userId='1592', count=1),\n",
              " Row(userId='2479', count=4),\n",
              " Row(userId='2048', count=1),\n",
              " Row(userId='2779', count=9),\n",
              " Row(userId='2123', count=1),\n",
              " Row(userId='2463', count=2),\n",
              " Row(userId='1022', count=2),\n",
              " Row(userId='2737', count=8),\n",
              " Row(userId='2731', count=4),\n",
              " Row(userId='2845', count=2),\n",
              " Row(userId='1307', count=3),\n",
              " Row(userId='1082', count=72),\n",
              " Row(userId='797', count=1),\n",
              " Row(userId='1940', count=3),\n",
              " Row(userId='2902', count=2),\n",
              " Row(userId='100', count=8),\n",
              " Row(userId='2775', count=5),\n",
              " Row(userId='2351', count=3),\n",
              " Row(userId='1697', count=24),\n",
              " Row(userId='1079', count=68),\n",
              " Row(userId='1749', count=1),\n",
              " Row(userId='2426', count=5),\n",
              " Row(userId='912', count=3),\n",
              " Row(userId='1383', count=11),\n",
              " Row(userId='2603', count=1),\n",
              " Row(userId='481', count=5),\n",
              " Row(userId='523', count=99),\n",
              " Row(userId='1568', count=1),\n",
              " Row(userId='359', count=4),\n",
              " Row(userId='2552', count=2),\n",
              " Row(userId='2251', count=3),\n",
              " Row(userId='1630', count=1),\n",
              " Row(userId='476', count=10),\n",
              " Row(userId='2322', count=2),\n",
              " Row(userId='745', count=1),\n",
              " Row(userId='174', count=31),\n",
              " Row(userId='1829', count=29),\n",
              " Row(userId='1520', count=2),\n",
              " Row(userId='1659', count=6),\n",
              " Row(userId='1232', count=180),\n",
              " Row(userId='2365', count=2),\n",
              " Row(userId='302', count=2),\n",
              " Row(userId='1959', count=32),\n",
              " Row(userId='632', count=19),\n",
              " Row(userId='761', count=56),\n",
              " Row(userId='2612', count=28),\n",
              " Row(userId='2002', count=49),\n",
              " Row(userId='2140', count=3),\n",
              " Row(userId='2734', count=27),\n",
              " Row(userId='168', count=2),\n",
              " Row(userId='2935', count=5),\n",
              " Row(userId='981', count=6),\n",
              " Row(userId='1182', count=2),\n",
              " Row(userId='364', count=3),\n",
              " Row(userId='505', count=1),\n",
              " Row(userId='2018', count=4),\n",
              " Row(userId='2892', count=89),\n",
              " Row(userId='1398', count=11),\n",
              " Row(userId='496', count=3),\n",
              " Row(userId='649', count=97),\n",
              " Row(userId='2359', count=87),\n",
              " Row(userId='2268', count=3),\n",
              " Row(userId='3002', count=3),\n",
              " Row(userId='1263', count=1),\n",
              " Row(userId='999', count=4),\n",
              " Row(userId='1238', count=2),\n",
              " Row(userId='493', count=8),\n",
              " Row(userId='1845', count=2),\n",
              " Row(userId='1809', count=3),\n",
              " Row(userId='2873', count=10),\n",
              " Row(userId='1777', count=46),\n",
              " Row(userId='219', count=1),\n",
              " Row(userId='1633', count=2),\n",
              " Row(userId='1772', count=2),\n",
              " Row(userId='1887', count=9),\n",
              " Row(userId='1834', count=3),\n",
              " Row(userId='1061', count=18),\n",
              " Row(userId='1865', count=137),\n",
              " Row(userId='1092', count=4),\n",
              " Row(userId='1964', count=4),\n",
              " Row(userId='2481', count=148),\n",
              " Row(userId='905', count=4),\n",
              " Row(userId='1261', count=3),\n",
              " Row(userId='1860', count=17),\n",
              " Row(userId='1580', count=3),\n",
              " Row(userId='120', count=3),\n",
              " Row(userId='2906', count=6),\n",
              " Row(userId='1046', count=30),\n",
              " Row(userId='1267', count=34),\n",
              " Row(userId='1384', count=2),\n",
              " Row(userId='1551', count=2),\n",
              " Row(userId='773', count=8),\n",
              " Row(userId='2710', count=3),\n",
              " Row(userId='2187', count=7),\n",
              " Row(userId='2480', count=2),\n",
              " Row(userId='2376', count=1),\n",
              " Row(userId='2673', count=6),\n",
              " Row(userId='2274', count=10),\n",
              " Row(userId='621', count=32),\n",
              " Row(userId='2744', count=2),\n",
              " Row(userId='374', count=2),\n",
              " Row(userId='1851', count=3),\n",
              " Row(userId='130', count=1),\n",
              " Row(userId='2694', count=5),\n",
              " Row(userId='1786', count=6),\n",
              " Row(userId='1854', count=11),\n",
              " Row(userId='375', count=3),\n",
              " Row(userId='1040', count=2),\n",
              " Row(userId='1272', count=4),\n",
              " Row(userId='2933', count=1),\n",
              " Row(userId='207', count=22),\n",
              " Row(userId='1444', count=1),\n",
              " Row(userId='1243', count=2),\n",
              " Row(userId='790', count=2),\n",
              " Row(userId='2611', count=1),\n",
              " Row(userId='2106', count=2),\n",
              " Row(userId='2719', count=1),\n",
              " Row(userId='1017', count=12),\n",
              " Row(userId='2767', count=15),\n",
              " Row(userId='486', count=40),\n",
              " Row(userId='1832', count=3),\n",
              " Row(userId='1611', count=52),\n",
              " Row(userId='2997', count=4),\n",
              " Row(userId='2459', count=11),\n",
              " Row(userId='2684', count=7),\n",
              " Row(userId='2591', count=2),\n",
              " Row(userId='1644', count=12),\n",
              " Row(userId='1847', count=1),\n",
              " Row(userId='1796', count=3),\n",
              " Row(userId='136', count=3),\n",
              " Row(userId='1208', count=5),\n",
              " Row(userId='2086', count=3),\n",
              " Row(userId='2940', count=4),\n",
              " Row(userId='1000', count=1),\n",
              " Row(userId='1820', count=3),\n",
              " Row(userId='1540', count=4),\n",
              " Row(userId='1668', count=42),\n",
              " Row(userId='1916', count=2),\n",
              " Row(userId='1541', count=2),\n",
              " Row(userId='517', count=16),\n",
              " Row(userId='756', count=1),\n",
              " Row(userId='2453', count=1),\n",
              " Row(userId='1187', count=3),\n",
              " Row(userId='1490', count=13),\n",
              " Row(userId='2599', count=5),\n",
              " Row(userId='1172', count=2),\n",
              " Row(userId='2412', count=55),\n",
              " Row(userId='2311', count=4),\n",
              " Row(userId='967', count=7),\n",
              " Row(userId='1110', count=5),\n",
              " Row(userId='2217', count=1),\n",
              " Row(userId='2304', count=3),\n",
              " Row(userId='678', count=3),\n",
              " Row(userId='344', count=3),\n",
              " Row(userId='1378', count=2),\n",
              " Row(userId='2290', count=92),\n",
              " Row(userId='104', count=6),\n",
              " Row(userId='1346', count=7),\n",
              " Row(userId='2213', count=2),\n",
              " Row(userId='978', count=10),\n",
              " Row(userId='229', count=4),\n",
              " Row(userId='60', count=2),\n",
              " Row(userId='702', count=4),\n",
              " Row(userId='2038', count=13),\n",
              " Row(userId='1165', count=76),\n",
              " Row(userId='2297', count=1),\n",
              " Row(userId='2168', count=19),\n",
              " Row(userId='2449', count=8),\n",
              " Row(userId='2832', count=1),\n",
              " Row(userId='1875', count=1),\n",
              " Row(userId='429', count=10),\n",
              " Row(userId='2958', count=7),\n",
              " Row(userId='578', count=2),\n",
              " Row(userId='1968', count=1),\n",
              " Row(userId='354', count=4),\n",
              " Row(userId='1967', count=2),\n",
              " Row(userId='1385', count=5),\n",
              " Row(userId='2661', count=1),\n",
              " Row(userId='1358', count=12),\n",
              " Row(userId='1331', count=4),\n",
              " Row(userId='1625', count=3),\n",
              " Row(userId='2049', count=1),\n",
              " Row(userId='2051', count=1),\n",
              " Row(userId='533', count=2),\n",
              " Row(userId='840', count=5),\n",
              " Row(userId='2373', count=9),\n",
              " Row(userId='2810', count=1),\n",
              " Row(userId='2293', count=1),\n",
              " Row(userId='55', count=2),\n",
              " Row(userId='1396', count=55),\n",
              " Row(userId='2927', count=3),\n",
              " Row(userId='2198', count=3),\n",
              " Row(userId='1740', count=1),\n",
              " Row(userId='2491', count=1),\n",
              " Row(userId='2204', count=1),\n",
              " Row(userId='1688', count=2),\n",
              " Row(userId='2004', count=7),\n",
              " Row(userId='491', count=9),\n",
              " Row(userId='1422', count=7),\n",
              " Row(userId='1790', count=2),\n",
              " Row(userId='2105', count=4),\n",
              " Row(userId='1311', count=1),\n",
              " Row(userId='349', count=3),\n",
              " Row(userId='694', count=1),\n",
              " Row(userId='1468', count=1),\n",
              " Row(userId='748', count=162),\n",
              " Row(userId='2243', count=1),\n",
              " Row(userId='1237', count=2),\n",
              " Row(userId='2851', count=2),\n",
              " Row(userId='1069', count=1),\n",
              " Row(userId='1107', count=67),\n",
              " Row(userId='2391', count=13),\n",
              " Row(userId='936', count=7),\n",
              " Row(userId='2160', count=118),\n",
              " Row(userId='1961', count=48),\n",
              " Row(userId='2994', count=7),\n",
              " Row(userId='1527', count=1),\n",
              " Row(userId='1571', count=2),\n",
              " Row(userId='1312', count=3),\n",
              " Row(userId='927', count=2),\n",
              " Row(userId='1852', count=4),\n",
              " Row(userId='2022', count=2),\n",
              " Row(userId='1716', count=3),\n",
              " Row(userId='2820', count=5),\n",
              " Row(userId='822', count=3),\n",
              " Row(userId='2428', count=2),\n",
              " Row(userId='1461', count=8),\n",
              " Row(userId='40', count=4),\n",
              " Row(userId='38', count=1),\n",
              " Row(userId='2152', count=7),\n",
              " Row(userId='2636', count=15),\n",
              " Row(userId='2008', count=3),\n",
              " Row(userId='913', count=6),\n",
              " Row(userId='2233', count=1),\n",
              " Row(userId='2867', count=57),\n",
              " Row(userId='1348', count=2),\n",
              " Row(userId='25', count=2),\n",
              " Row(userId='1506', count=1),\n",
              " Row(userId='2122', count=6),\n",
              " Row(userId='1693', count=3),\n",
              " Row(userId='2600', count=2),\n",
              " Row(userId='2416', count=3),\n",
              " Row(userId='827', count=2),\n",
              " Row(userId='1138', count=68),\n",
              " Row(userId='297', count=1),\n",
              " Row(userId='1725', count=9),\n",
              " Row(userId='1621', count=3),\n",
              " Row(userId='1828', count=4),\n",
              " Row(userId='233', count=2),\n",
              " Row(userId='2482', count=1),\n",
              " Row(userId='1955', count=42),\n",
              " Row(userId='2593', count=17),\n",
              " Row(userId='2143', count=5),\n",
              " Row(userId='779', count=8),\n",
              " Row(userId='957', count=8),\n",
              " Row(userId='2665', count=1),\n",
              " Row(userId='338', count=2),\n",
              " Row(userId='1426', count=1),\n",
              " Row(userId='2910', count=4),\n",
              " Row(userId='2202', count=6),\n",
              " Row(userId='1140', count=2),\n",
              " Row(userId='2084', count=48),\n",
              " Row(userId='2748', count=1),\n",
              " Row(userId='830', count=4),\n",
              " Row(userId='1842', count=7),\n",
              " Row(userId='1206', count=1),\n",
              " Row(userId='1116', count=1),\n",
              " Row(userId='2513', count=2),\n",
              " Row(userId='1442', count=4),\n",
              " Row(userId='2215', count=1),\n",
              " Row(userId='1567', count=46),\n",
              " Row(userId='1499', count=3),\n",
              " Row(userId='1245', count=1),\n",
              " Row(userId='2992', count=3),\n",
              " Row(userId='1393', count=3),\n",
              " Row(userId='2713', count=53),\n",
              " Row(userId='857', count=1),\n",
              " Row(userId='998', count=7),\n",
              " Row(userId='2692', count=3),\n",
              " Row(userId='2674', count=4),\n",
              " Row(userId='1400', count=2),\n",
              " Row(userId='1199', count=36),\n",
              " Row(userId='1523', count=4),\n",
              " Row(userId='2346', count=5),\n",
              " Row(userId='1604', count=3),\n",
              " Row(userId='1209', count=39),\n",
              " Row(userId='805', count=11),\n",
              " Row(userId='1872', count=1),\n",
              " Row(userId='2190', count=52),\n",
              " Row(userId='2533', count=20),\n",
              " Row(userId='2151', count=1),\n",
              " Row(userId='2181', count=5),\n",
              " Row(userId='2488', count=2),\n",
              " Row(userId='231', count=3),\n",
              " Row(userId='2922', count=5),\n",
              " Row(userId='1558', count=19),\n",
              " Row(userId='471', count=1),\n",
              " Row(userId='2523', count=6),\n",
              " Row(userId='450', count=2),\n",
              " Row(userId='2176', count=10),\n",
              " Row(userId='1471', count=3),\n",
              " Row(userId='1950', count=122),\n",
              " Row(userId='1564', count=6),\n",
              " Row(userId='1177', count=2),\n",
              " Row(userId='2254', count=3),\n",
              " Row(userId='869', count=5),\n",
              " Row(userId='108', count=15),\n",
              " Row(userId='1741', count=1),\n",
              " Row(userId='1077', count=5),\n",
              " Row(userId='612', count=4),\n",
              " Row(userId='117', count=5),\n",
              " Row(userId='1399', count=10),\n",
              " Row(userId='968', count=1),\n",
              " Row(userId='2884', count=3),\n",
              " Row(userId='247', count=4),\n",
              " Row(userId='2650', count=2),\n",
              " Row(userId='2715', count=18),\n",
              " Row(userId='2872', count=3),\n",
              " Row(userId='2675', count=7),\n",
              " Row(userId='2623', count=2),\n",
              " Row(userId='2073', count=1),\n",
              " Row(userId='816', count=1),\n",
              " Row(userId='1583', count=9),\n",
              " Row(userId='2109', count=8),\n",
              " Row(userId='58', count=313),\n",
              " Row(userId='949', count=2),\n",
              " Row(userId='2670', count=4),\n",
              " Row(userId='1708', count=3),\n",
              " Row(userId='461', count=2),\n",
              " Row(userId='2609', count=8),\n",
              " Row(userId='821', count=2),\n",
              " Row(userId='2259', count=6),\n",
              " Row(userId='2918', count=1),\n",
              " Row(userId='2632', count=20),\n",
              " Row(userId='877', count=4),\n",
              " Row(userId='1057', count=4),\n",
              " Row(userId='2574', count=4),\n",
              " Row(userId='1264', count=5),\n",
              " Row(userId='2743', count=13),\n",
              " Row(userId='2645', count=1),\n",
              " Row(userId='1129', count=1),\n",
              " Row(userId='2007', count=2),\n",
              " Row(userId='1122', count=2),\n",
              " Row(userId='2641', count=1),\n",
              " Row(userId='2594', count=3),\n",
              " Row(userId='2589', count=2),\n",
              " Row(userId='1561', count=10),\n",
              " Row(userId='363', count=1),\n",
              " Row(userId='865', count=3),\n",
              " Row(userId='1595', count=41),\n",
              " Row(userId='1035', count=103),\n",
              " Row(userId='1037', count=14),\n",
              " Row(userId='1163', count=2),\n",
              " Row(userId='1181', count=3),\n",
              " Row(userId='2384', count=1),\n",
              " Row(userId='81', count=4),\n",
              " Row(userId='1005', count=1),\n",
              " Row(userId='2985', count=3),\n",
              " Row(userId='1268', count=1),\n",
              " Row(userId='2425', count=4),\n",
              " Row(userId='896', count=3),\n",
              " Row(userId='2897', count=3),\n",
              " Row(userId='622', count=7),\n",
              " Row(userId='540', count=20),\n",
              " Row(userId='242', count=3),\n",
              " Row(userId='1050', count=10),\n",
              " Row(userId='708', count=2),\n",
              " Row(userId='1744', count=2),\n",
              " Row(userId='778', count=1),\n",
              " Row(userId='2560', count=2),\n",
              " Row(userId='2074', count=5),\n",
              " Row(userId='2266', count=5),\n",
              " Row(userId='1162', count=4),\n",
              " Row(userId='2680', count=2),\n",
              " Row(userId='2553', count=2),\n",
              " Row(userId='2944', count=1),\n",
              " Row(userId='739', count=2),\n",
              " Row(userId='1478', count=2),\n",
              " Row(userId='623', count=6),\n",
              " Row(userId='150', count=6),\n",
              " Row(userId='526', count=13),\n",
              " Row(userId='1680', count=5),\n",
              " Row(userId='2813', count=62),\n",
              " Row(userId='654', count=3),\n",
              " Row(userId='860', count=6),\n",
              " Row(userId='1969', count=1),\n",
              " Row(userId='393', count=5),\n",
              " Row(userId='2446', count=1),\n",
              " Row(userId='2885', count=2),\n",
              " Row(userId='2489', count=1),\n",
              " Row(userId='48', count=1),\n",
              " Row(userId='1319', count=2),\n",
              " Row(userId='2083', count=2),\n",
              " Row(userId='2132', count=2),\n",
              " Row(userId='950', count=10),\n",
              " Row(userId='1980', count=4),\n",
              " Row(userId='2912', count=4),\n",
              " Row(userId='2302', count=29),\n",
              " Row(userId='1881', count=42),\n",
              " Row(userId='1430', count=24),\n",
              " Row(userId='243', count=3),\n",
              " Row(userId='1413', count=1),\n",
              " Row(userId='1891', count=1),\n",
              " Row(userId='141', count=56),\n",
              " Row(userId='240', count=3),\n",
              " Row(userId='377', count=4),\n",
              " Row(userId='2383', count=7),\n",
              " Row(userId='159', count=5),\n",
              " Row(userId='2125', count=6),\n",
              " Row(userId='2186', count=28),\n",
              " Row(userId='1411', count=16),\n",
              " Row(userId='1724', count=6),\n",
              " Row(userId='1221', count=2),\n",
              " Row(userId='316', count=72),\n",
              " Row(userId='158', count=2),\n",
              " Row(userId='1869', count=57),\n",
              " Row(userId='2244', count=3),\n",
              " Row(userId='2053', count=1),\n",
              " Row(userId='2528', count=13),\n",
              " Row(userId='838', count=1),\n",
              " Row(userId='547', count=3),\n",
              " Row(userId='1274', count=1),\n",
              " Row(userId='1169', count=1),\n",
              " Row(userId='1174', count=18),\n",
              " Row(userId='1132', count=1),\n",
              " Row(userId='1715', count=4),\n",
              " Row(userId='266', count=2),\n",
              " Row(userId='2664', count=3),\n",
              " Row(userId='922', count=1),\n",
              " Row(userId='2617', count=4),\n",
              " Row(userId='2945', count=3),\n",
              " Row(userId='648', count=7),\n",
              " Row(userId='2238', count=2),\n",
              " Row(userId='1944', count=3),\n",
              " Row(userId='1048', count=1),\n",
              " Row(userId='864', count=1),\n",
              " Row(userId='2418', count=2),\n",
              " Row(userId='79', count=2),\n",
              " Row(userId='2401', count=1),\n",
              " Row(userId='893', count=1),\n",
              " Row(userId='1155', count=6),\n",
              " Row(userId='2546', count=2),\n",
              " Row(userId='1818', count=2),\n",
              " Row(userId='465', count=3),\n",
              " Row(userId='2184', count=1),\n",
              " Row(userId='313', count=3),\n",
              " Row(userId='2147', count=1),\n",
              " Row(userId='757', count=3),\n",
              " Row(userId='1495', count=1),\n",
              " Row(userId='480', count=17),\n",
              " Row(userId='2829', count=1),\n",
              " Row(userId='1684', count=2),\n",
              " Row(userId='2959', count=1),\n",
              " Row(userId='32', count=7),\n",
              " Row(userId='1867', count=1),\n",
              " Row(userId='2549', count=2),\n",
              " Row(userId='2333', count=1),\n",
              " Row(userId='314', count=23),\n",
              " Row(userId='2417', count=4),\n",
              " Row(userId='186', count=7),\n",
              " Row(userId='780', count=1),\n",
              " Row(userId='2887', count=2),\n",
              " Row(userId='88', count=1),\n",
              " Row(userId='803', count=1),\n",
              " Row(userId='2327', count=1),\n",
              " Row(userId='1555', count=1),\n",
              " Row(userId='391', count=1),\n",
              " Row(userId='1085', count=11),\n",
              " Row(userId='1937', count=2),\n",
              " Row(userId='2697', count=3),\n",
              " Row(userId='1150', count=1),\n",
              " Row(userId='2777', count=1),\n",
              " Row(userId='1168', count=2),\n",
              " Row(userId='1780', count=3),\n",
              " Row(userId='1042', count=5),\n",
              " Row(userId='105', count=28),\n",
              " Row(userId='237', count=42),\n",
              " Row(userId='2021', count=6),\n",
              " Row(userId='1896', count=37),\n",
              " Row(userId='1065', count=8),\n",
              " Row(userId='1281', count=7),\n",
              " Row(userId='1376', count=2),\n",
              " Row(userId='680', count=1),\n",
              " Row(userId='2830', count=5),\n",
              " Row(userId='1088', count=2),\n",
              " Row(userId='1309', count=8),\n",
              " Row(userId='551', count=3),\n",
              " Row(userId='305', count=86),\n",
              " Row(userId='2455', count=2),\n",
              " Row(userId='1748', count=3),\n",
              " Row(userId='325', count=1),\n",
              " Row(userId='1986', count=42),\n",
              " Row(userId='1701', count=37),\n",
              " Row(userId='2634', count=6),\n",
              " Row(userId='454', count=2),\n",
              " Row(userId='1952', count=6),\n",
              " Row(userId='2850', count=2),\n",
              " Row(userId='142', count=3),\n",
              " Row(userId='1338', count=4),\n",
              " Row(userId='2219', count=46),\n",
              " Row(userId='2388', count=9),\n",
              " Row(userId='1666', count=6),\n",
              " Row(userId='2815', count=1),\n",
              " Row(userId='1374', count=82),\n",
              " Row(userId='1843', count=3),\n",
              " Row(userId='357', count=1),\n",
              " Row(userId='750', count=1),\n",
              " Row(userId='1403', count=2),\n",
              " Row(userId='2652', count=60),\n",
              " Row(userId='2996', count=2),\n",
              " Row(userId='776', count=1),\n",
              " Row(userId='1929', count=3),\n",
              " Row(userId='2095', count=1),\n",
              " Row(userId='2508', count=3),\n",
              " Row(userId='1806', count=121),\n",
              " Row(userId='2909', count=2),\n",
              " Row(userId='1423', count=7),\n",
              " Row(userId='2567', count=4),\n",
              " Row(userId='211', count=44),\n",
              " Row(userId='2033', count=5),\n",
              " Row(userId='420', count=29),\n",
              " Row(userId='1295', count=2),\n",
              " Row(userId='2103', count=4),\n",
              " Row(userId='10', count=2),\n",
              " Row(userId='384', count=3),\n",
              " Row(userId='2721', count=1),\n",
              " Row(userId='1660', count=1),\n",
              " Row(userId='37', count=2),\n",
              " Row(userId='2941', count=2),\n",
              " Row(userId='2615', count=1),\n",
              " Row(userId='165', count=3),\n",
              " Row(userId='2949', count=1),\n",
              " Row(userId='1392', count=9),\n",
              " Row(userId='2853', count=4),\n",
              " Row(userId='2030', count=2),\n",
              " Row(userId='255', count=1),\n",
              " Row(userId='2047', count=2),\n",
              " Row(userId='2409', count=1),\n",
              " Row(userId='1661', count=2),\n",
              " Row(userId='275', count=1),\n",
              " Row(userId='1003', count=3),\n",
              " Row(userId='395', count=2),\n",
              " Row(userId='2764', count=1),\n",
              " Row(userId='362', count=3),\n",
              " Row(userId='1838', count=3),\n",
              " Row(userId='2255', count=15),\n",
              " Row(userId='2142', count=1),\n",
              " Row(userId='1258', count=7),\n",
              " Row(userId='732', count=10),\n",
              " Row(userId='172', count=3),\n",
              " Row(userId='2313', count=9),\n",
              " Row(userId='988', count=2),\n",
              " Row(userId='2921', count=3),\n",
              " Row(userId='2786', count=3),\n",
              " Row(userId='1998', count=3),\n",
              " Row(userId='1119', count=5),\n",
              " Row(userId='2993', count=5),\n",
              " Row(userId='2760', count=11),\n",
              " Row(userId='331', count=3),\n",
              " Row(userId='265', count=3),\n",
              " Row(userId='1019', count=30),\n",
              " Row(userId='2461', count=2),\n",
              " Row(userId='641', count=1),\n",
              " Row(userId='1573', count=2),\n",
              " Row(userId='1270', count=3),\n",
              " Row(userId='1949', count=44),\n",
              " Row(userId='252', count=42),\n",
              " Row(userId='855', count=2),\n",
              " Row(userId='746', count=1),\n",
              " Row(userId='1115', count=2),\n",
              " Row(userId='1176', count=54),\n",
              " Row(userId='1020', count=5),\n",
              " Row(userId='1797', count=5),\n",
              " Row(userId='411', count=2),\n",
              " Row(userId='1233', count=1),\n",
              " Row(userId='210', count=3),\n",
              " Row(userId='2462', count=92),\n",
              " Row(userId='2950', count=9),\n",
              " Row(userId='1503', count=2),\n",
              " Row(userId='62', count=4),\n",
              " Row(userId='734', count=2),\n",
              " Row(userId='339', count=2),\n",
              " Row(userId='630', count=4),\n",
              " Row(userId='1094', count=6),\n",
              " Row(userId='1330', count=4),\n",
              " Row(userId='1810', count=3),\n",
              " Row(userId='2065', count=1),\n",
              " Row(userId='1545', count=1),\n",
              " Row(userId='696', count=2),\n",
              " Row(userId='', count=336),\n",
              " Row(userId='1795', count=3),\n",
              " Row(userId='2801', count=17),\n",
              " Row(userId='2089', count=7),\n",
              " Row(userId='2248', count=1),\n",
              " Row(userId='1103', count=76),\n",
              " Row(userId='900', count=4),\n",
              " Row(userId='109', count=3),\n",
              " Row(userId='2598', count=3),\n",
              " Row(userId='1853', count=2),\n",
              " Row(userId='1025', count=5),\n",
              " Row(userId='2551', count=1),\n",
              " Row(userId='2404', count=2),\n",
              " Row(userId='1819', count=1),\n",
              " Row(userId='2408', count=5),\n",
              " Row(userId='1588', count=1),\n",
              " Row(userId='445', count=49),\n",
              " Row(userId='1350', count=4),\n",
              " Row(userId='1083', count=6),\n",
              " Row(userId='249', count=3),\n",
              " Row(userId='706', count=4),\n",
              " Row(userId='2963', count=5),\n",
              " Row(userId='2232', count=4),\n",
              " Row(userId='2189', count=23),\n",
              " Row(userId='2166', count=4),\n",
              " Row(userId='2372', count=7),\n",
              " Row(userId='2469', count=8),\n",
              " Row(userId='2427', count=1),\n",
              " Row(userId='1098', count=2),\n",
              " Row(userId='66', count=19),\n",
              " Row(userId='846', count=16),\n",
              " Row(userId='2366', count=2),\n",
              " Row(userId='2466', count=5),\n",
              " Row(userId='137', count=1),\n",
              " Row(userId='2411', count=1),\n",
              " Row(userId='2539', count=25),\n",
              " Row(userId='2503', count=8),\n",
              " Row(userId='1885', count=2),\n",
              " Row(userId='2239', count=19),\n",
              " Row(userId='2234', count=2),\n",
              " Row(userId='392', count=5),\n",
              " Row(userId='884', count=1),\n",
              " Row(userId='2399', count=2),\n",
              " Row(userId='1219', count=8),\n",
              " Row(userId='2990', count=5),\n",
              " Row(userId='1849', count=1),\n",
              " Row(userId='2848', count=1),\n",
              " Row(userId='321', count=2),\n",
              " Row(userId='1388', count=1),\n",
              " Row(userId='2852', count=4),\n",
              " Row(userId='367', count=2),\n",
              " Row(userId='2010', count=1),\n",
              " Row(userId='1855', count=6),\n",
              " Row(userId='598', count=53),\n",
              " Row(userId='2849', count=10),\n",
              " Row(userId='1776', count=90),\n",
              " Row(userId='2146', count=1),\n",
              " Row(userId='1990', count=7),\n",
              " Row(userId='262', count=2),\n",
              " Row(userId='2515', count=1),\n",
              " Row(userId='1153', count=5),\n",
              " Row(userId='2969', count=2),\n",
              " Row(userId='1712', count=3),\n",
              " Row(userId='942', count=1),\n",
              " Row(userId='1586', count=7),\n",
              " Row(userId='608', count=1),\n",
              " Row(userId='196', count=4),\n",
              " Row(userId='2194', count=3),\n",
              " Row(userId='1522', count=2),\n",
              " Row(userId='1991', count=3),\n",
              " Row(userId='2535', count=9),\n",
              " Row(userId='254', count=6),\n",
              " Row(userId='1928', count=1),\n",
              " Row(userId='2590', count=2),\n",
              " Row(userId='1945', count=2),\n",
              " Row(userId='848', count=1),\n",
              " Row(userId='2081', count=10),\n",
              " Row(userId='2273', count=8),\n",
              " Row(userId='590', count=25),\n",
              " Row(userId='2800', count=9),\n",
              " Row(userId='226', count=52),\n",
              " Row(userId='1647', count=199),\n",
              " Row(userId='80', count=4),\n",
              " Row(userId='2746', count=1),\n",
              " Row(userId='1380', count=8),\n",
              " Row(userId='1619', count=1),\n",
              " Row(userId='814', count=3),\n",
              " Row(userId='1362', count=6),\n",
              " Row(userId='1373', count=12),\n",
              " Row(userId='707', count=2),\n",
              " Row(userId='2732', count=42),\n",
              " Row(userId='1975', count=1),\n",
              " Row(userId='1803', count=3),\n",
              " Row(userId='2456', count=3),\n",
              " Row(userId='1324', count=2),\n",
              " Row(userId='1409', count=4),\n",
              " Row(userId='1970', count=5),\n",
              " Row(userId='2295', count=4),\n",
              " Row(userId='2818', count=1),\n",
              " Row(userId='2096', count=2),\n",
              " Row(userId='145', count=4),\n",
              " Row(userId='2361', count=5),\n",
              " Row(userId='50', count=5),\n",
              " Row(userId='946', count=8),\n",
              " Row(userId='1840', count=1),\n",
              " Row(userId='553', count=3),\n",
              " Row(userId='2076', count=1),\n",
              " Row(userId='2677', count=2),\n",
              " Row(userId='881', count=3),\n",
              " Row(userId='1920', count=1),\n",
              " Row(userId='1691', count=6),\n",
              " Row(userId='937', count=4),\n",
              " Row(userId='1629', count=10),\n",
              " Row(userId='2117', count=13),\n",
              " Row(userId='1389', count=4),\n",
              " Row(userId='1779', count=24),\n",
              " Row(userId='438', count=2),\n",
              " Row(userId='699', count=5),\n",
              " Row(userId='2367', count=1),\n",
              " Row(userId='451', count=4),\n",
              " Row(userId='361', count=1),\n",
              " Row(userId='974', count=16),\n",
              " Row(userId='1915', count=8),\n",
              " Row(userId='2967', count=2),\n",
              " Row(userId='61', count=3),\n",
              " Row(userId='639', count=1),\n",
              " Row(userId='1351', count=6),\n",
              " Row(userId='2566', count=4),\n",
              " Row(userId='1149', count=2),\n",
              " Row(userId='1368', count=5),\n",
              " Row(userId='571', count=1),\n",
              " Row(userId='2387', count=2),\n",
              " Row(userId='2880', count=4),\n",
              " Row(userId='1618', count=1),\n",
              " Row(userId='1703', count=1)]"
            ]
          },
          "metadata": {},
          "execution_count": 46
        }
      ]
    },
    {
      "cell_type": "code",
      "source": [
        "user_log.select(\n",
        "    [\"userId\", \"firstname\", \"page\", \"song\"]\n",
        "    ).where(user_log.userId == \"1351\").collect()"
      ],
      "metadata": {
        "colab": {
          "base_uri": "https://localhost:8080/"
        },
        "id": "WGjQRsb4_19U",
        "outputId": "590b4ef7-3f7f-4f1a-91dc-89fb7879baf6"
      },
      "execution_count": 47,
      "outputs": [
        {
          "output_type": "execute_result",
          "data": {
            "text/plain": [
              "[Row(userId='1351', firstname='Zachary', page='NextSong', song='Godine prolaze'),\n",
              " Row(userId='1351', firstname='Zachary', page='NextSong', song='Your Decision'),\n",
              " Row(userId='1351', firstname='Zachary', page='NextSong', song='Un Mundo Raro'),\n",
              " Row(userId='1351', firstname='Zachary', page='NextSong', song='Neighborhoods'),\n",
              " Row(userId='1351', firstname='Zachary', page='NextSong', song='The Way I Loved You'),\n",
              " Row(userId='1351', firstname='Zachary', page='NextSong', song='I Gotta Feeling')]"
            ]
          },
          "metadata": {},
          "execution_count": 47
        }
      ]
    },
    {
      "cell_type": "code",
      "source": [
        "user_log.select(\n",
        "    [\"userId\", \"firstname\", \"page\", \"song\"]\n",
        "    ).where(user_log.userId == \"974\").collect()"
      ],
      "metadata": {
        "colab": {
          "base_uri": "https://localhost:8080/"
        },
        "id": "6PhJH8KwEpYt",
        "outputId": "30d2b6e3-1dc3-4937-d6fa-942582db4812"
      },
      "execution_count": 48,
      "outputs": [
        {
          "output_type": "execute_result",
          "data": {
            "text/plain": [
              "[Row(userId='974', firstname='Abegail', page='Home', song=None),\n",
              " Row(userId='974', firstname='Abegail', page='NextSong', song='Gunn Clapp'),\n",
              " Row(userId='974', firstname='Abegail', page='NextSong', song='Sweet Nothings Gone Forever'),\n",
              " Row(userId='974', firstname='Abegail', page='NextSong', song='Take The \"A\" Train'),\n",
              " Row(userId='974', firstname='Abegail', page='NextSong', song='Chaplin'),\n",
              " Row(userId='974', firstname='Abegail', page='NextSong', song='Emily Dickinson'),\n",
              " Row(userId='974', firstname='Abegail', page='NextSong', song='Almaz'),\n",
              " Row(userId='974', firstname='Abegail', page='NextSong', song='Peace Of Mind'),\n",
              " Row(userId='974', firstname='Abegail', page='NextSong', song='Here I Am (Come And Take Me)'),\n",
              " Row(userId='974', firstname='Abegail', page='NextSong', song='Superstition'),\n",
              " Row(userId='974', firstname='Abegail', page='NextSong', song='A Certain Romance'),\n",
              " Row(userId='974', firstname='Abegail', page='NextSong', song='Me About You'),\n",
              " Row(userId='974', firstname='Abegail', page='NextSong', song=\"Life's Been Good (Live Version)\"),\n",
              " Row(userId='974', firstname='Abegail', page='NextSong', song='Serenity'),\n",
              " Row(userId='974', firstname='Abegail', page='NextSong', song='Iyomanzai'),\n",
              " Row(userId='974', firstname='Abegail', page='NextSong', song=\"Nothin' On You [feat. Bruno Mars] (Album Version)\")]"
            ]
          },
          "metadata": {},
          "execution_count": 48
        }
      ]
    },
    {
      "cell_type": "code",
      "source": [
        "user_log.describe().show()"
      ],
      "metadata": {
        "colab": {
          "base_uri": "https://localhost:8080/"
        },
        "id": "hu8lOrGn_Q-d",
        "outputId": "9ce071c3-fd19-4f98-da7f-31dc72b493f1"
      },
      "execution_count": 49,
      "outputs": [
        {
          "output_type": "stream",
          "name": "stdout",
          "text": [
            "+-------+-----------------+----------+---------+------+------------------+--------+------------------+-----+------------+------+-------+--------------------+------------------+--------+------------------+--------------------+--------------------+------------------+\n",
            "|summary|           artist|      auth|firstName|gender|     itemInSession|lastName|            length|level|    location|method|   page|        registration|         sessionId|    song|            status|                  ts|           userAgent|            userId|\n",
            "+-------+-----------------+----------+---------+------+------------------+--------+------------------+-----+------------+------+-------+--------------------+------------------+--------+------------------+--------------------+--------------------+------------------+\n",
            "|  count|             8347|     10000|     9664|  9664|             10000|    9664|              8347|10000|        9664| 10000|  10000|                9664|             10000|    8347|             10000|               10000|                9664|             10000|\n",
            "|   mean|            461.0|      NULL|     NULL|  NULL|           19.6734|    NULL|249.64865874925044| NULL|        NULL|  NULL|   NULL|1.504695369588739...|         4436.7511|Infinity|          202.8984|  1.5137859954164E12|                NULL|1442.4413286423842|\n",
            "| stddev|            300.0|      NULL|     NULL|  NULL|25.382114916132593|    NULL| 95.00437130781461| NULL|        NULL|  NULL|   NULL| 8.473142521316586E9|2043.1281541827552|     NaN|18.041791154505876|3.2908288623558097E7|                NULL| 829.8909432082618|\n",
            "|    min|              !!!|     Guest|   Aakash|     F|                 0| Acevedo|           1.12281| free|Aberdeen, WA|   GET|  About|       1463503881284|                 9|      #1|               200|       1513720872284|\"Mozilla/5.0 (Mac...|                  |\n",
            "|    max|ÃÂlafur Arnalds|Logged Out|     Zoie|     M|               163|  Zuniga|         1806.8371| paid|    Yuma, AZ|   PUT|Upgrade|       1513760702284|              7144|wingless|               404|       1513848349284|Mozilla/5.0 (comp...|               999|\n",
            "+-------+-----------------+----------+---------+------+------------------+--------+------------------+-----+------------+------+-------+--------------------+------------------+--------+------------------+--------------------+--------------------+------------------+\n",
            "\n"
          ]
        }
      ]
    },
    {
      "cell_type": "code",
      "source": [
        "# Drop Rows with Missing Values\n",
        "user_log_valid = user_log.dropna(how = \"any\", subset = [\"userId\", \"sessionId\"])\n",
        "user_log_valid.count()"
      ],
      "metadata": {
        "colab": {
          "base_uri": "https://localhost:8080/"
        },
        "id": "rtIUnZUuBEI_",
        "outputId": "a29bb5e9-edef-47a8-fed2-ce9b2a5bdb3c"
      },
      "execution_count": 50,
      "outputs": [
        {
          "output_type": "execute_result",
          "data": {
            "text/plain": [
              "10000"
            ]
          },
          "metadata": {},
          "execution_count": 50
        }
      ]
    },
    {
      "cell_type": "code",
      "source": [
        "user_log.select(\"userId\").dropDuplicates().sort(\"userId\").show(n=9)"
      ],
      "metadata": {
        "colab": {
          "base_uri": "https://localhost:8080/"
        },
        "id": "R7AFUAvKBELt",
        "outputId": "ed91bf91-95b7-4c73-bec3-0330ab3caf20"
      },
      "execution_count": 51,
      "outputs": [
        {
          "output_type": "stream",
          "name": "stdout",
          "text": [
            "+------+\n",
            "|userId|\n",
            "+------+\n",
            "|      |\n",
            "|    10|\n",
            "|   100|\n",
            "|  1000|\n",
            "|  1003|\n",
            "|  1005|\n",
            "|  1006|\n",
            "|  1017|\n",
            "|  1019|\n",
            "+------+\n",
            "only showing top 9 rows\n",
            "\n"
          ]
        }
      ]
    },
    {
      "cell_type": "code",
      "source": [
        "user_log_valid.select(\"page\").distinct().show()"
      ],
      "metadata": {
        "colab": {
          "base_uri": "https://localhost:8080/"
        },
        "id": "vgQ3zeb7E3qQ",
        "outputId": "943d0ef6-7999-4e8b-9f50-c229c86434d9"
      },
      "execution_count": 55,
      "outputs": [
        {
          "output_type": "stream",
          "name": "stdout",
          "text": [
            "+----------------+\n",
            "|            page|\n",
            "+----------------+\n",
            "|Submit Downgrade|\n",
            "|            Home|\n",
            "|       Downgrade|\n",
            "|          Logout|\n",
            "|   Save Settings|\n",
            "|           About|\n",
            "|        Settings|\n",
            "|           Login|\n",
            "|        NextSong|\n",
            "|            Help|\n",
            "|         Upgrade|\n",
            "|           Error|\n",
            "|  Submit Upgrade|\n",
            "+----------------+\n",
            "\n"
          ]
        }
      ]
    },
    {
      "cell_type": "code",
      "source": [
        "# Submit Downgrade\n",
        "\n",
        "user_log_valid.filter(\"page = 'Submit Downgrade'\").show()"
      ],
      "metadata": {
        "colab": {
          "base_uri": "https://localhost:8080/"
        },
        "id": "qs1ojwIiBEOW",
        "outputId": "5063b60b-a9b5-4d99-c4d5-a29cfadf13be"
      },
      "execution_count": 61,
      "outputs": [
        {
          "output_type": "stream",
          "name": "stdout",
          "text": [
            "+------+---------+---------+------+-------------+--------+------+-----+--------------------+------+----------------+-------------+---------+----+------+-------------+--------------------+------+\n",
            "|artist|     auth|firstName|gender|itemInSession|lastName|length|level|            location|method|            page| registration|sessionId|song|status|           ts|           userAgent|userId|\n",
            "+------+---------+---------+------+-------------+--------+------+-----+--------------------+------+----------------+-------------+---------+----+------+-------------+--------------------+------+\n",
            "|  NULL|Logged In|    Kelly|     F|           24|  Newton|  NULL| paid|Houston-The Woodl...|   PUT|Submit Downgrade|1513283366284|     5931|NULL|   307|1513768454284|Mozilla/5.0 (Wind...|  1138|\n",
            "+------+---------+---------+------+-------------+--------+------+-----+--------------------+------+----------------+-------------+---------+----+------+-------------+--------------------+------+\n",
            "\n"
          ]
        }
      ]
    },
    {
      "cell_type": "code",
      "source": [
        "# Save Settings\n",
        "\n",
        "user_log_valid.filter(\"page = 'Save Settings'\").show()"
      ],
      "metadata": {
        "colab": {
          "base_uri": "https://localhost:8080/"
        },
        "id": "D6sX3tFUFK7Y",
        "outputId": "3399024e-de12-4090-cfc0-849689ee7d35"
      },
      "execution_count": 60,
      "outputs": [
        {
          "output_type": "stream",
          "name": "stdout",
          "text": [
            "+------+---------+---------+------+-------------+--------+------+-----+--------------------+------+-------------+-------------+---------+----+------+-------------+--------------------+------+\n",
            "|artist|     auth|firstName|gender|itemInSession|lastName|length|level|            location|method|         page| registration|sessionId|song|status|           ts|           userAgent|userId|\n",
            "+------+---------+---------+------+-------------+--------+------+-----+--------------------+------+-------------+-------------+---------+----+------+-------------+--------------------+------+\n",
            "|  NULL|Logged In|  Enrique|     M|           17|  Miller|  NULL| paid|Chicago-Napervill...|   PUT|Save Settings|1500182660284|     5641|NULL|   307|1513739372284|\"Mozilla/5.0 (Win...|    58|\n",
            "|  NULL|Logged In|  Damarco|     M|            2|  Cooper|  NULL| paid|   Winston-Salem, NC|   PUT|Save Settings|1510023739284|     5104|NULL|   307|1513751955284|Mozilla/5.0 (Wind...|  1647|\n",
            "|  NULL|Logged In|  Michael|     M|            4|    Hill|  NULL| paid|      Huntsville, AL|   PUT|Save Settings|1507609419284|     3266|NULL|   307|1513783958284|\"Mozilla/5.0 (Mac...|   957|\n",
            "|  NULL|Logged In|     John|     M|           32|  Bryant|  NULL| paid|New York-Newark-J...|   PUT|Save Settings|1511650852284|     5066|NULL|   307|1513794928284|Mozilla/5.0 (Wind...|  1961|\n",
            "|  NULL|Logged In|    Kaden|     M|           46|  Mclean|  NULL| paid|Phoenix-Mesa-Scot...|   PUT|Save Settings|1504346253284|     5642|NULL|   307|1513795549284|\"Mozilla/5.0 (Mac...|  1611|\n",
            "|  NULL|Logged In|    Kaden|     M|           50|  Mclean|  NULL| paid|Phoenix-Mesa-Scot...|   PUT|Save Settings|1504346253284|     5642|NULL|   307|1513795684284|\"Mozilla/5.0 (Mac...|  1611|\n",
            "|  NULL|Logged In|    Lucas|     M|            2| Johnson|  NULL| paid|Minneapolis-St. P...|   PUT|Save Settings|1493437470284|      589|NULL|   307|1513804107284|\"Mozilla/5.0 (Win...|   590|\n",
            "|  NULL|Logged In|     John|     M|            6|   Banks|  NULL| free|Seattle-Tacoma-Be...|   PUT|Save Settings|1505068819284|     6527|NULL|   307|1513804887284|\"Mozilla/5.0 (Win...|  2767|\n",
            "|  NULL|Logged In|  Enrique|     M|           77|  Miller|  NULL| paid|Chicago-Napervill...|   PUT|Save Settings|1500182660284|     6740|NULL|   307|1513825667284|\"Mozilla/5.0 (Win...|    58|\n",
            "|  NULL|Logged In|   Kamiya|     F|            3|    Dean|  NULL| free|        Rockford, IL|   PUT|Save Settings|1508817838284|     5568|NULL|   307|1513845228284|Mozilla/5.0 (Wind...|  2566|\n",
            "|  NULL|Logged In|    Lucas|     M|            2|  Lawson|  NULL| free|Scranton--Wilkes-...|   PUT|Save Settings|1508972403284|     2879|NULL|   307|1513845370284|\"Mozilla/5.0 (Win...|  2880|\n",
            "+------+---------+---------+------+-------------+--------+------+-----+--------------------+------+-------------+-------------+---------+----+------+-------------+--------------------+------+\n",
            "\n"
          ]
        }
      ]
    },
    {
      "cell_type": "code",
      "source": [
        "# NextSong\n",
        "\n",
        "user_log_valid.filter(\"page = 'NextSong'\").show()"
      ],
      "metadata": {
        "colab": {
          "base_uri": "https://localhost:8080/"
        },
        "id": "7od8XPjlFVJc",
        "outputId": "e6658563-70c6-49be-d3ed-712dacaddbe2"
      },
      "execution_count": 59,
      "outputs": [
        {
          "output_type": "stream",
          "name": "stdout",
          "text": [
            "+--------------------+---------+---------+------+-------------+---------+---------+-----+--------------------+------+--------+-------------+---------+--------------------+------+-------------+--------------------+------+\n",
            "|              artist|     auth|firstName|gender|itemInSession| lastName|   length|level|            location|method|    page| registration|sessionId|                song|status|           ts|           userAgent|userId|\n",
            "+--------------------+---------+---------+------+-------------+---------+---------+-----+--------------------+------+--------+-------------+---------+--------------------+------+-------------+--------------------+------+\n",
            "|       Showaddywaddy|Logged In|  Kenneth|     M|          112| Matthews|232.93342| paid|Charlotte-Concord...|   PUT|NextSong|1509380319284|     5132|Christmas Tears W...|   200|1513720872284|\"Mozilla/5.0 (Win...|  1046|\n",
            "|          Lily Allen|Logged In|Elizabeth|     F|            7|    Chase|195.23873| free|Shreveport-Bossie...|   PUT|NextSong|1512718541284|     5027|       Cheryl Tweedy|   200|1513720878284|\"Mozilla/5.0 (Win...|  1000|\n",
            "|Cobra Starship Fe...|Logged In|     Vera|     F|            6|Blackwell|196.20526| paid|          Racine, WI|   PUT|NextSong|1499855749284|     5516|Good Girls Go Bad...|   200|1513720881284|\"Mozilla/5.0 (Mac...|  2219|\n",
            "|          Alex Smoke|Logged In|   Sophee|     F|            8|   Barker|405.99465| paid|San Luis Obispo-P...|   PUT|NextSong|1513009647284|     2372| Don't See The Point|   200|1513720905284|\"Mozilla/5.0 (Win...|  2373|\n",
            "|              Redman|Logged In|    Paige|     F|            0|   Hunter|154.53995| free|       Brownwood, TX|   PUT|NextSong|1498414068284|     4406|        Smoke Buddah|   200|1513720955284|\"Mozilla/5.0 (Mac...|  1162|\n",
            "|     Ulrich Schnauss|Logged In|  Gabriel|     M|            2|     Koch|402.93832| paid|     Panama City, FL|   PUT|NextSong|1505820418284|     1060|           On My Own|   200|1513720959284|Mozilla/5.0 (Wind...|  1061|\n",
            "|               Jay-Z|Logged In|  Micheal|     M|           23|   Morgan|223.26812| paid|        Sterling, CO|   PUT|NextSong|1485051492284|     5175|Heart Of The City...|   200|1513720983284|\"Mozilla/5.0 (Win...|  1806|\n",
            "|         Evanescence|Logged In|    Mason|     M|            3|   Thomas|237.11302| paid|Indianapolis-Carm...|   PUT|NextSong|1487015656284|     5661|    Bring Me To Life|   200|1513720993284|Mozilla/5.0 (comp...|   748|\n",
            "|     Scissor Sisters|Logged In|   Justin|     M|           82|    Jones|218.01751| paid|          Dayton, TN|   PUT|NextSong|1504706730284|     1175|               Laura|   200|1513721031284|\"Mozilla/5.0 (Win...|  1176|\n",
            "|        3 Doors Down|Logged In|     Zoie|     F|           28|   Wright|237.13914| paid|Chicago-Napervill...|   PUT|NextSong|1512172030284|     2163|    Here Without You|   200|1513721045284|\"Mozilla/5.0 (Mac...|  2164|\n",
            "|       George Younce|Logged In|  Malachi|     M|            3|     Lane|191.68608| free|     Sioux Falls, SD|   PUT|NextSong|1510109243284|     5272|This Old House w/...|   200|1513721058284|Mozilla/5.0 (Wind...|  2146|\n",
            "|              Aly-Us|Logged In|     Vera|     F|            7|Blackwell|383.58159| paid|          Racine, WI|   PUT|NextSong|1499855749284|     5516|Follow Me (Club Mix)|   200|1513721077284|\"Mozilla/5.0 (Mac...|  2219|\n",
            "|            BjÃÂ¶rk|Logged In|    Elena|     F|            0|   Newman|348.57751| free|Boston-Cambridge-...|   PUT|NextSong|1513494341284|     2903|                Undo|   200|1513721095284|Mozilla/5.0 (Wind...|  2904|\n",
            "|      David Bromberg|Logged In|Alexander|     M|            1|    Short|146.36363| free|       Green Bay, WI|   PUT|NextSong|1513594398284|     3689|Sheebeg And Sheemore|   200|1513721097284|\"Mozilla/5.0 (Win...|   597|\n",
            "|          Nickelback|Logged In|  Abigail|     F|            4| Davidson|238.18404| paid|Lansing-East Lans...|   PUT|NextSong|1513173389284|     4591|Far Away (Album V...|   200|1513721104284|\"Mozilla/5.0 (Mac...|   226|\n",
            "|       Darius Rucker|Logged In|  Kenneth|     M|          113| Matthews|206.00118| paid|Charlotte-Concord...|   PUT|NextSong|1509380319284|     5132|  Be Wary Of A Woman|   200|1513721104284|\"Mozilla/5.0 (Win...|  1046|\n",
            "|       Mayday Parade|Logged In|    Paige|     F|            1|   Hunter|241.42322| free|       Brownwood, TX|   PUT|NextSong|1498414068284|     4406|I'd Hate To Be Yo...|   200|1513721109284|\"Mozilla/5.0 (Mac...|  1162|\n",
            "|        Simple Minds|Logged In|    Ryder|     M|            1|Rodriguez|401.78893| free|        Freeport, IL|   PUT|NextSong|1513668346284|     2941|       Oh Jungleland|   200|1513721127284|\"Mozilla/5.0 (Mac...|  2942|\n",
            "|    Dropkick Murphys|Logged In|   Eliana|     F|            1|   Thomas|159.76444| paid|       Knoxville, TN|   PUT|NextSong|1511496362284|     4686|Captain Kelly's K...|   200|1513721182284|\"Mozilla/5.0 (Win...|  2779|\n",
            "|     Milczenie Owiec|Logged In|  Micheal|     M|           24|   Morgan|219.29751| paid|        Sterling, CO|   PUT|NextSong|1485051492284|     5175|             CIEÃÂ|   200|1513721206284|\"Mozilla/5.0 (Win...|  1806|\n",
            "+--------------------+---------+---------+------+-------------+---------+---------+-----+--------------------+------+--------+-------------+---------+--------------------+------+-------------+--------------------+------+\n",
            "only showing top 20 rows\n",
            "\n"
          ]
        }
      ]
    },
    {
      "cell_type": "code",
      "source": [
        "# Upgrade\n",
        "\n",
        "user_log_valid.filter(\"page = 'Upgrade'\").show()"
      ],
      "metadata": {
        "colab": {
          "base_uri": "https://localhost:8080/"
        },
        "id": "mEhlNIRiFVGN",
        "outputId": "4bee2563-906e-46dd-9b29-87c6601f03a4"
      },
      "execution_count": 58,
      "outputs": [
        {
          "output_type": "stream",
          "name": "stdout",
          "text": [
            "+------+---------+---------+------+-------------+---------+------+-----+--------------------+------+-------+-------------+---------+----+------+-------------+--------------------+------+\n",
            "|artist|     auth|firstName|gender|itemInSession| lastName|length|level|            location|method|   page| registration|sessionId|song|status|           ts|           userAgent|userId|\n",
            "+------+---------+---------+------+-------------+---------+------+-----+--------------------+------+-------+-------------+---------+----+------+-------------+--------------------+------+\n",
            "|  NULL|Logged In|   Easton|     M|            1|   Harris|  NULL| free|Washington-Arling...|   GET|Upgrade|1511647902284|     4748|NULL|   200|1513727963284|\"Mozilla/5.0 (Win...|   553|\n",
            "|  NULL|Logged In|   Ashton|     M|            3|   Nelson|  NULL| free|Los Angeles-Long ...|   GET|Upgrade|1510608931284|      511|NULL|   200|1513730196284|Mozilla/5.0 (Wind...|   512|\n",
            "|  NULL|Logged In|   Dreden|     M|            2|Rodriguez|  NULL| free|New York-Newark-J...|   GET|Upgrade|1513620661284|     5846|NULL|   200|1513739103284|Mozilla/5.0 (Wind...|  1232|\n",
            "|  NULL|Logged In|  Emireth|     F|            4|Rodriguez|  NULL| free|  Killeen-Temple, TX|   GET|Upgrade|1481208032284|      445|NULL|   200|1513741304284|\"Mozilla/5.0 (Mac...|   446|\n",
            "|  NULL|Logged In|    Silas|     M|            9|   Coffey|  NULL| free|  Kansas City, MO-KS|   GET|Upgrade|1508499135284|     5826|NULL|   200|1513744352284|Mozilla/5.0 (Wind...|  2528|\n",
            "|  NULL|Logged In| Jonathan|     M|            1|  Webster|  NULL| free|Los Angeles-Long ...|   GET|Upgrade|1505697773284|     1078|NULL|   200|1513749215284|\"Mozilla/5.0 (Mac...|  1079|\n",
            "|  NULL|Logged In|     Ella|     F|            3|    Evans|  NULL| free|    Cedar Rapids, IA|   GET|Upgrade|1513136437284|     5903|NULL|   200|1513752510284|\"Mozilla/5.0 (Mac...|  2636|\n",
            "|  NULL|Logged In|   London|     F|            1|Dominguez|  NULL| free|        Syracuse, NY|   GET|Upgrade|1512967206284|      539|NULL|   200|1513753825284|\"Mozilla/5.0 (Mac...|   540|\n",
            "|  NULL|Logged In| Samantha|     F|            4|    Gates|  NULL| free|Naples-Immokalee-...|   GET|Upgrade|1513618017284|     4353|NULL|   200|1513766125284|\"Mozilla/5.0 (Mac...|   989|\n",
            "|  NULL|Logged In| Michelle|     F|            8|Hernandez|  NULL| free|Los Angeles-Long ...|   GET|Upgrade|1512904367284|     2003|NULL|   200|1513770590284|\"Mozilla/5.0 (Mac...|  2004|\n",
            "|  NULL|Logged In|    Lucas|     M|            1|  Mcbride|  NULL| free|  Kansas City, MO-KS|   GET|Upgrade|1485753479284|     6093|NULL|   200|1513773625284|\"Mozilla/5.0 (Win...|  1580|\n",
            "|  NULL|Logged In|  Zachary|     M|            5| Oconnell|  NULL| free|Chicago-Napervill...|   GET|Upgrade|1505352683284|     6195|NULL|   200|1513780819284|\"Mozilla/5.0 (Win...|  2533|\n",
            "|  NULL|Logged In|  Zachary|     M|            6| Oconnell|  NULL| free|Chicago-Napervill...|   GET|Upgrade|1505352683284|     6195|NULL|   200|1513780892284|\"Mozilla/5.0 (Win...|  2533|\n",
            "|  NULL|Logged In|     Jack|     M|            6|    Kelly|  NULL| free|Los Angeles-Long ...|   GET|Upgrade|1492304380284|     5341|NULL|   200|1513781765284|\"Mozilla/5.0 (Mac...|  1869|\n",
            "|  NULL|Logged In|  Ryleigh|     F|            1| Melendez|  NULL| free|Dallas-Fort Worth...|   GET|Upgrade|1503040317284|     2080|NULL|   200|1513783319284|\"Mozilla/5.0 (Mac...|  2081|\n",
            "|  NULL|Logged In|  Milania|     F|            2|     Buck|  NULL| free|Austin-Round Rock...|   GET|Upgrade|1507906314284|     5249|NULL|   200|1513784358284|\"Mozilla/5.0 (Mac...|   900|\n",
            "|  NULL|Logged In|    Ethan|     M|            2|  Schmidt|  NULL| free|Indianapolis-Carm...|   GET|Upgrade|1495789080284|     4990|NULL|   200|1513784884284|\"Mozilla/5.0 (Win...|  1296|\n",
            "|  NULL|Logged In|    Ethan|     M|            3|  Schmidt|  NULL| free|Indianapolis-Carm...|   GET|Upgrade|1495789080284|     4990|NULL|   200|1513784984284|\"Mozilla/5.0 (Win...|  1296|\n",
            "|  NULL|Logged In|     Erik|     M|            2|   Martin|  NULL| free|Dallas-Fort Worth...|   GET|Upgrade|1505313907284|     5819|NULL|   200|1513787576284|\"Mozilla/5.0 (Win...|    32|\n",
            "|  NULL|Logged In|   Justin|     M|            1|   Jordan|  NULL| free|       Rochester, NY|   GET|Upgrade|1509201044284|     6330|NULL|   200|1513787712284|\"Mozilla/5.0 (Mac...|  2760|\n",
            "+------+---------+---------+------+-------------+---------+------+-----+--------------------+------+-------+-------------+---------+----+------+-------------+--------------------+------+\n",
            "only showing top 20 rows\n",
            "\n"
          ]
        }
      ]
    },
    {
      "cell_type": "code",
      "source": [
        "# Error\n",
        "\n",
        "user_log_valid.filter(\"page = 'Error'\").show()"
      ],
      "metadata": {
        "colab": {
          "base_uri": "https://localhost:8080/"
        },
        "id": "fNJS4EkFFK9-",
        "outputId": "663e59f9-3210-40a8-ded6-b3bb934353cd"
      },
      "execution_count": 62,
      "outputs": [
        {
          "output_type": "stream",
          "name": "stdout",
          "text": [
            "+------+---------+---------+------+-------------+---------+------+-----+--------------------+------+-----+-------------+---------+----+------+-------------+--------------------+------+\n",
            "|artist|     auth|firstName|gender|itemInSession| lastName|length|level|            location|method| page| registration|sessionId|song|status|           ts|           userAgent|userId|\n",
            "+------+---------+---------+------+-------------+---------+------+-----+--------------------+------+-----+-------------+---------+----+------+-------------+--------------------+------+\n",
            "|  NULL|Logged In|     Zoie|     F|           87|   Wright|  NULL| paid|Chicago-Napervill...|   GET|Error|1512172030284|     2163|NULL|   404|1513734618284|\"Mozilla/5.0 (Mac...|  2164|\n",
            "|  NULL|Logged In|   Sophia|     F|           13|Gutierrez|  NULL| paid|Birmingham-Hoover...|   GET|Error|1513249725284|     4678|NULL|   404|1513744733284|\"Mozilla/5.0 (Mac...|  1037|\n",
            "|  NULL|Logged In|    Diego|     M|            5|   Thomas|  NULL| paid|       Blackfoot, ID|   GET|Error|1506879344284|     5579|NULL|   404|1513747163284|\"Mozilla/5.0 (Mac...|  1019|\n",
            "|  NULL|Logged In|    Jacob|     M|            1|   Murphy|  NULL| free|         Jackson, MI|   GET|Error|1479312267284|     6178|NULL|   404|1513781964284|\"Mozilla/5.0 (Mac...|  1964|\n",
            "|  NULL|Logged In|    Tyler|     M|            3|   Morris|  NULL| paid|Philadelphia-Camd...|   GET|Error|1509616156284|     6050|NULL|   404|1513782455284|\"Mozilla/5.0 (Mac...|  1950|\n",
            "|  NULL|Logged In|   Olivia|     F|           10|   Oneill|  NULL| paid|Allentown-Bethleh...|   GET|Error|1488509117284|     1084|NULL|   404|1513788122284|\"Mozilla/5.0 (Mac...|  1085|\n",
            "|  NULL|Logged In|  Enrique|     M|           28|   Miller|  NULL| paid|Chicago-Napervill...|   GET|Error|1500182660284|     6616|NULL|   404|1513795450284|\"Mozilla/5.0 (Win...|    58|\n",
            "|  NULL|Logged In|     Jose|     M|           15|   Becker|  NULL| paid|     Albuquerque, NM|   GET|Error|1491713721284|     5394|NULL|   404|1513800388284|Mozilla/5.0 (X11;...|   141|\n",
            "|  NULL|Logged In|    Lucas|     M|           13|  Johnson|  NULL| paid|Minneapolis-St. P...|   GET|Error|1493437470284|      589|NULL|   404|1513805955284|\"Mozilla/5.0 (Win...|   590|\n",
            "|  NULL|Logged In|   Joseph|     M|           71|    Beard|  NULL| paid|Philadelphia-Camd...|   GET|Error|1507105256284|     5525|NULL|   404|1513827019284|\"Mozilla/5.0 (Mac...|  1082|\n",
            "|  NULL|Logged In|  Brennan|     M|            2|   Oliver|  NULL| free|Houston-The Woodl...|   GET|Error|1488751398284|     6775|NULL|   404|1513844848284|\"Mozilla/5.0 (Mac...|  2117|\n",
            "|  NULL|Logged In|      Ava|     F|            3|   Walker|  NULL| paid|     Springfield, MO|   GET|Error|1498732510284|     5679|NULL|   404|1513847424284|\"Mozilla/5.0 (Win...|  1915|\n",
            "+------+---------+---------+------+-------------+---------+------+-----+--------------------+------+-----+-------------+---------+----+------+-------------+--------------------+------+\n",
            "\n"
          ]
        }
      ]
    },
    {
      "cell_type": "code",
      "source": [
        "user_log.select([\"userId\", \"firstname\", \"page\", \"level\", \"song\"]).where(user_log.userId == \"1138\").collect()"
      ],
      "metadata": {
        "colab": {
          "base_uri": "https://localhost:8080/"
        },
        "id": "SEbbKBdjBERF",
        "outputId": "84a5820d-5555-4bd3-9e9f-c3db2404686a"
      },
      "execution_count": 65,
      "outputs": [
        {
          "output_type": "execute_result",
          "data": {
            "text/plain": [
              "[Row(userId='1138', firstname='Kelly', page='Home', level='paid', song=None),\n",
              " Row(userId='1138', firstname='Kelly', page='NextSong', level='paid', song='Everybody Everybody'),\n",
              " Row(userId='1138', firstname='Kelly', page='NextSong', level='paid', song='Gears'),\n",
              " Row(userId='1138', firstname='Kelly', page='NextSong', level='paid', song='Use Somebody'),\n",
              " Row(userId='1138', firstname='Kelly', page='NextSong', level='paid', song='Love Of My Life (1993 Digital Remaster)'),\n",
              " Row(userId='1138', firstname='Kelly', page='NextSong', level='paid', song='Down In The Valley Woe'),\n",
              " Row(userId='1138', firstname='Kelly', page='NextSong', level='paid', song='Treat Her Like A Lady'),\n",
              " Row(userId='1138', firstname='Kelly', page='NextSong', level='paid', song=\"Everybody Thinks You're An Angel\"),\n",
              " Row(userId='1138', firstname='Kelly', page='NextSong', level='paid', song='Fourteen Wives'),\n",
              " Row(userId='1138', firstname='Kelly', page='NextSong', level='paid', song='Love On The Rocks'),\n",
              " Row(userId='1138', firstname='Kelly', page='NextSong', level='paid', song='Breakeven'),\n",
              " Row(userId='1138', firstname='Kelly', page='NextSong', level='paid', song='Leaf House'),\n",
              " Row(userId='1138', firstname='Kelly', page='NextSong', level='paid', song='NAISEN KANSSA'),\n",
              " Row(userId='1138', firstname='Kelly', page='NextSong', level='paid', song=\"You're In My Heart\"),\n",
              " Row(userId='1138', firstname='Kelly', page='NextSong', level='paid', song='Roll On Down The Highway'),\n",
              " Row(userId='1138', firstname='Kelly', page='NextSong', level='paid', song='Plasticities (Remix)'),\n",
              " Row(userId='1138', firstname='Kelly', page='NextSong', level='paid', song='Secrets'),\n",
              " Row(userId='1138', firstname='Kelly', page='NextSong', level='paid', song='Hello'),\n",
              " Row(userId='1138', firstname='Kelly', page='NextSong', level='paid', song='I Never Told You'),\n",
              " Row(userId='1138', firstname='Kelly', page='NextSong', level='paid', song='Love Break Me'),\n",
              " Row(userId='1138', firstname='Kelly', page='NextSong', level='paid', song='One Touch One Bounce'),\n",
              " Row(userId='1138', firstname='Kelly', page='NextSong', level='paid', song='Undo'),\n",
              " Row(userId='1138', firstname='Kelly', page='NextSong', level='paid', song='Overdue (Blackbeard Remix)'),\n",
              " Row(userId='1138', firstname='Kelly', page='NextSong', level='paid', song='Slave To Love (1999 Digital Remaster)'),\n",
              " Row(userId='1138', firstname='Kelly', page='NextSong', level='paid', song='Stronger'),\n",
              " Row(userId='1138', firstname='Kelly', page='NextSong', level='paid', song='All Of Us (Album Version)'),\n",
              " Row(userId='1138', firstname='Kelly', page='NextSong', level='paid', song='Sehr kosmisch'),\n",
              " Row(userId='1138', firstname='Kelly', page='NextSong', level='paid', song='March Of The Celts'),\n",
              " Row(userId='1138', firstname='Kelly', page='NextSong', level='paid', song='Electricity'),\n",
              " Row(userId='1138', firstname='Kelly', page='NextSong', level='paid', song='Aces High'),\n",
              " Row(userId='1138', firstname='Kelly', page='NextSong', level='paid', song='Bananeira'),\n",
              " Row(userId='1138', firstname='Kelly', page='NextSong', level='paid', song='The General'),\n",
              " Row(userId='1138', firstname='Kelly', page='NextSong', level='paid', song='HÃ\\x83Â©roe De Leyenda (VersiÃ\\x83Â³n Maxi)'),\n",
              " Row(userId='1138', firstname='Kelly', page='NextSong', level='paid', song=\"Don't Stop The Music\"),\n",
              " Row(userId='1138', firstname='Kelly', page='NextSong', level='paid', song=\"You're The One\"),\n",
              " Row(userId='1138', firstname='Kelly', page='NextSong', level='paid', song='Entering White Cecilia'),\n",
              " Row(userId='1138', firstname='Kelly', page='NextSong', level='paid', song='Piccolo Cesare'),\n",
              " Row(userId='1138', firstname='Kelly', page='Help', level='paid', song=None),\n",
              " Row(userId='1138', firstname='Kelly', page='NextSong', level='paid', song='Last Christmas (Album Version)'),\n",
              " Row(userId='1138', firstname='Kelly', page='NextSong', level='paid', song='You Shook Me'),\n",
              " Row(userId='1138', firstname='Kelly', page='NextSong', level='paid', song='Going Steady'),\n",
              " Row(userId='1138', firstname='Kelly', page='NextSong', level='paid', song='My Name Is'),\n",
              " Row(userId='1138', firstname='Kelly', page='NextSong', level='paid', song='Undo'),\n",
              " Row(userId='1138', firstname='Kelly', page='NextSong', level='paid', song='Secrets'),\n",
              " Row(userId='1138', firstname='Kelly', page='NextSong', level='paid', song='Good Times Gone (Album Version)'),\n",
              " Row(userId='1138', firstname='Kelly', page='NextSong', level='paid', song='Angelito'),\n",
              " Row(userId='1138', firstname='Kelly', page='NextSong', level='paid', song='Batdance ( LP Version )'),\n",
              " Row(userId='1138', firstname='Kelly', page='Home', level='paid', song=None),\n",
              " Row(userId='1138', firstname='Kelly', page='NextSong', level='paid', song='DiÃ\\x83Â¡kdal'),\n",
              " Row(userId='1138', firstname='Kelly', page='NextSong', level='paid', song='Whirring'),\n",
              " Row(userId='1138', firstname='Kelly', page='NextSong', level='paid', song='Potholderz (feat. Count Bass D)'),\n",
              " Row(userId='1138', firstname='Kelly', page='NextSong', level='paid', song='Seaside'),\n",
              " Row(userId='1138', firstname='Kelly', page='NextSong', level='paid', song='Louder Than A Bomb'),\n",
              " Row(userId='1138', firstname='Kelly', page='NextSong', level='paid', song='Just Like You'),\n",
              " Row(userId='1138', firstname='Kelly', page='NextSong', level='paid', song=\"You're The One\"),\n",
              " Row(userId='1138', firstname='Kelly', page='NextSong', level='paid', song='Turn It Again (Album Version)'),\n",
              " Row(userId='1138', firstname='Kelly', page='NextSong', level='paid', song='Everywhere I Go'),\n",
              " Row(userId='1138', firstname='Kelly', page='NextSong', level='paid', song=\"Easy Skankin'\"),\n",
              " Row(userId='1138', firstname='Kelly', page='NextSong', level='paid', song='Roses'),\n",
              " Row(userId='1138', firstname='Kelly', page='NextSong', level='paid', song='Killing Me Softly With His Song'),\n",
              " Row(userId='1138', firstname='Kelly', page='NextSong', level='paid', song='The Razor (Album Version)'),\n",
              " Row(userId='1138', firstname='Kelly', page='NextSong', level='paid', song='Idols and Anchors'),\n",
              " Row(userId='1138', firstname='Kelly', page='Downgrade', level='paid', song=None),\n",
              " Row(userId='1138', firstname='Kelly', page='Submit Downgrade', level='paid', song=None),\n",
              " Row(userId='1138', firstname='Kelly', page='Home', level='free', song=None),\n",
              " Row(userId='1138', firstname='Kelly', page='NextSong', level='free', song='Bones'),\n",
              " Row(userId='1138', firstname='Kelly', page='Home', level='free', song=None),\n",
              " Row(userId='1138', firstname='Kelly', page='NextSong', level='free', song='Grenouilles Mantidactylus (Small Frogs)')]"
            ]
          },
          "metadata": {},
          "execution_count": 65
        }
      ]
    }
  ]
}