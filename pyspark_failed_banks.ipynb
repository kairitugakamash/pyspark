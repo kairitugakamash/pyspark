{
 "cells": [
  {
   "cell_type": "markdown",
   "metadata": {
    "application/vnd.databricks.v1+cell": {
     "cellMetadata": {},
     "inputWidgets": {},
     "nuid": "62e162a5-14b0-4e27-81ed-cee8005d72bc",
     "showTitle": false,
     "tableResultSettingsMap": {},
     "title": ""
    }
   },
   "source": [
    "# Goals\n",
    "1. download opensource data using wget\n",
    "2. move the data to where it can be read into a dataframe\n",
    "3. read the data into a spark dataframe\n",
    "4. clean up column names\n",
    "5. have a high overview of the dataset\n",
    "6. orderBy vs. sort functions\n",
    "7. sort data using raw sql syntax\n",
    "8. Find Maximum Row per Group in DataFrame\n",
    "9.\n",
    "10\n"
   ]
  },
  {
   "cell_type": "code",
   "execution_count": 0,
   "metadata": {
    "application/vnd.databricks.v1+cell": {
     "cellMetadata": {
      "byteLimit": 2048000,
      "rowLimit": 10000
     },
     "inputWidgets": {},
     "nuid": "3d958976-fc3d-45d5-8820-7db030b0bcad",
     "showTitle": false,
     "tableResultSettingsMap": {},
     "title": ""
    }
   },
   "outputs": [],
   "source": [
    "# !pip install pyspark\n",
    "# !pip install wget\n",
    "# !pip install pandas"
   ]
  },
  {
   "cell_type": "markdown",
   "metadata": {
    "application/vnd.databricks.v1+cell": {
     "cellMetadata": {},
     "inputWidgets": {},
     "nuid": "9cd32d42-8b35-45e7-82e1-6b9273050cb6",
     "showTitle": false,
     "tableResultSettingsMap": {},
     "title": ""
    }
   },
   "source": [
    "# Import libraries"
   ]
  },
  {
   "cell_type": "code",
   "execution_count": 0,
   "metadata": {
    "application/vnd.databricks.v1+cell": {
     "cellMetadata": {
      "byteLimit": 2048000,
      "rowLimit": 10000
     },
     "inputWidgets": {},
     "nuid": "83b6ab24-95c2-4820-998d-5131bdd2ed66",
     "showTitle": false,
     "tableResultSettingsMap": {},
     "title": ""
    }
   },
   "outputs": [
    {
     "output_type": "display_data",
     "data": {
      "application/vnd.databricks.v1+bamboolib_hint": "{\"pd.DataFrames\": [], \"version\": \"0.0.1\"}",
      "text/plain": []
     },
     "metadata": {},
     "output_type": "display_data"
    }
   ],
   "source": [
    "import pandas as pd\n",
    "import wget\n",
    "from pyspark.sql import SparkSession"
   ]
  },
  {
   "cell_type": "markdown",
   "metadata": {
    "application/vnd.databricks.v1+cell": {
     "cellMetadata": {},
     "inputWidgets": {},
     "nuid": "ec7f29b1-030b-4c97-97c8-5b59f146c63c",
     "showTitle": false,
     "tableResultSettingsMap": {},
     "title": ""
    }
   },
   "source": [
    "# Create a spark session"
   ]
  },
  {
   "cell_type": "code",
   "execution_count": 0,
   "metadata": {
    "application/vnd.databricks.v1+cell": {
     "cellMetadata": {
      "byteLimit": 2048000,
      "rowLimit": 10000
     },
     "inputWidgets": {},
     "nuid": "aea4b690-8e79-4ad3-9b3c-d2a30a6bc005",
     "showTitle": false,
     "tableResultSettingsMap": {},
     "title": ""
    }
   },
   "outputs": [
    {
     "output_type": "display_data",
     "data": {
      "text/html": [
       "\n",
       "            <div>\n",
       "                <p><b>SparkSession - hive</b></p>\n",
       "                \n",
       "        <div>\n",
       "            <p><b>SparkContext</b></p>\n",
       "\n",
       "            <p><a href=\"/?o=1081780367670850#setting/sparkui/0101-182501-wv7pr1nd/driver-7050520965767902364\">Spark UI</a></p>\n",
       "\n",
       "            <dl>\n",
       "              <dt>Version</dt>\n",
       "                <dd><code>v3.3.2</code></dd>\n",
       "              <dt>Master</dt>\n",
       "                <dd><code>local[8]</code></dd>\n",
       "              <dt>AppName</dt>\n",
       "                <dd><code>Databricks Shell</code></dd>\n",
       "            </dl>\n",
       "        </div>\n",
       "        \n",
       "            </div>\n",
       "        "
      ]
     },
     "metadata": {
      "application/vnd.databricks.v1+output": {
       "addedWidgets": {},
       "arguments": {},
       "data": "\n            <div>\n                <p><b>SparkSession - hive</b></p>\n                \n        <div>\n            <p><b>SparkContext</b></p>\n\n            <p><a href=\"/?o=1081780367670850#setting/sparkui/0101-182501-wv7pr1nd/driver-7050520965767902364\">Spark UI</a></p>\n\n            <dl>\n              <dt>Version</dt>\n                <dd><code>v3.3.2</code></dd>\n              <dt>Master</dt>\n                <dd><code>local[8]</code></dd>\n              <dt>AppName</dt>\n                <dd><code>Databricks Shell</code></dd>\n            </dl>\n        </div>\n        \n            </div>\n        ",
       "datasetInfos": [],
       "metadata": {},
       "removedWidgets": [],
       "textData": null,
       "type": "htmlSandbox"
      }
     },
     "output_type": "display_data"
    }
   ],
   "source": [
    "# instantiate spark session\n",
    "spark = SparkSession.builder.appName(\"Kairitu_pyspark\").getOrCreate()\n",
    "spark"
   ]
  },
  {
   "cell_type": "markdown",
   "metadata": {
    "application/vnd.databricks.v1+cell": {
     "cellMetadata": {},
     "inputWidgets": {},
     "nuid": "04638ab2-8536-484d-a797-7084f7e4f316",
     "showTitle": false,
     "tableResultSettingsMap": {},
     "title": ""
    }
   },
   "source": [
    "# Opensource Failed Baks Dataset"
   ]
  },
  {
   "cell_type": "markdown",
   "metadata": {
    "application/vnd.databricks.v1+cell": {
     "cellMetadata": {},
     "inputWidgets": {},
     "nuid": "a07575f6-941e-4cfc-93fc-0f31e4db37cd",
     "showTitle": false,
     "tableResultSettingsMap": {},
     "title": ""
    }
   },
   "source": [
    "# Download the dataset"
   ]
  },
  {
   "cell_type": "code",
   "execution_count": 0,
   "metadata": {
    "application/vnd.databricks.v1+cell": {
     "cellMetadata": {
      "byteLimit": 2048000,
      "rowLimit": 10000
     },
     "inputWidgets": {},
     "nuid": "ea5bdbf5-f0e9-46c6-a3bf-4bf5e6fc3613",
     "showTitle": false,
     "tableResultSettingsMap": {},
     "title": ""
    }
   },
   "outputs": [
    {
     "output_type": "stream",
     "name": "stdout",
     "output_type": "stream",
     "text": [
      "Out[41]: 'banklist (2).csv'"
     ]
    }
   ],
   "source": [
    "# Download the dataset\n",
    "wget.download(\"https://www.fdic.gov/resources/resolutions/bank-failures/failed-bank-list/banklist.csv\")"
   ]
  },
  {
   "cell_type": "markdown",
   "metadata": {
    "application/vnd.databricks.v1+cell": {
     "cellMetadata": {},
     "inputWidgets": {},
     "nuid": "9010bcd5-f7df-4d6a-b737-43ee6b88a996",
     "showTitle": false,
     "tableResultSettingsMap": {},
     "title": ""
    }
   },
   "source": [
    "# Move or copy the dataset  to /FileStore/tables/"
   ]
  },
  {
   "cell_type": "code",
   "execution_count": 0,
   "metadata": {
    "application/vnd.databricks.v1+cell": {
     "cellMetadata": {
      "byteLimit": 2048000,
      "rowLimit": 10000
     },
     "inputWidgets": {},
     "nuid": "67603d31-afdd-42dd-817a-835e66af2411",
     "showTitle": false,
     "tableResultSettingsMap": {},
     "title": ""
    }
   },
   "outputs": [
    {
     "output_type": "stream",
     "name": "stdout",
     "output_type": "stream",
     "text": [
      "Out[42]: True"
     ]
    }
   ],
   "source": [
    "# Move or copy the dataset from the /databricks/driver/ to /FileStore/tables/\n",
    "# copy\n",
    "# dbutils.fs.cp('file:/databricks/driver/banklist (1).csv', 'dbfs:/FileStore/tables/')\n",
    "# move and rename\n",
    "dbutils.fs.mv('file:/databricks/driver/banklist (2).csv', 'dbfs:/FileStore/tables/banks_failed.csv')"
   ]
  },
  {
   "cell_type": "markdown",
   "metadata": {
    "application/vnd.databricks.v1+cell": {
     "cellMetadata": {},
     "inputWidgets": {},
     "nuid": "c28054ea-8ced-4312-ba3d-73c3b11f9abb",
     "showTitle": false,
     "tableResultSettingsMap": {},
     "title": ""
    }
   },
   "source": [
    "# Read the dataset into a dataframe"
   ]
  },
  {
   "cell_type": "code",
   "execution_count": 0,
   "metadata": {
    "application/vnd.databricks.v1+cell": {
     "cellMetadata": {
      "byteLimit": 2048000,
      "rowLimit": 10000
     },
     "inputWidgets": {},
     "nuid": "8609949c-6504-42b7-8064-5d3be645271b",
     "showTitle": false,
     "tableResultSettingsMap": {},
     "title": ""
    }
   },
   "outputs": [
    {
     "output_type": "stream",
     "name": "stdout",
     "output_type": "stream",
     "text": [
      "-RECORD 0-------------------------------------------------------\n Bank Name�             | First National Bank of Lindsay        \n City�                  | Lindsay                               \n State�                 | OK                                    \n Cert�                  | 4134                                  \n Acquiring Institution� | First Bank & Trust Co.                \n Closing Date�          | 18-Oct-24                             \n Fund                   | 10547                                 \n-RECORD 1-------------------------------------------------------\n Bank Name�             | Republic First Bank dba Republic Bank \n City�                  | Philadelphia                          \n State�                 | PA                                    \n Cert�                  | 27332                                 \n Acquiring Institution� | Fulton Bank, National Association     \n Closing Date�          | 26-Apr-24                             \n Fund                   | 10546                                 \nonly showing top 2 rows\n\n"
     ]
    }
   ],
   "source": [
    "# Read the dataset into a dataframe\n",
    "banks = spark.read.csv(\"/FileStore/tables/banks_failed.csv\", header=True, inferSchema=True)\n",
    "\n",
    "banks.show(n=2, vertical=True, truncate=False)"
   ]
  },
  {
   "cell_type": "code",
   "execution_count": 0,
   "metadata": {
    "application/vnd.databricks.v1+cell": {
     "cellMetadata": {
      "byteLimit": 2048000,
      "rowLimit": 10000
     },
     "inputWidgets": {},
     "nuid": "6670d6b5-6519-40f1-aa50-f3468907649e",
     "showTitle": false,
     "tableResultSettingsMap": {},
     "title": ""
    }
   },
   "outputs": [
    {
     "output_type": "stream",
     "name": "stdout",
     "output_type": "stream",
     "text": [
      "Out[46]: ['Bank Name�',\n 'City�',\n 'State�',\n 'Cert�',\n 'Acquiring Institution�',\n 'Closing Date�',\n 'Fund']"
     ]
    }
   ],
   "source": [
    "banks.columns"
   ]
  },
  {
   "cell_type": "code",
   "execution_count": 0,
   "metadata": {
    "application/vnd.databricks.v1+cell": {
     "cellMetadata": {
      "byteLimit": 2048000,
      "rowLimit": 10000
     },
     "inputWidgets": {},
     "nuid": "905d84cf-67b6-4bd6-830a-165945057442",
     "showTitle": false,
     "tableResultSettingsMap": {},
     "title": ""
    }
   },
   "outputs": [
    {
     "output_type": "stream",
     "name": "stdout",
     "output_type": "stream",
     "text": [
      "Out[48]: ['Bank Name',\n 'City',\n 'State',\n 'Cert',\n 'Acquiring Institution',\n 'Closing Date',\n 'Fund']"
     ]
    }
   ],
   "source": [
    "# Fix column names by removing the \"�\"\n",
    "for cols in banks.columns:\n",
    "    banks = banks.withColumnRenamed(cols, cols.replace(\"�\",\"\"))\n",
    "\n",
    "banks.columns"
   ]
  },
  {
   "cell_type": "code",
   "execution_count": 0,
   "metadata": {
    "application/vnd.databricks.v1+cell": {
     "cellMetadata": {
      "byteLimit": 2048000,
      "rowLimit": 10000
     },
     "inputWidgets": {},
     "nuid": "83bbcced-eafb-4774-a769-ac06032a48fa",
     "showTitle": false,
     "tableResultSettingsMap": {},
     "title": ""
    }
   },
   "outputs": [
    {
     "output_type": "stream",
     "name": "stdout",
     "output_type": "stream",
     "text": [
      "Out[49]: ['Bank_Name',\n 'City',\n 'State',\n 'Cert',\n 'Acquiring_Institution',\n 'Closing_Date',\n 'Fund']"
     ]
    }
   ],
   "source": [
    "# Fix column names by replacing the spaces with \"_\"\n",
    "for cols in banks.columns:\n",
    "    banks = banks.withColumnRenamed(cols, cols.replace(\" \",\"_\"))\n",
    "\n",
    "banks.columns"
   ]
  },
  {
   "cell_type": "code",
   "execution_count": 0,
   "metadata": {
    "application/vnd.databricks.v1+cell": {
     "cellMetadata": {
      "byteLimit": 2048000,
      "rowLimit": 10000
     },
     "inputWidgets": {},
     "nuid": "04f7814d-673f-4e77-ba00-13d5e46919eb",
     "showTitle": false,
     "tableResultSettingsMap": {},
     "title": ""
    }
   },
   "outputs": [
    {
     "output_type": "stream",
     "name": "stdout",
     "output_type": "stream",
     "text": [
      "Out[50]: ['bank_name',\n 'city',\n 'state',\n 'cert',\n 'acquiring_institution',\n 'closing_date',\n 'fund']"
     ]
    }
   ],
   "source": [
    "# Fix column names by making all names lowercase\n",
    "for cols in banks.columns:\n",
    "    banks = banks.withColumnRenamed(cols, cols.lower())\n",
    "\n",
    "banks.columns"
   ]
  },
  {
   "cell_type": "code",
   "execution_count": 0,
   "metadata": {
    "application/vnd.databricks.v1+cell": {
     "cellMetadata": {
      "byteLimit": 2048000,
      "rowLimit": 10000
     },
     "inputWidgets": {},
     "nuid": "d916b0a0-0da6-4116-8042-3a9a70d16ade",
     "showTitle": false,
     "tableResultSettingsMap": {},
     "title": ""
    }
   },
   "outputs": [
    {
     "output_type": "stream",
     "name": "stdout",
     "output_type": "stream",
     "text": [
      "-RECORD 0------------------------------------------------------\n bank_name             | First National Bank of Lindsay        \n city                  | Lindsay                               \n state                 | OK                                    \n cert                  | 4134                                  \n acquiring_institution | First Bank & Trust Co.                \n closing_date          | 18-Oct-24                             \n fund                  | 10547                                 \n-RECORD 1------------------------------------------------------\n bank_name             | Republic First Bank dba Republic Bank \n city                  | Philadelphia                          \n state                 | PA                                    \n cert                  | 27332                                 \n acquiring_institution | Fulton Bank, National Association     \n closing_date          | 26-Apr-24                             \n fund                  | 10546                                 \nonly showing top 2 rows\n\n"
     ]
    }
   ],
   "source": [
    "banks.show(n=2, vertical=True, truncate=False)"
   ]
  },
  {
   "cell_type": "markdown",
   "metadata": {
    "application/vnd.databricks.v1+cell": {
     "cellMetadata": {},
     "inputWidgets": {},
     "nuid": "06cd3c0c-2111-42d1-bd99-99cb8cdb1d7e",
     "showTitle": false,
     "tableResultSettingsMap": {},
     "title": ""
    }
   },
   "source": [
    "# dir(banks)"
   ]
  },
  {
   "cell_type": "code",
   "execution_count": 0,
   "metadata": {
    "application/vnd.databricks.v1+cell": {
     "cellMetadata": {
      "byteLimit": 2048000,
      "rowLimit": 10000
     },
     "inputWidgets": {},
     "nuid": "74601fdd-717d-4684-bda4-8a77e710f603",
     "showTitle": false,
     "tableResultSettingsMap": {},
     "title": ""
    }
   },
   "outputs": [
    {
     "output_type": "stream",
     "name": "stdout",
     "output_type": "stream",
     "text": [
      "Out[53]: ['__class__',\n '__delattr__',\n '__dict__',\n '__dir__',\n '__doc__',\n '__eq__',\n '__format__',\n '__ge__',\n '__getattr__',\n '__getattribute__',\n '__getitem__',\n '__gt__',\n '__hash__',\n '__init__',\n '__init_subclass__',\n '__le__',\n '__lt__',\n '__module__',\n '__ne__',\n '__new__',\n '__reduce__',\n '__reduce_ex__',\n '__repr__',\n '__setattr__',\n '__sizeof__',\n '__str__',\n '__subclasshook__',\n '__weakref__',\n '_collect_as_arrow',\n '_jcols',\n '_jdf',\n '_jmap',\n '_joinAsOf',\n '_jseq',\n '_lazy_rdd',\n '_repr_html_',\n '_sc',\n '_schema',\n '_session',\n '_sort_cols',\n '_sql_ctx',\n '_support_repr_html',\n '_to_corrected_pandas_type',\n 'agg',\n 'alias',\n 'approxQuantile',\n 'cache',\n 'checkpoint',\n 'coalesce',\n 'colRegex',\n 'collect',\n 'columns',\n 'corr',\n 'count',\n 'cov',\n 'createGlobalTempView',\n 'createOrReplaceGlobalTempView',\n 'createOrReplaceTempView',\n 'createTempView',\n 'crossJoin',\n 'crosstab',\n 'cube',\n 'describe',\n 'display',\n 'distinct',\n 'drop',\n 'dropDuplicates',\n 'drop_duplicates',\n 'dropna',\n 'dtypes',\n 'exceptAll',\n 'explain',\n 'fillna',\n 'filter',\n 'first',\n 'foreach',\n 'foreachPartition',\n 'freqItems',\n 'groupBy',\n 'groupby',\n 'head',\n 'hint',\n 'inputFiles',\n 'intersect',\n 'intersectAll',\n 'isEmpty',\n 'isLocal',\n 'isStreaming',\n 'is_cached',\n 'join',\n 'limit',\n 'localCheckpoint',\n 'mapInArrow',\n 'mapInPandas',\n 'melt',\n 'na',\n 'observe',\n 'orderBy',\n 'pandas_api',\n 'persist',\n 'printSchema',\n 'randomSplit',\n 'rdd',\n 'registerTempTable',\n 'repartition',\n 'repartitionByRange',\n 'replace',\n 'rollup',\n 'sameSemantics',\n 'sample',\n 'sampleBy',\n 'schema',\n 'select',\n 'selectExpr',\n 'semanticHash',\n 'show',\n 'sort',\n 'sortWithinPartitions',\n 'sparkSession',\n 'sql_ctx',\n 'stat',\n 'storageLevel',\n 'subtract',\n 'summary',\n 'tail',\n 'take',\n 'to',\n 'toDF',\n 'toJSON',\n 'toLocalIterator',\n 'toPandas',\n 'to_koalas',\n 'to_pandas_on_spark',\n 'transform',\n 'union',\n 'unionAll',\n 'unionByName',\n 'unpersist',\n 'unpivot',\n 'where',\n 'withColumn',\n 'withColumnRenamed',\n 'withColumns',\n 'withMetadata',\n 'withWatermark',\n 'write',\n 'writeStream',\n 'writeTo']"
     ]
    }
   ],
   "source": [
    "dir(banks)"
   ]
  },
  {
   "cell_type": "code",
   "execution_count": 0,
   "metadata": {
    "application/vnd.databricks.v1+cell": {
     "cellMetadata": {
      "byteLimit": 2048000,
      "rowLimit": 10000
     },
     "inputWidgets": {},
     "nuid": "45e23006-be84-4965-8bf7-faec9c610e0e",
     "showTitle": false,
     "tableResultSettingsMap": {},
     "title": ""
    }
   },
   "outputs": [
    {
     "output_type": "stream",
     "name": "stdout",
     "output_type": "stream",
     "text": [
      "Out[78]: ['bank_name',\n 'city',\n 'state',\n 'cert',\n 'acquiring_institution',\n 'closing_date',\n 'fund']"
     ]
    }
   ],
   "source": [
    "banks.columns"
   ]
  },
  {
   "cell_type": "code",
   "execution_count": 0,
   "metadata": {
    "application/vnd.databricks.v1+cell": {
     "cellMetadata": {
      "byteLimit": 2048000,
      "rowLimit": 10000
     },
     "inputWidgets": {},
     "nuid": "a8cc820b-bbd5-470e-9f8d-d9a2e3f564d4",
     "showTitle": false,
     "tableResultSettingsMap": {},
     "title": ""
    }
   },
   "outputs": [
    {
     "output_type": "stream",
     "name": "stdout",
     "output_type": "stream",
     "text": [
      "+-------+--------------------+-------+-----+------------------+---------------------+------------+-----------------+\n|summary|           bank_name|   city|state|              cert|acquiring_institution|closing_date|             fund|\n+-------+--------------------+-------+-----+------------------+---------------------+------------+-----------------+\n|  count|                 570|    570|  570|               570|                  570|         570|              570|\n|   mean|                null|   null| null|31604.777192982456|                 null|        null|10043.09649122807|\n| stddev|                null|   null| null|16490.726666011924|                 null|        null|1109.862110605227|\n|    min|1st American Stat...|Acworth|   AL|                91|      1st United Bank|    1-Aug-08|             4645|\n|    25%|                null|   null| null|             20078|                 null|        null|            10118|\n|    50%|                null|   null| null|             32069|                 null|        null|            10260|\n|    75%|                null|   null| null|             35372|                 null|        null|            10403|\n|    max|               ebank|Wyoming|   WY|             59017|  Your Community Bank|    9-Sep-11|            10547|\n+-------+--------------------+-------+-----+------------------+---------------------+------------+-----------------+\n\n"
     ]
    }
   ],
   "source": [
    "banks.summary().show()"
   ]
  },
  {
   "cell_type": "code",
   "execution_count": 0,
   "metadata": {
    "application/vnd.databricks.v1+cell": {
     "cellMetadata": {
      "byteLimit": 2048000,
      "rowLimit": 10000
     },
     "inputWidgets": {},
     "nuid": "7c001a07-1a85-4809-a79f-6f963a5a5b27",
     "showTitle": false,
     "tableResultSettingsMap": {},
     "title": ""
    }
   },
   "outputs": [
    {
     "output_type": "stream",
     "name": "stdout",
     "output_type": "stream",
     "text": [
      "+-------+--------------------+-------+-----+------------------+---------------------+------------+-----------------+\n|summary|           bank_name|   city|state|              cert|acquiring_institution|closing_date|             fund|\n+-------+--------------------+-------+-----+------------------+---------------------+------------+-----------------+\n|  count|                 570|    570|  570|               570|                  570|         570|              570|\n|   mean|                null|   null| null|31604.777192982456|                 null|        null|10043.09649122807|\n| stddev|                null|   null| null|16490.726666011924|                 null|        null|1109.862110605227|\n|    min|1st American Stat...|Acworth|   AL|                91|      1st United Bank|    1-Aug-08|             4645|\n|    max|               ebank|Wyoming|   WY|             59017|  Your Community Bank|    9-Sep-11|            10547|\n+-------+--------------------+-------+-----+------------------+---------------------+------------+-----------------+\n\n"
     ]
    }
   ],
   "source": [
    "banks.describe().show()"
   ]
  },
  {
   "cell_type": "code",
   "execution_count": 0,
   "metadata": {
    "application/vnd.databricks.v1+cell": {
     "cellMetadata": {
      "byteLimit": 2048000,
      "rowLimit": 10000
     },
     "inputWidgets": {},
     "nuid": "642644bd-1264-46e4-bcb1-1dd4b9552e69",
     "showTitle": false,
     "tableResultSettingsMap": {},
     "title": ""
    }
   },
   "outputs": [
    {
     "output_type": "stream",
     "name": "stdout",
     "output_type": "stream",
     "text": [
      "Out[74]: [Row(bank_name='First National Bank of Lindsay', city='Lindsay', state='OK', cert=4134, acquiring_institution='First Bank & Trust Co.', closing_date='18-Oct-24', fund=10547),\n Row(bank_name='Republic First Bank dba Republic Bank', city='Philadelphia', state='PA', cert=27332, acquiring_institution='Fulton Bank, National Association', closing_date='26-Apr-24', fund=10546),\n Row(bank_name='Citizens Bank', city='Sac City', state='IA', cert=8758, acquiring_institution='Iowa Trust & Savings Bank', closing_date='3-Nov-23', fund=10545),\n Row(bank_name='Heartland Tri-State Bank', city='Elkhart', state='KS', cert=25851, acquiring_institution='Dream First Bank, N.A.', closing_date='28-Jul-23', fund=10544),\n Row(bank_name='First Republic Bank', city='San Francisco', state='CA', cert=59017, acquiring_institution='JPMorgan Chase Bank, N.A.', closing_date='1-May-23', fund=10543)]"
     ]
    }
   ],
   "source": [
    "banks.head(n=5)"
   ]
  },
  {
   "cell_type": "code",
   "execution_count": 0,
   "metadata": {
    "application/vnd.databricks.v1+cell": {
     "cellMetadata": {
      "byteLimit": 2048000,
      "rowLimit": 10000
     },
     "inputWidgets": {},
     "nuid": "f3accb4d-0e48-4cee-b3dc-88f49256f3ae",
     "showTitle": false,
     "tableResultSettingsMap": {},
     "title": ""
    }
   },
   "outputs": [
    {
     "output_type": "stream",
     "name": "stdout",
     "output_type": "stream",
     "text": [
      "+--------------------+------------+-----+-----+---------------------+------------+-----+\n|           bank_name|        city|state| cert|acquiring_institution|closing_date| fund|\n+--------------------+------------+-----+-----+---------------------+------------+-----+\n|       Colonial Bank|  Montgomery|   AL| 9609| Branch Banking & ...|   14-Aug-09|10103|\n|   CapitalSouth Bank|  Birmingham|   AL|22130|           IBERIABANK|   21-Aug-09|10106|\n|New South Federal...|    Irondale|   AL|32276|            Beal Bank|   18-Dec-09|10163|\n|  First Lowndes Bank|Fort Deposit|   AL|24957|  First Citizens Bank|   19-Mar-10|10204|\n|         Nexity Bank|  Birmingham|   AL|19794| AloStar Bank of C...|   15-Apr-11|10356|\n|       Superior Bank|  Birmingham|   AL|17750| Superior Bank, Na...|   15-Apr-11|10358|\n|Alabama Trust Ban...|   Sylacauga|   AL|35224| Southern States Bank|   18-May-12|10440|\n|Sinclair National...|    Gravette|   AR|34248|   Delta Trust & Bank|    7-Sep-01| 4649|\n|   ANB Financial, NA| Bentonville|   AR|33901| Pulaski Bank and ...|    9-May-08|10005|\n| First Southern Bank|  Batesville|   AR|58052|        Southern Bank|   17-Dec-10|10322|\n|         Allied Bank|    Mulberry|   AR|   91|         Today's Bank|   23-Sep-16|10522|\n|        NextBank, NA|     Phoenix|   AZ|22314|          No Acquirer|    7-Feb-02| 4653|\n|Community Bank of...|     Phoenix|   AZ|57645|        MidFirst Bank|   14-Aug-09|10101|\n|Union Bank, Natio...|     Gilbert|   AZ|34485|        MidFirst Bank|   14-Aug-09|10102|\n|    First State Bank|   Flagstaff|   AZ|34875|         Sunwest Bank|    4-Sep-09|10114|\n|      Bank USA, N.A.|     Phoenix|   AZ|32218|       U.S. Bank N.A.|   30-Oct-09|10136|\n|Valley Capital Ba...|        Mesa|   AZ|58399| Enterprise Bank &...|   11-Dec-09|10159|\n|   Desert Hills Bank|     Phoenix|   AZ|57060| New York Communit...|   26-Mar-10|10205|\n|Towne Bank of Ari...|        Mesa|   AZ|57697| Commerce Bank of ...|    7-May-10|10235|\n|First Arizona Sav...|  Scottsdale|   AZ|32582|          No Acquirer|   22-Oct-10|10306|\n+--------------------+------------+-----+-----+---------------------+------------+-----+\nonly showing top 20 rows\n\n"
     ]
    }
   ],
   "source": [
    "banks.orderBy(['state', 'fund']).show()"
   ]
  },
  {
   "cell_type": "code",
   "execution_count": 0,
   "metadata": {
    "application/vnd.databricks.v1+cell": {
     "cellMetadata": {
      "byteLimit": 2048000,
      "rowLimit": 10000
     },
     "inputWidgets": {},
     "nuid": "61205119-b657-43b7-aa37-f2e953c26589",
     "showTitle": false,
     "tableResultSettingsMap": {},
     "title": ""
    }
   },
   "outputs": [
    {
     "output_type": "stream",
     "name": "stdout",
     "output_type": "stream",
     "text": [
      "+-------------------------------------+------------+-----+-----+---------------------------------+------------+-----+\n|bank_name                            |city        |state|cert |acquiring_institution            |closing_date|fund |\n+-------------------------------------+------------+-----+-----+---------------------------------+------------+-----+\n|First National Bank of Lindsay       |Lindsay     |OK   |4134 |First Bank & Trust Co.           |18-Oct-24   |10547|\n|Republic First Bank dba Republic Bank|Philadelphia|PA   |27332|Fulton Bank, National Association|26-Apr-24   |10546|\n|Citizens Bank                        |Sac City    |IA   |8758 |Iowa Trust & Savings Bank        |3-Nov-23    |10545|\n+-------------------------------------+------------+-----+-----+---------------------------------+------------+-----+\nonly showing top 3 rows\n\n"
     ]
    }
   ],
   "source": [
    "banks.show(n=3, truncate=False)"
   ]
  },
  {
   "cell_type": "code",
   "execution_count": 0,
   "metadata": {
    "application/vnd.databricks.v1+cell": {
     "cellMetadata": {
      "byteLimit": 2048000,
      "rowLimit": 10000
     },
     "inputWidgets": {},
     "nuid": "774ebac7-83d7-41b6-906d-898d76bf56f7",
     "showTitle": false,
     "tableResultSettingsMap": {},
     "title": ""
    }
   },
   "outputs": [
    {
     "output_type": "stream",
     "name": "stdout",
     "output_type": "stream",
     "text": [
      "+-------+--------------------+-------+-----+------------------+---------------------+------------+-----------------+\n|summary|           bank_name|   city|state|              cert|acquiring_institution|closing_date|             fund|\n+-------+--------------------+-------+-----+------------------+---------------------+------------+-----------------+\n|  count|                 570|    570|  570|               570|                  570|         570|              570|\n|   mean|                null|   null| null|31604.777192982456|                 null|        null|10043.09649122807|\n| stddev|                null|   null| null|16490.726666011924|                 null|        null|1109.862110605227|\n|    min|1st American Stat...|Acworth|   AL|                91|      1st United Bank|    1-Aug-08|             4645|\n|    25%|                null|   null| null|             20078|                 null|        null|            10118|\n|    50%|                null|   null| null|             32069|                 null|        null|            10260|\n|    75%|                null|   null| null|             35372|                 null|        null|            10403|\n|    max|               ebank|Wyoming|   WY|             59017|  Your Community Bank|    9-Sep-11|            10547|\n+-------+--------------------+-------+-----+------------------+---------------------+------------+-----------------+\n\n"
     ]
    }
   ],
   "source": [
    "banks.summary().show()"
   ]
  },
  {
   "cell_type": "code",
   "execution_count": 0,
   "metadata": {
    "application/vnd.databricks.v1+cell": {
     "cellMetadata": {
      "byteLimit": 2048000,
      "rowLimit": 10000
     },
     "inputWidgets": {},
     "nuid": "64607e74-2331-4ece-bebd-b075a62e4e01",
     "showTitle": false,
     "tableResultSettingsMap": {},
     "title": ""
    }
   },
   "outputs": [
    {
     "output_type": "stream",
     "name": "stdout",
     "output_type": "stream",
     "text": [
      "Out[57]: [Row(bank_name='Superior Bank, FSB', city='Hinsdale', state='IL', cert=32646, acquiring_institution='Superior Federal, FSB', closing_date='27-Jul-01', fund=6004),\n Row(bank_name='Malta National Bank', city='Malta', state='OH', cert=6629, acquiring_institution='North Valley Bank', closing_date='3-May-01', fund=4648),\n Row(bank_name='First Alliance Bank & Trust Co.', city='Manchester', state='NH', cert=34264, acquiring_institution='Southern New Hampshire Bank & Trust', closing_date='2-Feb-01', fund=4647),\n Row(bank_name='National State Bank of Metropolis', city='Metropolis', state='IL', cert=3815, acquiring_institution='Banterra Bank of Marion', closing_date='14-Dec-00', fund=4646),\n Row(bank_name='Bank of Honolulu', city='Honolulu', state='HI', cert=21029, acquiring_institution='Bank of the Orient', closing_date='13-Oct-00', fund=4645)]"
     ]
    }
   ],
   "source": [
    "banks.tail(num=5)"
   ]
  },
  {
   "cell_type": "markdown",
   "metadata": {
    "application/vnd.databricks.v1+cell": {
     "cellMetadata": {},
     "inputWidgets": {},
     "nuid": "7e9dd3ad-5b0f-4f13-83b2-b71b070da758",
     "showTitle": false,
     "tableResultSettingsMap": {},
     "title": ""
    }
   },
   "source": [
    "# Understand the dataset"
   ]
  },
  {
   "cell_type": "code",
   "execution_count": 0,
   "metadata": {
    "application/vnd.databricks.v1+cell": {
     "cellMetadata": {
      "byteLimit": 2048000,
      "rowLimit": 10000
     },
     "inputWidgets": {},
     "nuid": "88eb0b2a-3f58-4728-acb1-32026a66618d",
     "showTitle": false,
     "tableResultSettingsMap": {},
     "title": ""
    }
   },
   "outputs": [
    {
     "output_type": "stream",
     "name": "stdout",
     "output_type": "stream",
     "text": [
      "+-------+--------------------+-------+-----+------------------+---------------------+------------+-----------------+\n|summary|           bank_name|   city|state|              cert|acquiring_institution|closing_date|             fund|\n+-------+--------------------+-------+-----+------------------+---------------------+------------+-----------------+\n|  count|                 570|    570|  570|               570|                  570|         570|              570|\n|   mean|                null|   null| null|31604.777192982456|                 null|        null|10043.09649122807|\n| stddev|                null|   null| null|16490.726666011924|                 null|        null|1109.862110605227|\n|    min|1st American Stat...|Acworth|   AL|                91|      1st United Bank|    1-Aug-08|             4645|\n|    25%|                null|   null| null|             20078|                 null|        null|            10118|\n|    50%|                null|   null| null|             32069|                 null|        null|            10260|\n|    75%|                null|   null| null|             35372|                 null|        null|            10403|\n|    max|               ebank|Wyoming|   WY|             59017|  Your Community Bank|    9-Sep-11|            10547|\n+-------+--------------------+-------+-----+------------------+---------------------+------------+-----------------+\n\n"
     ]
    }
   ],
   "source": [
    "banks.summary().show()"
   ]
  },
  {
   "cell_type": "code",
   "execution_count": 0,
   "metadata": {
    "application/vnd.databricks.v1+cell": {
     "cellMetadata": {
      "byteLimit": 2048000,
      "rowLimit": 10000
     },
     "inputWidgets": {},
     "nuid": "c9d9ee10-0954-4373-b5a9-70038e2dbe24",
     "showTitle": false,
     "tableResultSettingsMap": {},
     "title": ""
    }
   },
   "outputs": [
    {
     "output_type": "stream",
     "name": "stdout",
     "output_type": "stream",
     "text": [
      "+-----------------------------------------------------+-----------------+-----+-----+-----------------------------------+------------+-----+\n|bank_name                                            |city             |state|cert |acquiring_institution              |closing_date|fund |\n+-----------------------------------------------------+-----------------+-----+-----+-----------------------------------+------------+-----+\n|First National Bank of Lindsay                       |Lindsay          |OK   |4134 |First Bank & Trust Co.             |18-Oct-24   |10547|\n|Republic First Bank dba Republic Bank                |Philadelphia     |PA   |27332|Fulton Bank, National Association  |26-Apr-24   |10546|\n|Citizens Bank                                        |Sac City         |IA   |8758 |Iowa Trust & Savings Bank          |3-Nov-23    |10545|\n|Heartland Tri-State Bank                             |Elkhart          |KS   |25851|Dream First Bank, N.A.             |28-Jul-23   |10544|\n|First Republic Bank                                  |San Francisco    |CA   |59017|JPMorgan Chase Bank, N.A.          |1-May-23    |10543|\n|Signature Bank                                       |New York         |NY   |57053|Flagstar Bank, N.A.                |12-Mar-23   |10540|\n|Silicon Valley Bank                                  |Santa Clara      |CA   |24735|First�Citizens Bank & Trust Company|10-Mar-23   |10539|\n|Almena State Bank                                    |Almena           |KS   |15426|Equity Bank                        |23-Oct-20   |10538|\n|First City Bank of Florida                           |Fort Walton Beach|FL   |16748|United Fidelity Bank, fsb          |16-Oct-20   |10537|\n|The First State Bank                                 |Barboursville    |WV   |14361|MVB Bank, Inc.                     |3-Apr-20    |10536|\n|Ericson State Bank                                   |Ericson          |NE   |18265|Farmers and Merchants Bank         |14-Feb-20   |10535|\n|City National Bank of New Jersey                     |Newark           |NJ   |21111|Industrial Bank                    |1-Nov-19    |10534|\n|Resolute Bank                                        |Maumee           |OH   |58317|Buckeye State Bank                 |25-Oct-19   |10533|\n|Louisa Community Bank                                |Louisa           |KY   |58112|Kentucky Farmers Bank Corporation  |25-Oct-19   |10532|\n|The Enloe State Bank                                 |Cooper           |TX   |10716|Legend Bank, N. A.                 |31-May-19   |10531|\n|Washington Federal Bank for Savings                  |Chicago          |IL   |30570|Royal Savings Bank                 |15-Dec-17   |10530|\n|The Farmers and Merchants State Bank of Argonia      |Argonia          |KS   |17719|Conway Bank                        |13-Oct-17   |10529|\n|Fayette County Bank                                  |Saint Elmo       |IL   |1802 |United Fidelity Bank, fsb          |26-May-17   |10528|\n|Guaranty Bank, (d/b/a BestBank in Georgia & Michigan)|Milwaukee        |WI   |30003|First-Citizens Bank & Trust Company|5-May-17    |10527|\n|First NBC Bank                                       |New Orleans      |LA   |58302|Whitney Bank                       |28-Apr-17   |10526|\n+-----------------------------------------------------+-----------------+-----+-----+-----------------------------------+------------+-----+\nonly showing top 20 rows\n\n"
     ]
    }
   ],
   "source": [
    "banks.show(truncate=False)"
   ]
  },
  {
   "cell_type": "markdown",
   "metadata": {
    "application/vnd.databricks.v1+cell": {
     "cellMetadata": {},
     "inputWidgets": {},
     "nuid": "57cd26af-11c3-4c09-a886-2f5ece5d7960",
     "showTitle": false,
     "tableResultSettingsMap": {},
     "title": ""
    }
   },
   "source": [
    "# orderBy() vs sort()"
   ]
  },
  {
   "cell_type": "code",
   "execution_count": 0,
   "metadata": {
    "application/vnd.databricks.v1+cell": {
     "cellMetadata": {
      "byteLimit": 2048000,
      "rowLimit": 10000
     },
     "inputWidgets": {},
     "nuid": "d83cb5fd-ffc1-49cd-a24f-84896db7dd89",
     "showTitle": false,
     "tableResultSettingsMap": {},
     "title": ""
    }
   },
   "outputs": [
    {
     "output_type": "stream",
     "name": "stdout",
     "output_type": "stream",
     "text": [
      "+--------------------+------------+-----+-----+---------------------+------------+-----+\n|           bank_name|        city|state| cert|acquiring_institution|closing_date| fund|\n+--------------------+------------+-----+-----+---------------------+------------+-----+\n|Alabama Trust Ban...|   Sylacauga|   AL|35224| Southern States Bank|   18-May-12|10440|\n|       Superior Bank|  Birmingham|   AL|17750| Superior Bank, Na...|   15-Apr-11|10358|\n|         Nexity Bank|  Birmingham|   AL|19794| AloStar Bank of C...|   15-Apr-11|10356|\n|  First Lowndes Bank|Fort Deposit|   AL|24957|  First Citizens Bank|   19-Mar-10|10204|\n|New South Federal...|    Irondale|   AL|32276|            Beal Bank|   18-Dec-09|10163|\n|   CapitalSouth Bank|  Birmingham|   AL|22130|           IBERIABANK|   21-Aug-09|10106|\n|       Colonial Bank|  Montgomery|   AL| 9609| Branch Banking & ...|   14-Aug-09|10103|\n|         Allied Bank|    Mulberry|   AR|   91|         Today's Bank|   23-Sep-16|10522|\n| First Southern Bank|  Batesville|   AR|58052|        Southern Bank|   17-Dec-10|10322|\n|   ANB Financial, NA| Bentonville|   AR|33901| Pulaski Bank and ...|    9-May-08|10005|\n|Sinclair National...|    Gravette|   AR|34248|   Delta Trust & Bank|    7-Sep-01| 4649|\n|Sunrise Bank of A...|     Phoenix|   AZ|34707| First Fidelity Ba...|   23-Aug-13|10487|\n|Central Arizona Bank|  Scottsdale|   AZ|34527|   Western State Bank|   14-May-13|10479|\n|    Gold Canyon Bank| Gold Canyon|   AZ|58066| First Scottsdale ...|    5-Apr-13|10472|\n|Western National ...|     Phoenix|   AZ|57917|   Washington Federal|   16-Dec-11|10416|\n|         Summit Bank|    Prescott|   AZ|57442|   The Foothills Bank|   15-Jul-11|10379|\n|Towne Bank of Ari...|        Mesa|   AZ|57697| Commerce Bank of ...|    7-May-10|10235|\n|         Legacy Bank|  Scottsdale|   AZ|57820| Enterprise Bank &...|    7-Jan-11|10326|\n|    Copper Star Bank|  Scottsdale|   AZ|35463|   Stearns Bank, N.A.|   12-Nov-10|10311|\n|First Arizona Sav...|  Scottsdale|   AZ|32582|          No Acquirer|   22-Oct-10|10306|\n+--------------------+------------+-----+-----+---------------------+------------+-----+\nonly showing top 20 rows\n\n"
     ]
    }
   ],
   "source": [
    "# OrderBy\n",
    "\n",
    "banks.orderBy(\"state\", ascending=True).show()"
   ]
  },
  {
   "cell_type": "code",
   "execution_count": 0,
   "metadata": {
    "application/vnd.databricks.v1+cell": {
     "cellMetadata": {
      "byteLimit": 2048000,
      "rowLimit": 10000
     },
     "inputWidgets": {},
     "nuid": "df96a100-80ec-451d-8cb7-b484624bfb99",
     "showTitle": false,
     "tableResultSettingsMap": {},
     "title": ""
    }
   },
   "outputs": [
    {
     "output_type": "stream",
     "name": "stdout",
     "output_type": "stream",
     "text": [
      "+--------------------+------------+-----+-----+---------------------+------------+-----+\n|           bank_name|        city|state| cert|acquiring_institution|closing_date| fund|\n+--------------------+------------+-----+-----+---------------------+------------+-----+\n|Alabama Trust Ban...|   Sylacauga|   AL|35224| Southern States Bank|   18-May-12|10440|\n|       Superior Bank|  Birmingham|   AL|17750| Superior Bank, Na...|   15-Apr-11|10358|\n|         Nexity Bank|  Birmingham|   AL|19794| AloStar Bank of C...|   15-Apr-11|10356|\n|  First Lowndes Bank|Fort Deposit|   AL|24957|  First Citizens Bank|   19-Mar-10|10204|\n|New South Federal...|    Irondale|   AL|32276|            Beal Bank|   18-Dec-09|10163|\n|   CapitalSouth Bank|  Birmingham|   AL|22130|           IBERIABANK|   21-Aug-09|10106|\n|       Colonial Bank|  Montgomery|   AL| 9609| Branch Banking & ...|   14-Aug-09|10103|\n|         Allied Bank|    Mulberry|   AR|   91|         Today's Bank|   23-Sep-16|10522|\n| First Southern Bank|  Batesville|   AR|58052|        Southern Bank|   17-Dec-10|10322|\n|   ANB Financial, NA| Bentonville|   AR|33901| Pulaski Bank and ...|    9-May-08|10005|\n|Sinclair National...|    Gravette|   AR|34248|   Delta Trust & Bank|    7-Sep-01| 4649|\n|Sunrise Bank of A...|     Phoenix|   AZ|34707| First Fidelity Ba...|   23-Aug-13|10487|\n|Central Arizona Bank|  Scottsdale|   AZ|34527|   Western State Bank|   14-May-13|10479|\n|    Gold Canyon Bank| Gold Canyon|   AZ|58066| First Scottsdale ...|    5-Apr-13|10472|\n|Western National ...|     Phoenix|   AZ|57917|   Washington Federal|   16-Dec-11|10416|\n|         Summit Bank|    Prescott|   AZ|57442|   The Foothills Bank|   15-Jul-11|10379|\n|         Legacy Bank|  Scottsdale|   AZ|57820| Enterprise Bank &...|    7-Jan-11|10326|\n|    Copper Star Bank|  Scottsdale|   AZ|35463|   Stearns Bank, N.A.|   12-Nov-10|10311|\n|First Arizona Sav...|  Scottsdale|   AZ|32582|          No Acquirer|   22-Oct-10|10306|\n|Towne Bank of Ari...|        Mesa|   AZ|57697| Commerce Bank of ...|    7-May-10|10235|\n+--------------------+------------+-----+-----+---------------------+------------+-----+\nonly showing top 20 rows\n\n"
     ]
    }
   ],
   "source": [
    "banks.orderBy(['state', 'fund'], ascending=[True, False]).show()"
   ]
  },
  {
   "cell_type": "code",
   "execution_count": 0,
   "metadata": {
    "application/vnd.databricks.v1+cell": {
     "cellMetadata": {
      "byteLimit": 2048000,
      "rowLimit": 10000
     },
     "inputWidgets": {},
     "nuid": "981a99f7-a5dc-404c-b031-d6cd50ce2c02",
     "showTitle": false,
     "tableResultSettingsMap": {},
     "title": ""
    }
   },
   "outputs": [
    {
     "output_type": "stream",
     "name": "stdout",
     "output_type": "stream",
     "text": [
      "+--------------------+----------------+-----+-----+---------------------+------------+-----+\n|           bank_name|            city|state| cert|acquiring_institution|closing_date| fund|\n+--------------------+----------------+-----+-----+---------------------+------------+-----+\n|     Bank of Wyoming|     Thermopolis|   WY|22754| Central Bank & Trust|   10-Jul-09|10080|\n|The First State Bank|   Barboursville|   WV|14361|       MVB Bank, Inc.|    3-Apr-20|10536|\n|           Ameribank|       Northfork|   WV| 6782| The Citizens Savi...|   19-Sep-08|10014|\n|Guaranty Bank, (d...|       Milwaukee|   WI|30003| First-Citizens Ba...|    5-May-17|10527|\n|North Milwaukee S...|       Milwaukee|   WI|20364| First-Citizens Ba...|   11-Mar-16|10518|\n|      Bank of Wausau|          Wausau|   WI|35016| Nicolet National ...|    9-Aug-13|10485|\n|Banks of Wisconsi...|         Kenosha|   WI|35386| North Shore Bank,...|   31-May-13|10478|\n|         Legacy Bank|       Milwaukee|   WI|34818| Seaway Bank and T...|   11-Mar-11|10348|\n|   Badger State Bank|       Cassville|   WI|13272|           Royal Bank|   11-Feb-11|10339|\n|Evergreen State Bank|       Stoughton|   WI| 5328| McFarland State Bank|   28-Jan-11|10332|\n|First Banking Center|      Burlington|   WI| 5287|  First Michigan Bank|   19-Nov-10|10315|\n|Maritime Savings ...|      West Allis|   WI|28612| North Shore Bank,...|   17-Sep-10|10291|\n|     Bank of Elmwood|          Racine|   WI|18321| Tri City National...|   23-Oct-09|10132|\n|First National Ba...|  Blanchardville|   WI|11639|        The Park Bank|    9-May-03| 4661|\n|Hometown National...|        Longview|   WA|35156|       Twin City Bank|    2-Oct-15|10517|\n|Westside Communit...|University Place|   WA|33997|         Sunwest Bank|   11-Jan-13|10468|\n|     Bank of Whitman|          Colfax|   WA|22528|  Columbia State Bank|    5-Aug-11|10387|\n| First Heritage Bank|       Snohomish|   WA|23626|  Columbia State Bank|   27-May-11|10368|\n|         Summit Bank|      Burlington|   WA|  513|  Columbia State Bank|   20-May-11|10367|\n|Pierce Commercial...|          Tacoma|   WA|34411|        Heritage Bank|    5-Nov-10|10309|\n+--------------------+----------------+-----+-----+---------------------+------------+-----+\nonly showing top 20 rows\n\n"
     ]
    }
   ],
   "source": [
    "banks.orderBy(['state', 'fund'], ascending=[False, False]).show()"
   ]
  },
  {
   "cell_type": "code",
   "execution_count": 0,
   "metadata": {
    "application/vnd.databricks.v1+cell": {
     "cellMetadata": {
      "byteLimit": 2048000,
      "rowLimit": 10000
     },
     "inputWidgets": {},
     "nuid": "96a369e5-fac6-42ef-b8f9-159e187c2da6",
     "showTitle": false,
     "tableResultSettingsMap": {},
     "title": ""
    }
   },
   "outputs": [
    {
     "output_type": "stream",
     "name": "stdout",
     "output_type": "stream",
     "text": [
      "+--------------------+------------+-----+-----+---------------------+------------+-----+\n|           bank_name|        city|state| cert|acquiring_institution|closing_date| fund|\n+--------------------+------------+-----+-----+---------------------+------------+-----+\n|   CapitalSouth Bank|  Birmingham|   AL|22130|           IBERIABANK|   21-Aug-09|10106|\n|         Nexity Bank|  Birmingham|   AL|19794| AloStar Bank of C...|   15-Apr-11|10356|\n|       Superior Bank|  Birmingham|   AL|17750| Superior Bank, Na...|   15-Apr-11|10358|\n|  First Lowndes Bank|Fort Deposit|   AL|24957|  First Citizens Bank|   19-Mar-10|10204|\n|New South Federal...|    Irondale|   AL|32276|            Beal Bank|   18-Dec-09|10163|\n|       Colonial Bank|  Montgomery|   AL| 9609| Branch Banking & ...|   14-Aug-09|10103|\n|Alabama Trust Ban...|   Sylacauga|   AL|35224| Southern States Bank|   18-May-12|10440|\n| First Southern Bank|  Batesville|   AR|58052|        Southern Bank|   17-Dec-10|10322|\n|   ANB Financial, NA| Bentonville|   AR|33901| Pulaski Bank and ...|    9-May-08|10005|\n|Sinclair National...|    Gravette|   AR|34248|   Delta Trust & Bank|    7-Sep-01| 4649|\n|         Allied Bank|    Mulberry|   AR|   91|         Today's Bank|   23-Sep-16|10522|\n|    First State Bank|   Flagstaff|   AZ|34875|         Sunwest Bank|    4-Sep-09|10114|\n|Union Bank, Natio...|     Gilbert|   AZ|34485|        MidFirst Bank|   14-Aug-09|10102|\n|    Gold Canyon Bank| Gold Canyon|   AZ|58066| First Scottsdale ...|    5-Apr-13|10472|\n|Valley Capital Ba...|        Mesa|   AZ|58399| Enterprise Bank &...|   11-Dec-09|10159|\n|Towne Bank of Ari...|        Mesa|   AZ|57697| Commerce Bank of ...|    7-May-10|10235|\n|        NextBank, NA|     Phoenix|   AZ|22314|          No Acquirer|    7-Feb-02| 4653|\n|Community Bank of...|     Phoenix|   AZ|57645|        MidFirst Bank|   14-Aug-09|10101|\n|      Bank USA, N.A.|     Phoenix|   AZ|32218|       U.S. Bank N.A.|   30-Oct-09|10136|\n|   Desert Hills Bank|     Phoenix|   AZ|57060| New York Communit...|   26-Mar-10|10205|\n+--------------------+------------+-----+-----+---------------------+------------+-----+\nonly showing top 20 rows\n\n"
     ]
    }
   ],
   "source": [
    "banks.orderBy(['state', 'city', 'fund'], ascending=[True, True, True]).show()"
   ]
  },
  {
   "cell_type": "code",
   "execution_count": 0,
   "metadata": {
    "application/vnd.databricks.v1+cell": {
     "cellMetadata": {
      "byteLimit": 2048000,
      "rowLimit": 10000
     },
     "inputWidgets": {},
     "nuid": "e6eb225e-a2e5-4f56-876f-77bd8b74140a",
     "showTitle": false,
     "tableResultSettingsMap": {},
     "title": ""
    }
   },
   "outputs": [
    {
     "output_type": "stream",
     "name": "stdout",
     "output_type": "stream",
     "text": [
      "+--------------------+------------+-----+-----+---------------------+------------+-----+\n|           bank_name|        city|state| cert|acquiring_institution|closing_date| fund|\n+--------------------+------------+-----+-----+---------------------+------------+-----+\n|   CapitalSouth Bank|  Birmingham|   AL|22130|           IBERIABANK|   21-Aug-09|10106|\n|         Nexity Bank|  Birmingham|   AL|19794| AloStar Bank of C...|   15-Apr-11|10356|\n|       Superior Bank|  Birmingham|   AL|17750| Superior Bank, Na...|   15-Apr-11|10358|\n|  First Lowndes Bank|Fort Deposit|   AL|24957|  First Citizens Bank|   19-Mar-10|10204|\n|New South Federal...|    Irondale|   AL|32276|            Beal Bank|   18-Dec-09|10163|\n|       Colonial Bank|  Montgomery|   AL| 9609| Branch Banking & ...|   14-Aug-09|10103|\n|Alabama Trust Ban...|   Sylacauga|   AL|35224| Southern States Bank|   18-May-12|10440|\n| First Southern Bank|  Batesville|   AR|58052|        Southern Bank|   17-Dec-10|10322|\n|   ANB Financial, NA| Bentonville|   AR|33901| Pulaski Bank and ...|    9-May-08|10005|\n|Sinclair National...|    Gravette|   AR|34248|   Delta Trust & Bank|    7-Sep-01| 4649|\n|         Allied Bank|    Mulberry|   AR|   91|         Today's Bank|   23-Sep-16|10522|\n|    First State Bank|   Flagstaff|   AZ|34875|         Sunwest Bank|    4-Sep-09|10114|\n|Union Bank, Natio...|     Gilbert|   AZ|34485|        MidFirst Bank|   14-Aug-09|10102|\n|    Gold Canyon Bank| Gold Canyon|   AZ|58066| First Scottsdale ...|    5-Apr-13|10472|\n|Valley Capital Ba...|        Mesa|   AZ|58399| Enterprise Bank &...|   11-Dec-09|10159|\n|Towne Bank of Ari...|        Mesa|   AZ|57697| Commerce Bank of ...|    7-May-10|10235|\n|        NextBank, NA|     Phoenix|   AZ|22314|          No Acquirer|    7-Feb-02| 4653|\n|Community Bank of...|     Phoenix|   AZ|57645|        MidFirst Bank|   14-Aug-09|10101|\n|      Bank USA, N.A.|     Phoenix|   AZ|32218|       U.S. Bank N.A.|   30-Oct-09|10136|\n|   Desert Hills Bank|     Phoenix|   AZ|57060| New York Communit...|   26-Mar-10|10205|\n+--------------------+------------+-----+-----+---------------------+------------+-----+\nonly showing top 20 rows\n\n"
     ]
    }
   ],
   "source": [
    "banks.sort('state', 'city', 'fund', ascending=[True, True, True]).show()"
   ]
  },
  {
   "cell_type": "code",
   "execution_count": 0,
   "metadata": {
    "application/vnd.databricks.v1+cell": {
     "cellMetadata": {
      "byteLimit": 2048000,
      "rowLimit": 10000
     },
     "inputWidgets": {},
     "nuid": "6d0abd16-b11a-4b9d-a867-486544970f19",
     "showTitle": false,
     "tableResultSettingsMap": {},
     "title": ""
    }
   },
   "outputs": [
    {
     "output_type": "stream",
     "name": "stdout",
     "output_type": "stream",
     "text": [
      "+--------------------+------------+-----+-----+---------------------+------------+-----+\n|           bank_name|        city|state| cert|acquiring_institution|closing_date| fund|\n+--------------------+------------+-----+-----+---------------------+------------+-----+\n|   CapitalSouth Bank|  Birmingham|   AL|22130|           IBERIABANK|   21-Aug-09|10106|\n|         Nexity Bank|  Birmingham|   AL|19794| AloStar Bank of C...|   15-Apr-11|10356|\n|       Superior Bank|  Birmingham|   AL|17750| Superior Bank, Na...|   15-Apr-11|10358|\n|  First Lowndes Bank|Fort Deposit|   AL|24957|  First Citizens Bank|   19-Mar-10|10204|\n|New South Federal...|    Irondale|   AL|32276|            Beal Bank|   18-Dec-09|10163|\n|       Colonial Bank|  Montgomery|   AL| 9609| Branch Banking & ...|   14-Aug-09|10103|\n|Alabama Trust Ban...|   Sylacauga|   AL|35224| Southern States Bank|   18-May-12|10440|\n| First Southern Bank|  Batesville|   AR|58052|        Southern Bank|   17-Dec-10|10322|\n|   ANB Financial, NA| Bentonville|   AR|33901| Pulaski Bank and ...|    9-May-08|10005|\n|Sinclair National...|    Gravette|   AR|34248|   Delta Trust & Bank|    7-Sep-01| 4649|\n|         Allied Bank|    Mulberry|   AR|   91|         Today's Bank|   23-Sep-16|10522|\n|    First State Bank|   Flagstaff|   AZ|34875|         Sunwest Bank|    4-Sep-09|10114|\n|Union Bank, Natio...|     Gilbert|   AZ|34485|        MidFirst Bank|   14-Aug-09|10102|\n|    Gold Canyon Bank| Gold Canyon|   AZ|58066| First Scottsdale ...|    5-Apr-13|10472|\n|Valley Capital Ba...|        Mesa|   AZ|58399| Enterprise Bank &...|   11-Dec-09|10159|\n|Towne Bank of Ari...|        Mesa|   AZ|57697| Commerce Bank of ...|    7-May-10|10235|\n|        NextBank, NA|     Phoenix|   AZ|22314|          No Acquirer|    7-Feb-02| 4653|\n|Community Bank of...|     Phoenix|   AZ|57645|        MidFirst Bank|   14-Aug-09|10101|\n|      Bank USA, N.A.|     Phoenix|   AZ|32218|       U.S. Bank N.A.|   30-Oct-09|10136|\n|   Desert Hills Bank|     Phoenix|   AZ|57060| New York Communit...|   26-Mar-10|10205|\n+--------------------+------------+-----+-----+---------------------+------------+-----+\nonly showing top 20 rows\n\n"
     ]
    }
   ],
   "source": [
    "sort_cols = ['state', 'city', 'fund']\n",
    "sort_order = [True, True, True]\n",
    "\n",
    "banks.sort(*sort_cols, ascending=[True, True, True]).show()"
   ]
  },
  {
   "cell_type": "code",
   "execution_count": 0,
   "metadata": {
    "application/vnd.databricks.v1+cell": {
     "cellMetadata": {
      "byteLimit": 2048000,
      "rowLimit": 10000
     },
     "inputWidgets": {},
     "nuid": "f00bdd00-391b-468d-bece-ddf617e61552",
     "showTitle": false,
     "tableResultSettingsMap": {},
     "title": ""
    }
   },
   "outputs": [
    {
     "output_type": "stream",
     "name": "stdout",
     "output_type": "stream",
     "text": [
      "+----------------------------------------+------------+-----+-----+-------------------------------------------+------------+-----+\n|bank_name                               |city        |state|cert |acquiring_institution                      |closing_date|fund |\n+----------------------------------------+------------+-----+-----+-------------------------------------------+------------+-----+\n|Alabama Trust Bank, National Association|Sylacauga   |AL   |35224|Southern States Bank                       |18-May-12   |10440|\n|CapitalSouth Bank                       |Birmingham  |AL   |22130|IBERIABANK                                 |21-Aug-09   |10106|\n|Colonial Bank                           |Montgomery  |AL   |9609 |Branch Banking & Trust Company, (BB&T)     |14-Aug-09   |10103|\n|First Lowndes Bank                      |Fort Deposit|AL   |24957|First Citizens Bank                        |19-Mar-10   |10204|\n|New South Federal Savings Bank          |Irondale    |AL   |32276|Beal Bank                                  |18-Dec-09   |10163|\n|Nexity Bank                             |Birmingham  |AL   |19794|AloStar Bank of Commerce                   |15-Apr-11   |10356|\n|Superior Bank                           |Birmingham  |AL   |17750|Superior Bank, National Association        |15-Apr-11   |10358|\n|ANB Financial, NA                       |Bentonville |AR   |33901|Pulaski Bank and Trust Company             |9-May-08    |10005|\n|Allied Bank                             |Mulberry    |AR   |91   |Today's Bank                               |23-Sep-16   |10522|\n|First Southern Bank                     |Batesville  |AR   |58052|Southern Bank                              |17-Dec-10   |10322|\n|Sinclair National Bank                  |Gravette    |AR   |34248|Delta Trust & Bank                         |7-Sep-01    |4649 |\n|Bank USA, N.A.                          |Phoenix     |AZ   |32218|U.S. Bank N.A.                             |30-Oct-09   |10136|\n|Central Arizona Bank                    |Scottsdale  |AZ   |34527|Western State Bank                         |14-May-13   |10479|\n|Community Bank of Arizona               |Phoenix     |AZ   |57645|MidFirst Bank                              |14-Aug-09   |10101|\n|Copper Star Bank                        |Scottsdale  |AZ   |35463|Stearns Bank, N.A.                         |12-Nov-10   |10311|\n|Desert Hills Bank                       |Phoenix     |AZ   |57060|New York Community Bank                    |26-Mar-10   |10205|\n|First Arizona Savings, A FSB            |Scottsdale  |AZ   |32582|No Acquirer                                |22-Oct-10   |10306|\n|First State Bank                        |Flagstaff   |AZ   |34875|Sunwest Bank                               |4-Sep-09    |10114|\n|Gold Canyon Bank                        |Gold Canyon |AZ   |58066|First Scottsdale Bank, National Association|5-Apr-13    |10472|\n|Legacy Bank                             |Scottsdale  |AZ   |57820|Enterprise Bank & Trust                    |7-Jan-11    |10326|\n+----------------------------------------+------------+-----+-----+-------------------------------------------+------------+-----+\nonly showing top 20 rows\n\n"
     ]
    }
   ],
   "source": [
    "from pyspark.sql.functions import col\n",
    "banks.sort(col('state'), col('bank_name')).show(truncate=False)"
   ]
  },
  {
   "cell_type": "code",
   "execution_count": 0,
   "metadata": {
    "application/vnd.databricks.v1+cell": {
     "cellMetadata": {
      "byteLimit": 2048000,
      "rowLimit": 10000
     },
     "inputWidgets": {},
     "nuid": "9b38e008-6a1b-4857-9477-27f652d37797",
     "showTitle": false,
     "tableResultSettingsMap": {},
     "title": ""
    }
   },
   "outputs": [
    {
     "output_type": "stream",
     "name": "stdout",
     "output_type": "stream",
     "text": [
      "+----------------------------------------+------------+-----+-----+-------------------------------------------+------------+-----+\n|bank_name                               |city        |state|cert |acquiring_institution                      |closing_date|fund |\n+----------------------------------------+------------+-----+-----+-------------------------------------------+------------+-----+\n|Superior Bank                           |Birmingham  |AL   |17750|Superior Bank, National Association        |15-Apr-11   |10358|\n|Nexity Bank                             |Birmingham  |AL   |19794|AloStar Bank of Commerce                   |15-Apr-11   |10356|\n|New South Federal Savings Bank          |Irondale    |AL   |32276|Beal Bank                                  |18-Dec-09   |10163|\n|First Lowndes Bank                      |Fort Deposit|AL   |24957|First Citizens Bank                        |19-Mar-10   |10204|\n|Colonial Bank                           |Montgomery  |AL   |9609 |Branch Banking & Trust Company, (BB&T)     |14-Aug-09   |10103|\n|CapitalSouth Bank                       |Birmingham  |AL   |22130|IBERIABANK                                 |21-Aug-09   |10106|\n|Alabama Trust Bank, National Association|Sylacauga   |AL   |35224|Southern States Bank                       |18-May-12   |10440|\n|Sinclair National Bank                  |Gravette    |AR   |34248|Delta Trust & Bank                         |7-Sep-01    |4649 |\n|First Southern Bank                     |Batesville  |AR   |58052|Southern Bank                              |17-Dec-10   |10322|\n|Allied Bank                             |Mulberry    |AR   |91   |Today's Bank                               |23-Sep-16   |10522|\n|ANB Financial, NA                       |Bentonville |AR   |33901|Pulaski Bank and Trust Company             |9-May-08    |10005|\n|Western National Bank                   |Phoenix     |AZ   |57917|Washington Federal                         |16-Dec-11   |10416|\n|Valley Capital Bank, N.A.               |Mesa        |AZ   |58399|Enterprise Bank & Trust                    |11-Dec-09   |10159|\n|Union Bank, National Association        |Gilbert     |AZ   |34485|MidFirst Bank                              |14-Aug-09   |10102|\n|Towne Bank of Arizona                   |Mesa        |AZ   |57697|Commerce Bank of Arizona                   |7-May-10    |10235|\n|Sunrise Bank of Arizona                 |Phoenix     |AZ   |34707|First Fidelity Bank, National Association  |23-Aug-13   |10487|\n|Summit Bank                             |Prescott    |AZ   |57442|The Foothills Bank                         |15-Jul-11   |10379|\n|NextBank, NA                            |Phoenix     |AZ   |22314|No Acquirer                                |7-Feb-02    |4653 |\n|Legacy Bank                             |Scottsdale  |AZ   |57820|Enterprise Bank & Trust                    |7-Jan-11    |10326|\n|Gold Canyon Bank                        |Gold Canyon |AZ   |58066|First Scottsdale Bank, National Association|5-Apr-13    |10472|\n+----------------------------------------+------------+-----+-----+-------------------------------------------+------------+-----+\nonly showing top 20 rows\n\n"
     ]
    }
   ],
   "source": [
    "from pyspark.sql.functions import col\n",
    "\n",
    "banks.sort(col('state').asc(), col('bank_name').desc()).show(truncate=False)"
   ]
  },
  {
   "cell_type": "markdown",
   "metadata": {
    "application/vnd.databricks.v1+cell": {
     "cellMetadata": {},
     "inputWidgets": {},
     "nuid": "8e414d26-3a40-460a-89cf-d1dc2d781623",
     "showTitle": false,
     "tableResultSettingsMap": {},
     "title": ""
    }
   },
   "source": [
    "# sort DataFrame using raw SQL syntax."
   ]
  },
  {
   "cell_type": "code",
   "execution_count": 0,
   "metadata": {
    "application/vnd.databricks.v1+cell": {
     "cellMetadata": {
      "byteLimit": 2048000,
      "rowLimit": 10000
     },
     "inputWidgets": {},
     "nuid": "b0dbc347-85e0-4865-aad6-c95574a5fd9c",
     "showTitle": false,
     "tableResultSettingsMap": {},
     "title": ""
    }
   },
   "outputs": [
    {
     "output_type": "stream",
     "name": "stdout",
     "output_type": "stream",
     "text": [
      "Out[102]: ['bank_name',\n 'city',\n 'state',\n 'cert',\n 'acquiring_institution',\n 'closing_date',\n 'fund']"
     ]
    }
   ],
   "source": [
    "banks.columns"
   ]
  },
  {
   "cell_type": "code",
   "execution_count": 0,
   "metadata": {
    "application/vnd.databricks.v1+cell": {
     "cellMetadata": {
      "byteLimit": 2048000,
      "rowLimit": 10000
     },
     "inputWidgets": {},
     "nuid": "10428623-c2a5-4cba-ad9a-c939422cdecf",
     "showTitle": false,
     "tableResultSettingsMap": {},
     "title": ""
    }
   },
   "outputs": [
    {
     "output_type": "stream",
     "name": "stdout",
     "output_type": "stream",
     "text": [
      "+----------------------------------------+------------+-----+-----+-------------------------------------------+------------+-----+\n|bank_name                               |city        |state|cert |acquiring_institution                      |closing_date|fund |\n+----------------------------------------+------------+-----+-----+-------------------------------------------+------------+-----+\n|Alabama Trust Bank, National Association|Sylacauga   |AL   |35224|Southern States Bank                       |18-May-12   |10440|\n|Superior Bank                           |Birmingham  |AL   |17750|Superior Bank, National Association        |15-Apr-11   |10358|\n|Nexity Bank                             |Birmingham  |AL   |19794|AloStar Bank of Commerce                   |15-Apr-11   |10356|\n|First Lowndes Bank                      |Fort Deposit|AL   |24957|First Citizens Bank                        |19-Mar-10   |10204|\n|New South Federal Savings Bank          |Irondale    |AL   |32276|Beal Bank                                  |18-Dec-09   |10163|\n|CapitalSouth Bank                       |Birmingham  |AL   |22130|IBERIABANK                                 |21-Aug-09   |10106|\n|Colonial Bank                           |Montgomery  |AL   |9609 |Branch Banking & Trust Company, (BB&T)     |14-Aug-09   |10103|\n|Allied Bank                             |Mulberry    |AR   |91   |Today's Bank                               |23-Sep-16   |10522|\n|First Southern Bank                     |Batesville  |AR   |58052|Southern Bank                              |17-Dec-10   |10322|\n|ANB Financial, NA                       |Bentonville |AR   |33901|Pulaski Bank and Trust Company             |9-May-08    |10005|\n|Sinclair National Bank                  |Gravette    |AR   |34248|Delta Trust & Bank                         |7-Sep-01    |4649 |\n|Sunrise Bank of Arizona                 |Phoenix     |AZ   |34707|First Fidelity Bank, National Association  |23-Aug-13   |10487|\n|Central Arizona Bank                    |Scottsdale  |AZ   |34527|Western State Bank                         |14-May-13   |10479|\n|Gold Canyon Bank                        |Gold Canyon |AZ   |58066|First Scottsdale Bank, National Association|5-Apr-13    |10472|\n|Western National Bank                   |Phoenix     |AZ   |57917|Washington Federal                         |16-Dec-11   |10416|\n|Summit Bank                             |Prescott    |AZ   |57442|The Foothills Bank                         |15-Jul-11   |10379|\n|Towne Bank of Arizona                   |Mesa        |AZ   |57697|Commerce Bank of Arizona                   |7-May-10    |10235|\n|Legacy Bank                             |Scottsdale  |AZ   |57820|Enterprise Bank & Trust                    |7-Jan-11    |10326|\n|Copper Star Bank                        |Scottsdale  |AZ   |35463|Stearns Bank, N.A.                         |12-Nov-10   |10311|\n|First Arizona Savings, A FSB            |Scottsdale  |AZ   |32582|No Acquirer                                |22-Oct-10   |10306|\n+----------------------------------------+------------+-----+-----+-------------------------------------------+------------+-----+\nonly showing top 20 rows\n\n"
     ]
    }
   ],
   "source": [
    "# Sort using spark SQL\n",
    "\n",
    "banks.createOrReplaceTempView(\"failed_banks\")\n",
    "\n",
    "spark.sql(\"select  * from failed_banks ORDER BY state asc\").show(truncate=False)"
   ]
  },
  {
   "cell_type": "code",
   "execution_count": 0,
   "metadata": {
    "application/vnd.databricks.v1+cell": {
     "cellMetadata": {
      "byteLimit": 2048000,
      "rowLimit": 10000
     },
     "inputWidgets": {},
     "nuid": "f30660d4-3530-4a52-86ac-9572c6758049",
     "showTitle": false,
     "tableResultSettingsMap": {},
     "title": ""
    }
   },
   "outputs": [
    {
     "output_type": "stream",
     "name": "stdout",
     "output_type": "stream",
     "text": [
      "+-----------------------------------------------------+-----------------+-----+-----+-----------------------------------+------------+-----+\n|bank_name                                            |city             |state|cert |acquiring_institution              |closing_date|fund |\n+-----------------------------------------------------+-----------------+-----+-----+-----------------------------------+------------+-----+\n|First National Bank of Lindsay                       |Lindsay          |OK   |4134 |First Bank & Trust Co.             |18-Oct-24   |10547|\n|Republic First Bank dba Republic Bank                |Philadelphia     |PA   |27332|Fulton Bank, National Association  |26-Apr-24   |10546|\n|Citizens Bank                                        |Sac City         |IA   |8758 |Iowa Trust & Savings Bank          |3-Nov-23    |10545|\n|Heartland Tri-State Bank                             |Elkhart          |KS   |25851|Dream First Bank, N.A.             |28-Jul-23   |10544|\n|First Republic Bank                                  |San Francisco    |CA   |59017|JPMorgan Chase Bank, N.A.          |1-May-23    |10543|\n|Signature Bank                                       |New York         |NY   |57053|Flagstar Bank, N.A.                |12-Mar-23   |10540|\n|Silicon Valley Bank                                  |Santa Clara      |CA   |24735|First�Citizens Bank & Trust Company|10-Mar-23   |10539|\n|Almena State Bank                                    |Almena           |KS   |15426|Equity Bank                        |23-Oct-20   |10538|\n|First City Bank of Florida                           |Fort Walton Beach|FL   |16748|United Fidelity Bank, fsb          |16-Oct-20   |10537|\n|The First State Bank                                 |Barboursville    |WV   |14361|MVB Bank, Inc.                     |3-Apr-20    |10536|\n|Ericson State Bank                                   |Ericson          |NE   |18265|Farmers and Merchants Bank         |14-Feb-20   |10535|\n|City National Bank of New Jersey                     |Newark           |NJ   |21111|Industrial Bank                    |1-Nov-19    |10534|\n|Resolute Bank                                        |Maumee           |OH   |58317|Buckeye State Bank                 |25-Oct-19   |10533|\n|Louisa Community Bank                                |Louisa           |KY   |58112|Kentucky Farmers Bank Corporation  |25-Oct-19   |10532|\n|The Enloe State Bank                                 |Cooper           |TX   |10716|Legend Bank, N. A.                 |31-May-19   |10531|\n|Washington Federal Bank for Savings                  |Chicago          |IL   |30570|Royal Savings Bank                 |15-Dec-17   |10530|\n|The Farmers and Merchants State Bank of Argonia      |Argonia          |KS   |17719|Conway Bank                        |13-Oct-17   |10529|\n|Fayette County Bank                                  |Saint Elmo       |IL   |1802 |United Fidelity Bank, fsb          |26-May-17   |10528|\n|Guaranty Bank, (d/b/a BestBank in Georgia & Michigan)|Milwaukee        |WI   |30003|First-Citizens Bank & Trust Company|5-May-17    |10527|\n|First NBC Bank                                       |New Orleans      |LA   |58302|Whitney Bank                       |28-Apr-17   |10526|\n+-----------------------------------------------------+-----------------+-----+-----+-----------------------------------+------------+-----+\nonly showing top 20 rows\n\n"
     ]
    }
   ],
   "source": [
    "banks.createOrReplaceTempView(\"failed_banks\")\n",
    "\n",
    "spark.sql(\"select  * from failed_banks ORDER BY fund desc\").show(truncate=False)"
   ]
  },
  {
   "cell_type": "markdown",
   "metadata": {
    "application/vnd.databricks.v1+cell": {
     "cellMetadata": {},
     "inputWidgets": {},
     "nuid": "b9a81783-72e8-4618-8631-358759ff77ab",
     "showTitle": false,
     "tableResultSettingsMap": {},
     "title": ""
    }
   },
   "source": [
    "# Find Maximum Row per Group in DataFrame"
   ]
  },
  {
   "cell_type": "code",
   "execution_count": 0,
   "metadata": {
    "application/vnd.databricks.v1+cell": {
     "cellMetadata": {
      "byteLimit": 2048000,
      "rowLimit": 10000
     },
     "inputWidgets": {},
     "nuid": "015af348-8723-4c9a-aef8-1e9b258db3f8",
     "showTitle": false,
     "tableResultSettingsMap": {},
     "title": ""
    }
   },
   "outputs": [
    {
     "output_type": "stream",
     "name": "stdout",
     "output_type": "stream",
     "text": [
      "Out[105]: ['bank_name',\n 'city',\n 'state',\n 'cert',\n 'acquiring_institution',\n 'closing_date',\n 'fund']"
     ]
    }
   ],
   "source": [
    "banks.columns"
   ]
  },
  {
   "cell_type": "code",
   "execution_count": 0,
   "metadata": {
    "application/vnd.databricks.v1+cell": {
     "cellMetadata": {
      "byteLimit": 2048000,
      "rowLimit": 10000
     },
     "inputWidgets": {},
     "nuid": "415db545-f069-4415-a137-b6db32651b4d",
     "showTitle": false,
     "tableResultSettingsMap": {},
     "title": ""
    }
   },
   "outputs": [
    {
     "output_type": "stream",
     "name": "stdout",
     "output_type": "stream",
     "text": [
      "+--------------------+------------+-----+-----+---------------------+------------+-----+---+\n|           bank_name|        city|state| cert|acquiring_institution|closing_date| fund|row|\n+--------------------+------------+-----+-----+---------------------+------------+-----+---+\n|Alabama Trust Ban...|   Sylacauga|   AL|35224| Southern States Bank|   18-May-12|10440|  1|\n|       Superior Bank|  Birmingham|   AL|17750| Superior Bank, Na...|   15-Apr-11|10358|  2|\n|         Nexity Bank|  Birmingham|   AL|19794| AloStar Bank of C...|   15-Apr-11|10356|  3|\n|  First Lowndes Bank|Fort Deposit|   AL|24957|  First Citizens Bank|   19-Mar-10|10204|  4|\n|New South Federal...|    Irondale|   AL|32276|            Beal Bank|   18-Dec-09|10163|  5|\n|   CapitalSouth Bank|  Birmingham|   AL|22130|           IBERIABANK|   21-Aug-09|10106|  6|\n|       Colonial Bank|  Montgomery|   AL| 9609| Branch Banking & ...|   14-Aug-09|10103|  7|\n|         Allied Bank|    Mulberry|   AR|   91|         Today's Bank|   23-Sep-16|10522|  1|\n| First Southern Bank|  Batesville|   AR|58052|        Southern Bank|   17-Dec-10|10322|  2|\n|   ANB Financial, NA| Bentonville|   AR|33901| Pulaski Bank and ...|    9-May-08|10005|  3|\n|Sinclair National...|    Gravette|   AR|34248|   Delta Trust & Bank|    7-Sep-01| 4649|  4|\n|Sunrise Bank of A...|     Phoenix|   AZ|34707| First Fidelity Ba...|   23-Aug-13|10487|  1|\n|Central Arizona Bank|  Scottsdale|   AZ|34527|   Western State Bank|   14-May-13|10479|  2|\n|    Gold Canyon Bank| Gold Canyon|   AZ|58066| First Scottsdale ...|    5-Apr-13|10472|  3|\n|Western National ...|     Phoenix|   AZ|57917|   Washington Federal|   16-Dec-11|10416|  4|\n|         Summit Bank|    Prescott|   AZ|57442|   The Foothills Bank|   15-Jul-11|10379|  5|\n|         Legacy Bank|  Scottsdale|   AZ|57820| Enterprise Bank &...|    7-Jan-11|10326|  6|\n|    Copper Star Bank|  Scottsdale|   AZ|35463|   Stearns Bank, N.A.|   12-Nov-10|10311|  7|\n|First Arizona Sav...|  Scottsdale|   AZ|32582|          No Acquirer|   22-Oct-10|10306|  8|\n|Towne Bank of Ari...|        Mesa|   AZ|57697| Commerce Bank of ...|    7-May-10|10235|  9|\n+--------------------+------------+-----+-----+---------------------+------------+-----+---+\nonly showing top 20 rows\n\n"
     ]
    }
   ],
   "source": [
    "# Imports\n",
    "from pyspark.sql.window import Window\n",
    "from pyspark.sql.functions import col, row_number\n",
    "\n",
    "# Define a window specification to partition by the state column \n",
    "# and order by the fund column\n",
    "windowDept = Window.partitionBy(\"state\").orderBy(col(\"fund\").desc())\n",
    "# Use the window function to rank rows within each partition\n",
    "rank = banks.withColumn(\"row\",row_number().over(windowDept))\n",
    "rank.show()"
   ]
  },
  {
   "cell_type": "code",
   "execution_count": 0,
   "metadata": {
    "application/vnd.databricks.v1+cell": {
     "cellMetadata": {
      "byteLimit": 2048000,
      "rowLimit": 10000
     },
     "inputWidgets": {},
     "nuid": "1ff93c19-149f-4ca1-8335-e89e50a6f029",
     "showTitle": false,
     "tableResultSettingsMap": {},
     "title": ""
    }
   },
   "outputs": [
    {
     "output_type": "stream",
     "name": "stdout",
     "output_type": "stream",
     "text": [
      "+--------------------+-----------------+-----+-----+---------------------+------------+-----+---+\n|           bank_name|             city|state| cert|acquiring_institution|closing_date| fund|row|\n+--------------------+-----------------+-----+-----+---------------------+------------+-----+---+\n|Alabama Trust Ban...|        Sylacauga|   AL|35224| Southern States Bank|   18-May-12|10440|  1|\n|         Allied Bank|         Mulberry|   AR|   91|         Today's Bank|   23-Sep-16|10522|  1|\n|Sunrise Bank of A...|          Phoenix|   AZ|34707| First Fidelity Ba...|   23-Aug-13|10487|  1|\n| First Republic Bank|    San Francisco|   CA|59017| JPMorgan Chase Ba...|    1-May-23|10543|  1|\n|        Premier Bank|           Denver|   CO|34112| United Fidelity B...|   10-Jul-15|10515|  1|\n|The Community's Bank|       Bridgeport|   CT|57041|          No Acquirer|   13-Sep-13|10489|  1|\n|First City Bank o...|Fort Walton Beach|   FL|16748| United Fidelity B...|   16-Oct-20|10537|  1|\n|The Woodbury Bank...|         Woodbury|   GA|11297|          United Bank|   19-Aug-16|10521|  1|\n|    Bank of Honolulu|         Honolulu|   HI|21029|   Bank of the Orient|   13-Oct-00| 4645|  1|\n|       Citizens Bank|         Sac City|   IA| 8758| Iowa Trust & Savi...|    3-Nov-23|10545|  1|\n|        Syringa Bank|            Boise|   ID|34296|         Sunwest Bank|   31-Jan-14|10494|  1|\n|Washington Federa...|          Chicago|   IL|30570|   Royal Savings Bank|   15-Dec-17|10530|  1|\n|            SCB Bank|      Shelbyville|   IN|29761| First Merchants B...|   10-Feb-12|10425|  1|\n|Heartland Tri-Sta...|          Elkhart|   KS|25851| Dream First Bank,...|   28-Jul-23|10544|  1|\n|Louisa Community ...|           Louisa|   KY|58112| Kentucky Farmers ...|   25-Oct-19|10532|  1|\n|      First NBC Bank|      New Orleans|   LA|58302|         Whitney Bank|   28-Apr-17|10526|  1|\n|         Butler Bank|           Lowell|   MA|26619| People's United Bank|   16-Apr-10|10211|  1|\n|      NBRS Financial|       Rising Sun|   MD| 4862|          Howard Bank|   17-Oct-14|10506|  1|\n|       Fidelity Bank|         Dearborn|   MI|33883| The Huntington Na...|   30-Mar-12|10432|  1|\n|  Northern Star Bank|          Mankato|   MN|34983|            BankVista|   19-Dec-14|10509|  1|\n+--------------------+-----------------+-----+-----+---------------------+------------+-----+---+\nonly showing top 20 rows\n\n"
     ]
    }
   ],
   "source": [
    "# Filter the DataFrame to keep only the rows with rank 1 \n",
    "# (i.e., the maximum fund within each state)\n",
    "rank.filter(col(\"row\") == 1).show()"
   ]
  },
  {
   "cell_type": "code",
   "execution_count": 0,
   "metadata": {
    "application/vnd.databricks.v1+cell": {
     "cellMetadata": {
      "byteLimit": 2048000,
      "rowLimit": 10000
     },
     "inputWidgets": {},
     "nuid": "e1f5ceea-3b1c-4947-86c2-540c8e9373c5",
     "showTitle": false,
     "tableResultSettingsMap": {},
     "title": ""
    }
   },
   "outputs": [
    {
     "output_type": "stream",
     "name": "stdout",
     "output_type": "stream",
     "text": [
      "+--------------------+-----------------+-----+-----+---------------------+------------+-----+\n|           bank_name|             city|state| cert|acquiring_institution|closing_date| fund|\n+--------------------+-----------------+-----+-----+---------------------+------------+-----+\n|Alabama Trust Ban...|        Sylacauga|   AL|35224| Southern States Bank|   18-May-12|10440|\n|         Allied Bank|         Mulberry|   AR|   91|         Today's Bank|   23-Sep-16|10522|\n|Sunrise Bank of A...|          Phoenix|   AZ|34707| First Fidelity Ba...|   23-Aug-13|10487|\n| First Republic Bank|    San Francisco|   CA|59017| JPMorgan Chase Ba...|    1-May-23|10543|\n|        Premier Bank|           Denver|   CO|34112| United Fidelity B...|   10-Jul-15|10515|\n|The Community's Bank|       Bridgeport|   CT|57041|          No Acquirer|   13-Sep-13|10489|\n|First City Bank o...|Fort Walton Beach|   FL|16748| United Fidelity B...|   16-Oct-20|10537|\n|The Woodbury Bank...|         Woodbury|   GA|11297|          United Bank|   19-Aug-16|10521|\n|    Bank of Honolulu|         Honolulu|   HI|21029|   Bank of the Orient|   13-Oct-00| 4645|\n|       Citizens Bank|         Sac City|   IA| 8758| Iowa Trust & Savi...|    3-Nov-23|10545|\n|        Syringa Bank|            Boise|   ID|34296|         Sunwest Bank|   31-Jan-14|10494|\n|Washington Federa...|          Chicago|   IL|30570|   Royal Savings Bank|   15-Dec-17|10530|\n|            SCB Bank|      Shelbyville|   IN|29761| First Merchants B...|   10-Feb-12|10425|\n|Heartland Tri-Sta...|          Elkhart|   KS|25851| Dream First Bank,...|   28-Jul-23|10544|\n|Louisa Community ...|           Louisa|   KY|58112| Kentucky Farmers ...|   25-Oct-19|10532|\n|      First NBC Bank|      New Orleans|   LA|58302|         Whitney Bank|   28-Apr-17|10526|\n|         Butler Bank|           Lowell|   MA|26619| People's United Bank|   16-Apr-10|10211|\n|      NBRS Financial|       Rising Sun|   MD| 4862|          Howard Bank|   17-Oct-14|10506|\n|       Fidelity Bank|         Dearborn|   MI|33883| The Huntington Na...|   30-Mar-12|10432|\n|  Northern Star Bank|          Mankato|   MN|34983|            BankVista|   19-Dec-14|10509|\n+--------------------+-----------------+-----+-----+---------------------+------------+-----+\nonly showing top 20 rows\n\n"
     ]
    }
   ],
   "source": [
    "# Putting it all together -- I need the highest fund per state\n",
    "\n",
    "# Imports\n",
    "from pyspark.sql.window import Window\n",
    "from pyspark.sql.functions import col, row_number\n",
    "\n",
    "# Define a window specification to partition by the state column \n",
    "# and order by the fund column\n",
    "windowDept = Window.partitionBy(\"state\").orderBy(col(\"fund\").desc())\n",
    "# Use the window function to rank rows within each partition\n",
    "rank = banks.withColumn(\"row\",row_number().over(windowDept))\n",
    "# Filter the DataFrame to keep only the rows with rank 1 \n",
    "# (i.e., the maximum fund within each state)\n",
    "rank.filter(col(\"row\") == 1).drop(\"row\").show()"
   ]
  },
  {
   "cell_type": "code",
   "execution_count": 0,
   "metadata": {
    "application/vnd.databricks.v1+cell": {
     "cellMetadata": {
      "byteLimit": 2048000,
      "rowLimit": 10000
     },
     "inputWidgets": {},
     "nuid": "b41df688-66fb-4d29-8ad0-c1900ec339f1",
     "showTitle": false,
     "tableResultSettingsMap": {},
     "title": ""
    }
   },
   "outputs": [
    {
     "output_type": "stream",
     "name": "stdout",
     "output_type": "stream",
     "text": [
      "+--------------------+----------------+-----+-----+---------------------+------------+-----+\n|           bank_name|            city|state| cert|acquiring_institution|closing_date| fund|\n+--------------------+----------------+-----+-----+---------------------+------------+-----+\n|       Colonial Bank|      Montgomery|   AL| 9609| Branch Banking & ...|   14-Aug-09|10103|\n|Sinclair National...|        Gravette|   AR|34248|   Delta Trust & Bank|    7-Sep-01| 4649|\n|        NextBank, NA|         Phoenix|   AZ|22314|          No Acquirer|    7-Feb-02| 4653|\n|Southern Pacific ...|        Torrance|   CA|27094|            Beal Bank|    7-Feb-03| 4660|\n|Colorado National...|Colorado Springs|   CO|18896|         Herring Bank|   20-Mar-09|10045|\n|Connecticut Bank ...|        Stamford|   CT|19183|   Hudson United Bank|   26-Jun-02| 4656|\n|   Hamilton Bank, NA|           Miami|   FL|24382| Israel Discount B...|   11-Jan-02| 4650|\n|AmTrade Internati...|         Atlanta|   GA|33784|          No Acquirer|   30-Sep-02| 4657|\n|    Bank of Honolulu|        Honolulu|   HI|21029|   Bank of the Orient|   13-Oct-00| 4645|\n|         Vantus Bank|      Sioux City|   IA|27732|  Great Southern Bank|    4-Sep-09|10116|\n| First Bank of Idaho|         Ketchum|   ID|34396|      U.S. Bank, N.A.|   24-Apr-09|10055|\n|National State Ba...|      Metropolis|   IL| 3815| Banterra Bank of ...|   14-Dec-00| 4646|\n|Irwin Union Bank ...|        Columbus|   IN|10100| First Financial B...|   18-Sep-09|10120|\n|Columbian Bank & ...|          Topeka|   KS|22728| Citizens Bank & T...|   22-Aug-08|10011|\n|Irwin Union Bank,...|      Louisville|   KY|57068| First Financial B...|   18-Sep-09|10121|\n|Farmers Bank of C...|     Cheneyville|   LA|16445| Sabine State Bank...|   17-Dec-02| 4659|\n|         Butler Bank|          Lowell|   MA|26619| People's United Bank|   16-Apr-10|10211|\n|        Suburban FSB|         Crofton|   MD|30763|        Bank of Essex|   30-Jan-09|10033|\n|    New Century Bank| Shelby Township|   MI|34979|          No Acquirer|   28-Mar-02| 4655|\n|First Integrity B...|         Staples|   MN|12736| First Internation...|   30-May-08|10006|\n+--------------------+----------------+-----+-----+---------------------+------------+-----+\nonly showing top 20 rows\n\n"
     ]
    }
   ],
   "source": [
    "# Putting it all together -- I need the Lowest fund per state\n",
    "\n",
    "# Imports\n",
    "from pyspark.sql.window import Window\n",
    "from pyspark.sql.functions import col, row_number\n",
    "\n",
    "# Define a window specification to partition by the state column \n",
    "# and order by the fund column\n",
    "windowDept = Window.partitionBy(\"state\").orderBy(col(\"fund\").asc())\n",
    "# Use the window function to rank rows within each partition\n",
    "rank = banks.withColumn(\"row\",row_number().over(windowDept))\n",
    "# Filter the DataFrame to keep only the rows with rank 1 \n",
    "# (i.e., the maximum fund within each state)\n",
    "rank.filter(col(\"row\") == 1).drop(\"row\").show()"
   ]
  },
  {
   "cell_type": "code",
   "execution_count": 0,
   "metadata": {
    "application/vnd.databricks.v1+cell": {
     "cellMetadata": {
      "byteLimit": 2048000,
      "rowLimit": 10000
     },
     "inputWidgets": {},
     "nuid": "c4d00e47-c10e-459d-9c3c-4b35aadff1d9",
     "showTitle": false,
     "tableResultSettingsMap": {},
     "title": ""
    }
   },
   "outputs": [
    {
     "output_type": "stream",
     "name": "stdout",
     "output_type": "stream",
     "text": [
      "+--------------------+------------+-----+-----+---------------------+------------+-----+\n|           bank_name|        city|state| cert|acquiring_institution|closing_date| fund|\n+--------------------+------------+-----+-----+---------------------+------------+-----+\n|   CapitalSouth Bank|  Birmingham|   AL|22130|           IBERIABANK|   21-Aug-09|10106|\n|  First Lowndes Bank|Fort Deposit|   AL|24957|  First Citizens Bank|   19-Mar-10|10204|\n|New South Federal...|    Irondale|   AL|32276|            Beal Bank|   18-Dec-09|10163|\n|       Colonial Bank|  Montgomery|   AL| 9609| Branch Banking & ...|   14-Aug-09|10103|\n|Alabama Trust Ban...|   Sylacauga|   AL|35224| Southern States Bank|   18-May-12|10440|\n| First Southern Bank|  Batesville|   AR|58052|        Southern Bank|   17-Dec-10|10322|\n|   ANB Financial, NA| Bentonville|   AR|33901| Pulaski Bank and ...|    9-May-08|10005|\n|Sinclair National...|    Gravette|   AR|34248|   Delta Trust & Bank|    7-Sep-01| 4649|\n|         Allied Bank|    Mulberry|   AR|   91|         Today's Bank|   23-Sep-16|10522|\n|    First State Bank|   Flagstaff|   AZ|34875|         Sunwest Bank|    4-Sep-09|10114|\n|Union Bank, Natio...|     Gilbert|   AZ|34485|        MidFirst Bank|   14-Aug-09|10102|\n|    Gold Canyon Bank| Gold Canyon|   AZ|58066| First Scottsdale ...|    5-Apr-13|10472|\n|Valley Capital Ba...|        Mesa|   AZ|58399| Enterprise Bank &...|   11-Dec-09|10159|\n|        NextBank, NA|     Phoenix|   AZ|22314|          No Acquirer|    7-Feb-02| 4653|\n|         Summit Bank|    Prescott|   AZ|57442|   The Foothills Bank|   15-Jul-11|10379|\n|First Arizona Sav...|  Scottsdale|   AZ|32582|          No Acquirer|   22-Oct-10|10306|\n|    San Joaquin Bank| Bakersfield|   CA|23266| Citizens Business...|   16-Oct-09|10126|\n|First Bank of Bev...|   Calabasas|   CA|32069|          No Acquirer|   24-Apr-09|10054|\n|Butte Community Bank|       Chico|   CA|33219|       Rabobank, N.A.|   20-Aug-10|10278|\n|       Alliance Bank| Culver City|   CA|23124| California Bank &...|    6-Feb-09|10035|\n+--------------------+------------+-----+-----+---------------------+------------+-----+\nonly showing top 20 rows\n\n"
     ]
    }
   ],
   "source": [
    "# Putting it all together -- I need the Lowest fund per city in every state\n",
    "\n",
    "# Imports\n",
    "from pyspark.sql.window import Window\n",
    "from pyspark.sql.functions import col, row_number\n",
    "\n",
    "# Define a window specification to partition by the state column \n",
    "# and order by the fund column\n",
    "windowDept = Window.partitionBy(\"state\", \"city\").orderBy(col(\"fund\").asc())\n",
    "# Use the window function to rank rows within each partition\n",
    "rank = banks.withColumn(\"row\",row_number().over(windowDept))\n",
    "\n",
    "# Filter the DataFrame to keep only the rows with rank 1 \n",
    "# (i.e., the maximum fund within each state)\n",
    "rank.filter(col(\"row\") == 1).drop(\"row\").show()"
   ]
  },
  {
   "cell_type": "code",
   "execution_count": 0,
   "metadata": {
    "application/vnd.databricks.v1+cell": {
     "cellMetadata": {
      "byteLimit": 2048000,
      "rowLimit": 10000
     },
     "inputWidgets": {},
     "nuid": "b5799336-f9f4-41b9-b3b1-16ac3d0a7621",
     "showTitle": false,
     "tableResultSettingsMap": {},
     "title": ""
    }
   },
   "outputs": [
    {
     "output_type": "stream",
     "name": "stdout",
     "output_type": "stream",
     "text": [
      "+--------------------+------------+-----+-----+---------------------+------------+-----+\n|           bank_name|        city|state| cert|acquiring_institution|closing_date| fund|\n+--------------------+------------+-----+-----+---------------------+------------+-----+\n|       Superior Bank|  Birmingham|   AL|17750| Superior Bank, Na...|   15-Apr-11|10358|\n|  First Lowndes Bank|Fort Deposit|   AL|24957|  First Citizens Bank|   19-Mar-10|10204|\n|New South Federal...|    Irondale|   AL|32276|            Beal Bank|   18-Dec-09|10163|\n|       Colonial Bank|  Montgomery|   AL| 9609| Branch Banking & ...|   14-Aug-09|10103|\n|Alabama Trust Ban...|   Sylacauga|   AL|35224| Southern States Bank|   18-May-12|10440|\n| First Southern Bank|  Batesville|   AR|58052|        Southern Bank|   17-Dec-10|10322|\n|   ANB Financial, NA| Bentonville|   AR|33901| Pulaski Bank and ...|    9-May-08|10005|\n|Sinclair National...|    Gravette|   AR|34248|   Delta Trust & Bank|    7-Sep-01| 4649|\n|         Allied Bank|    Mulberry|   AR|   91|         Today's Bank|   23-Sep-16|10522|\n|    First State Bank|   Flagstaff|   AZ|34875|         Sunwest Bank|    4-Sep-09|10114|\n|Union Bank, Natio...|     Gilbert|   AZ|34485|        MidFirst Bank|   14-Aug-09|10102|\n|    Gold Canyon Bank| Gold Canyon|   AZ|58066| First Scottsdale ...|    5-Apr-13|10472|\n|Towne Bank of Ari...|        Mesa|   AZ|57697| Commerce Bank of ...|    7-May-10|10235|\n|Sunrise Bank of A...|     Phoenix|   AZ|34707| First Fidelity Ba...|   23-Aug-13|10487|\n|         Summit Bank|    Prescott|   AZ|57442|   The Foothills Bank|   15-Jul-11|10379|\n|Central Arizona Bank|  Scottsdale|   AZ|34527|   Western State Bank|   14-May-13|10479|\n|    San Joaquin Bank| Bakersfield|   CA|23266| Citizens Business...|   16-Oct-09|10126|\n|First Bank of Bev...|   Calabasas|   CA|32069|          No Acquirer|   24-Apr-09|10054|\n|Butte Community Bank|       Chico|   CA|33219|       Rabobank, N.A.|   20-Aug-10|10278|\n|       Alliance Bank| Culver City|   CA|23124| California Bank &...|    6-Feb-09|10035|\n+--------------------+------------+-----+-----+---------------------+------------+-----+\nonly showing top 20 rows\n\n"
     ]
    }
   ],
   "source": [
    "# Putting it all together -- I need the highest fund per city in every state\n",
    "\n",
    "# Imports\n",
    "from pyspark.sql.window import Window\n",
    "from pyspark.sql.functions import col, row_number\n",
    "\n",
    "# Define a window specification to partition by the state column \n",
    "# and order by the fund column\n",
    "windowDept = Window.partitionBy(\"state\", \"city\").orderBy(col(\"fund\").desc())\n",
    "# Use the window function to rank rows within each partition\n",
    "rank = banks.withColumn(\"row\",row_number().over(windowDept))\n",
    "\n",
    "# Filter the DataFrame to keep only the rows with rank 1 \n",
    "# (i.e., the maximum fund within each state)\n",
    "rank.filter(col(\"row\") == 1).drop(\"row\").show()"
   ]
  },
  {
   "cell_type": "markdown",
   "metadata": {
    "application/vnd.databricks.v1+cell": {
     "cellMetadata": {},
     "inputWidgets": {},
     "nuid": "baa320eb-e06f-4f22-9b64-987a58ac4413",
     "showTitle": false,
     "tableResultSettingsMap": {},
     "title": ""
    }
   },
   "source": [
    "# Aggregation Functions\n",
    "1. Using max() Aggregate Function\n",
    "2. Using min() Aggregate Function\n",
    "3. Using avg() Aggregate Function"
   ]
  },
  {
   "cell_type": "code",
   "execution_count": 0,
   "metadata": {
    "application/vnd.databricks.v1+cell": {
     "cellMetadata": {
      "byteLimit": 2048000,
      "rowLimit": 10000
     },
     "inputWidgets": {},
     "nuid": "85285cc7-bee6-4f63-b3b3-9a947637a322",
     "showTitle": false,
     "tableResultSettingsMap": {},
     "title": ""
    }
   },
   "outputs": [
    {
     "output_type": "stream",
     "name": "stdout",
     "output_type": "stream",
     "text": [
      "Out[127]: ['bank_name',\n 'city',\n 'state',\n 'cert',\n 'acquiring_institution',\n 'closing_date',\n 'fund']"
     ]
    }
   ],
   "source": [
    "banks.columns"
   ]
  },
  {
   "cell_type": "markdown",
   "metadata": {
    "application/vnd.databricks.v1+cell": {
     "cellMetadata": {},
     "inputWidgets": {},
     "nuid": "8a248395-0da0-44eb-a00e-8045ce397893",
     "showTitle": false,
     "tableResultSettingsMap": {},
     "title": ""
    }
   },
   "source": [
    "# approx_count_distinct"
   ]
  },
  {
   "cell_type": "code",
   "execution_count": 0,
   "metadata": {
    "application/vnd.databricks.v1+cell": {
     "cellMetadata": {
      "byteLimit": 2048000,
      "rowLimit": 10000
     },
     "inputWidgets": {},
     "nuid": "66badc74-765d-462a-86d9-aeaf4ca8d518",
     "showTitle": false,
     "tableResultSettingsMap": {},
     "title": ""
    }
   },
   "outputs": [
    {
     "output_type": "stream",
     "name": "stdout",
     "output_type": "stream",
     "text": [
      "Out[137]: 541"
     ]
    }
   ],
   "source": [
    "# count the number of distinct bank names from the dataset\n",
    "from pyspark.sql.functions import approx_count_distinct\n",
    "\n",
    "banks.select(approx_count_distinct(\"bank_name\")).collect()[0][0]"
   ]
  },
  {
   "cell_type": "code",
   "execution_count": 0,
   "metadata": {
    "application/vnd.databricks.v1+cell": {
     "cellMetadata": {
      "byteLimit": 2048000,
      "rowLimit": 10000
     },
     "inputWidgets": {},
     "nuid": "4206ea2e-fbce-476d-8dc1-d7619d9b348a",
     "showTitle": false,
     "tableResultSettingsMap": {},
     "title": ""
    }
   },
   "outputs": [
    {
     "output_type": "stream",
     "name": "stdout",
     "output_type": "stream",
     "text": [
      "Out[139]: 46"
     ]
    }
   ],
   "source": [
    "# count the number of distinct bank names from the dataset\n",
    "from pyspark.sql.functions import approx_count_distinct\n",
    "\n",
    "banks.select(approx_count_distinct(\"state\")).collect()[0][0]"
   ]
  },
  {
   "cell_type": "markdown",
   "metadata": {
    "application/vnd.databricks.v1+cell": {
     "cellMetadata": {},
     "inputWidgets": {},
     "nuid": "73ba0dbd-90ec-421c-9565-181e0fc7b422",
     "showTitle": false,
     "tableResultSettingsMap": {},
     "title": ""
    }
   },
   "source": [
    "# avg() | mean()"
   ]
  },
  {
   "cell_type": "code",
   "execution_count": 0,
   "metadata": {
    "application/vnd.databricks.v1+cell": {
     "cellMetadata": {
      "byteLimit": 2048000,
      "rowLimit": 10000
     },
     "inputWidgets": {},
     "nuid": "d3b8b0db-91a5-4a20-8233-41b6d77ec531",
     "showTitle": false,
     "tableResultSettingsMap": {},
     "title": ""
    }
   },
   "outputs": [
    {
     "output_type": "stream",
     "name": "stdout",
     "output_type": "stream",
     "text": [
      "+-------------------------------+-----------+-----+-----+-----------------------------------+------------+-----+--------+\n|bank_name                      |city       |state|cert |acquiring_institution              |closing_date|fund |avg_fund|\n+-------------------------------+-----------+-----+-----+-----------------------------------+------------+-----+--------+\n|Bank of Honolulu               |Honolulu   |HI   |21029|Bank of the Orient                 |13-Oct-00   |4645 |4645.0  |\n|Butler Bank                    |Lowell     |MA   |26619|People's United Bank               |16-Apr-10   |10211|10211.0 |\n|First Alliance Bank & Trust Co.|Manchester |NH   |34264|Southern New Hampshire Bank & Trust|2-Feb-01    |4647 |4647.0  |\n|BankFirst                      |Sioux Falls|SD   |34103|Alerus Financial, N.A.             |17-Jul-09   |10081|10081.0 |\n|Bank of Wyoming                |Thermopolis|WY   |22754|Central Bank & Trust               |10-Jul-09   |10080|10080.0 |\n+-------------------------------+-----------+-----+-----+-----------------------------------+------------+-----+--------+\n\n"
     ]
    }
   ],
   "source": [
    "# Using avg() Aggregate Function\n",
    "from pyspark.sql import Window\n",
    "from pyspark.sql.functions import col, max, mean, avg\n",
    "\n",
    "# Define a window specification to partition by the state column \n",
    "# and order by the fund column\n",
    "windowSpec = Window.partitionBy(\"state\")\n",
    "\n",
    "# Add a column for the avg fund within each state\n",
    "banks_avg_fund = banks.withColumn(\"avg_fund\", mean(col(\"fund\")).over(windowSpec))\n",
    "\n",
    "# Filter the DataFrame to retain only rows where the fund matches the avg fund within each state\n",
    "result = banks_avg_fund.orderBy('state').filter(col(\"fund\") == col(\"avg_fund\"))#.drop(\"avg_fund\")\n",
    "\n",
    "# Show the result\n",
    "result.show(n=50, truncate=False)"
   ]
  },
  {
   "cell_type": "markdown",
   "metadata": {
    "application/vnd.databricks.v1+cell": {
     "cellMetadata": {},
     "inputWidgets": {},
     "nuid": "14d7a129-4a5f-4279-addf-bedd662e893c",
     "showTitle": false,
     "tableResultSettingsMap": {},
     "title": ""
    }
   },
   "source": [
    "# Using max() Aggregate Function"
   ]
  },
  {
   "cell_type": "code",
   "execution_count": 0,
   "metadata": {
    "application/vnd.databricks.v1+cell": {
     "cellMetadata": {
      "byteLimit": 2048000,
      "rowLimit": 10000
     },
     "inputWidgets": {},
     "nuid": "887c7abd-8203-442a-8676-0dbe2460af2c",
     "showTitle": false,
     "tableResultSettingsMap": {},
     "title": ""
    }
   },
   "outputs": [
    {
     "output_type": "stream",
     "name": "stdout",
     "output_type": "stream",
     "text": [
      "+----------------------------------------+-----------------+-----+-----+------------------------------------------+------------+-----+\n|bank_name                               |city             |state|cert |acquiring_institution                     |closing_date|fund |\n+----------------------------------------+-----------------+-----+-----+------------------------------------------+------------+-----+\n|Alabama Trust Bank, National Association|Sylacauga        |AL   |35224|Southern States Bank                      |18-May-12   |10440|\n|Allied Bank                             |Mulberry         |AR   |91   |Today's Bank                              |23-Sep-16   |10522|\n|Sunrise Bank of Arizona                 |Phoenix          |AZ   |34707|First Fidelity Bank, National Association |23-Aug-13   |10487|\n|First Republic Bank                     |San Francisco    |CA   |59017|JPMorgan Chase Bank, N.A.                 |1-May-23    |10543|\n|Premier Bank                            |Denver           |CO   |34112|United Fidelity Bank, fsb                 |10-Jul-15   |10515|\n|The Community's Bank                    |Bridgeport       |CT   |57041|No Acquirer                               |13-Sep-13   |10489|\n|First City Bank of Florida              |Fort Walton Beach|FL   |16748|United Fidelity Bank, fsb                 |16-Oct-20   |10537|\n|The Woodbury Banking Company            |Woodbury         |GA   |11297|United Bank                               |19-Aug-16   |10521|\n|Bank of Honolulu                        |Honolulu         |HI   |21029|Bank of the Orient                        |13-Oct-00   |4645 |\n|Citizens Bank                           |Sac City         |IA   |8758 |Iowa Trust & Savings Bank                 |3-Nov-23    |10545|\n|Syringa Bank                            |Boise            |ID   |34296|Sunwest Bank                              |31-Jan-14   |10494|\n|Washington Federal Bank for Savings     |Chicago          |IL   |30570|Royal Savings Bank                        |15-Dec-17   |10530|\n|SCB Bank                                |Shelbyville      |IN   |29761|First Merchants Bank, National Association|10-Feb-12   |10425|\n|Heartland Tri-State Bank                |Elkhart          |KS   |25851|Dream First Bank, N.A.                    |28-Jul-23   |10544|\n|Louisa Community Bank                   |Louisa           |KY   |58112|Kentucky Farmers Bank Corporation         |25-Oct-19   |10532|\n|First NBC Bank                          |New Orleans      |LA   |58302|Whitney Bank                              |28-Apr-17   |10526|\n|Butler Bank                             |Lowell           |MA   |26619|People's United Bank                      |16-Apr-10   |10211|\n|NBRS Financial                          |Rising Sun       |MD   |4862 |Howard Bank                               |17-Oct-14   |10506|\n|Fidelity Bank                           |Dearborn         |MI   |33883|The Huntington National Bank              |30-Mar-12   |10432|\n|Northern Star Bank                      |Mankato          |MN   |34983|BankVista                                 |19-Dec-14   |10509|\n+----------------------------------------+-----------------+-----+-----+------------------------------------------+------------+-----+\nonly showing top 20 rows\n\n"
     ]
    }
   ],
   "source": [
    "# Using max() Aggregate Function\n",
    "from pyspark.sql import Window\n",
    "from pyspark.sql.functions import col, max\n",
    "\n",
    "# Define a window specification to partition by the state column \n",
    "# and order by the fund column\n",
    "windowSpec = Window.partitionBy(\"state\")\n",
    "\n",
    "# Add a column for the maximum fund within each state\n",
    "banks_max_fund = banks.withColumn(\"max_fund\", max(col(\"fund\")).over(windowSpec))\n",
    "\n",
    "# Filter the DataFrame to retain only rows where the fund matches the maximum fund within each state\n",
    "result = banks_max_fund.filter(col(\"fund\") == col(\"max_fund\")).drop(\"max_fund\")\n",
    "\n",
    "# Show the result\n",
    "result.show(truncate=False)"
   ]
  },
  {
   "cell_type": "markdown",
   "metadata": {
    "application/vnd.databricks.v1+cell": {
     "cellMetadata": {},
     "inputWidgets": {},
     "nuid": "5fea3ea4-7e36-42cc-9a97-4e5e85ca1294",
     "showTitle": false,
     "tableResultSettingsMap": {},
     "title": ""
    }
   },
   "source": [
    "# min()"
   ]
  },
  {
   "cell_type": "code",
   "execution_count": 0,
   "metadata": {
    "application/vnd.databricks.v1+cell": {
     "cellMetadata": {
      "byteLimit": 2048000,
      "rowLimit": 10000
     },
     "inputWidgets": {},
     "nuid": "4d3f62ba-4af8-4747-bfd0-79dc743a669c",
     "showTitle": false,
     "tableResultSettingsMap": {},
     "title": ""
    }
   },
   "outputs": [
    {
     "output_type": "stream",
     "name": "stdout",
     "output_type": "stream",
     "text": [
      "+--------------------+----------------+-----+-----+---------------------+------------+-----+\n|           bank_name|            city|state| cert|acquiring_institution|closing_date| fund|\n+--------------------+----------------+-----+-----+---------------------+------------+-----+\n|       Colonial Bank|      Montgomery|   AL| 9609| Branch Banking & ...|   14-Aug-09|10103|\n|Sinclair National...|        Gravette|   AR|34248|   Delta Trust & Bank|    7-Sep-01| 4649|\n|        NextBank, NA|         Phoenix|   AZ|22314|          No Acquirer|    7-Feb-02| 4653|\n|Southern Pacific ...|        Torrance|   CA|27094|            Beal Bank|    7-Feb-03| 4660|\n|Colorado National...|Colorado Springs|   CO|18896|         Herring Bank|   20-Mar-09|10045|\n|Connecticut Bank ...|        Stamford|   CT|19183|   Hudson United Bank|   26-Jun-02| 4656|\n|   Hamilton Bank, NA|           Miami|   FL|24382| Israel Discount B...|   11-Jan-02| 4650|\n|AmTrade Internati...|         Atlanta|   GA|33784|          No Acquirer|   30-Sep-02| 4657|\n|    Bank of Honolulu|        Honolulu|   HI|21029|   Bank of the Orient|   13-Oct-00| 4645|\n|         Vantus Bank|      Sioux City|   IA|27732|  Great Southern Bank|    4-Sep-09|10116|\n| First Bank of Idaho|         Ketchum|   ID|34396|      U.S. Bank, N.A.|   24-Apr-09|10055|\n|National State Ba...|      Metropolis|   IL| 3815| Banterra Bank of ...|   14-Dec-00| 4646|\n|Irwin Union Bank ...|        Columbus|   IN|10100| First Financial B...|   18-Sep-09|10120|\n|Columbian Bank & ...|          Topeka|   KS|22728| Citizens Bank & T...|   22-Aug-08|10011|\n|Irwin Union Bank,...|      Louisville|   KY|57068| First Financial B...|   18-Sep-09|10121|\n|Farmers Bank of C...|     Cheneyville|   LA|16445| Sabine State Bank...|   17-Dec-02| 4659|\n|         Butler Bank|          Lowell|   MA|26619| People's United Bank|   16-Apr-10|10211|\n|        Suburban FSB|         Crofton|   MD|30763|        Bank of Essex|   30-Jan-09|10033|\n|    New Century Bank| Shelby Township|   MI|34979|          No Acquirer|   28-Mar-02| 4655|\n|First Integrity B...|         Staples|   MN|12736| First Internation...|   30-May-08|10006|\n+--------------------+----------------+-----+-----+---------------------+------------+-----+\nonly showing top 20 rows\n\n"
     ]
    }
   ],
   "source": [
    "# Using min() Aggregate Function\n",
    "from pyspark.sql import Window\n",
    "from pyspark.sql.functions import col, min\n",
    "\n",
    "# Define a window specification to partition by the state column \n",
    "# and order by the fund column\n",
    "windowSpec = Window.partitionBy(\"state\")\n",
    "\n",
    "# Add a column for the minimum fund within each state\n",
    "banks_min_fund = banks.withColumn(\"lowest_fund\", min(col(\"fund\")).over(windowSpec))\n",
    "\n",
    "# Filter the DataFrame to retain only rows where the fund matches the maximum fund within each state\n",
    "result = banks_min_fund.filter(col(\"fund\") == col(\"lowest_fund\")).drop(\"lowest_fund\")\n",
    "\n",
    "# Show the result\n",
    "result.show()"
   ]
  },
  {
   "cell_type": "code",
   "execution_count": 0,
   "metadata": {
    "application/vnd.databricks.v1+cell": {
     "cellMetadata": {
      "byteLimit": 2048000,
      "rowLimit": 10000
     },
     "inputWidgets": {},
     "nuid": "6ea2e3fa-5a6b-4d6a-8102-116ea5261d5e",
     "showTitle": false,
     "tableResultSettingsMap": {},
     "title": ""
    }
   },
   "outputs": [
    {
     "output_type": "stream",
     "name": "stdout",
     "output_type": "stream",
     "text": [
      "+--------------------+------------+-----+-----+---------------------+------------+-----+\n|           bank_name|        city|state| cert|acquiring_institution|closing_date| fund|\n+--------------------+------------+-----+-----+---------------------+------------+-----+\n|       Superior Bank|  Birmingham|   AL|17750| Superior Bank, Na...|   15-Apr-11|10358|\n|  First Lowndes Bank|Fort Deposit|   AL|24957|  First Citizens Bank|   19-Mar-10|10204|\n|New South Federal...|    Irondale|   AL|32276|            Beal Bank|   18-Dec-09|10163|\n|       Colonial Bank|  Montgomery|   AL| 9609| Branch Banking & ...|   14-Aug-09|10103|\n|Alabama Trust Ban...|   Sylacauga|   AL|35224| Southern States Bank|   18-May-12|10440|\n| First Southern Bank|  Batesville|   AR|58052|        Southern Bank|   17-Dec-10|10322|\n|   ANB Financial, NA| Bentonville|   AR|33901| Pulaski Bank and ...|    9-May-08|10005|\n|Sinclair National...|    Gravette|   AR|34248|   Delta Trust & Bank|    7-Sep-01| 4649|\n|         Allied Bank|    Mulberry|   AR|   91|         Today's Bank|   23-Sep-16|10522|\n|    First State Bank|   Flagstaff|   AZ|34875|         Sunwest Bank|    4-Sep-09|10114|\n|Union Bank, Natio...|     Gilbert|   AZ|34485|        MidFirst Bank|   14-Aug-09|10102|\n|    Gold Canyon Bank| Gold Canyon|   AZ|58066| First Scottsdale ...|    5-Apr-13|10472|\n|Towne Bank of Ari...|        Mesa|   AZ|57697| Commerce Bank of ...|    7-May-10|10235|\n|Sunrise Bank of A...|     Phoenix|   AZ|34707| First Fidelity Ba...|   23-Aug-13|10487|\n|         Summit Bank|    Prescott|   AZ|57442|   The Foothills Bank|   15-Jul-11|10379|\n|Central Arizona Bank|  Scottsdale|   AZ|34527|   Western State Bank|   14-May-13|10479|\n|    San Joaquin Bank| Bakersfield|   CA|23266| Citizens Business...|   16-Oct-09|10126|\n|First Bank of Bev...|   Calabasas|   CA|32069|          No Acquirer|   24-Apr-09|10054|\n|Butte Community Bank|       Chico|   CA|33219|       Rabobank, N.A.|   20-Aug-10|10278|\n|       Alliance Bank| Culver City|   CA|23124| California Bank &...|    6-Feb-09|10035|\n+--------------------+------------+-----+-----+---------------------+------------+-----+\nonly showing top 20 rows\n\n"
     ]
    }
   ],
   "source": [
    "# Using max() Aggregate Function\n",
    "from pyspark.sql import Window\n",
    "from pyspark.sql.functions import col, max\n",
    "\n",
    "# Define a window specification to partition by the state column \n",
    "# and order by the fund column\n",
    "windowSpec = Window.partitionBy(\"state\", \"city\")\n",
    "\n",
    "# Add a column for the maximum fund within each state\n",
    "banks_max_fund = banks.withColumn(\"max_fund\", max(col(\"fund\")).over(windowSpec))\n",
    "\n",
    "# Filter the DataFrame to retain only rows where the fund matches the maximum fund within each state\n",
    "result = banks_max_fund.filter(col(\"fund\") == col(\"max_fund\")).drop(\"max_fund\")\n",
    "\n",
    "# Show the result\n",
    "result.show()"
   ]
  },
  {
   "cell_type": "code",
   "execution_count": 0,
   "metadata": {
    "application/vnd.databricks.v1+cell": {
     "cellMetadata": {
      "byteLimit": 2048000,
      "rowLimit": 10000
     },
     "inputWidgets": {},
     "nuid": "b8a2bc72-df33-4aa5-81ae-077d92dc553f",
     "showTitle": false,
     "tableResultSettingsMap": {},
     "title": ""
    }
   },
   "outputs": [
    {
     "output_type": "stream",
     "name": "stdout",
     "output_type": "stream",
     "text": [
      "+--------------------+------------+-----+-----+---------------------+------------+-----+\n|           bank_name|        city|state| cert|acquiring_institution|closing_date| fund|\n+--------------------+------------+-----+-----+---------------------+------------+-----+\n|   CapitalSouth Bank|  Birmingham|   AL|22130|           IBERIABANK|   21-Aug-09|10106|\n|  First Lowndes Bank|Fort Deposit|   AL|24957|  First Citizens Bank|   19-Mar-10|10204|\n|New South Federal...|    Irondale|   AL|32276|            Beal Bank|   18-Dec-09|10163|\n|       Colonial Bank|  Montgomery|   AL| 9609| Branch Banking & ...|   14-Aug-09|10103|\n|Alabama Trust Ban...|   Sylacauga|   AL|35224| Southern States Bank|   18-May-12|10440|\n| First Southern Bank|  Batesville|   AR|58052|        Southern Bank|   17-Dec-10|10322|\n|   ANB Financial, NA| Bentonville|   AR|33901| Pulaski Bank and ...|    9-May-08|10005|\n|Sinclair National...|    Gravette|   AR|34248|   Delta Trust & Bank|    7-Sep-01| 4649|\n|         Allied Bank|    Mulberry|   AR|   91|         Today's Bank|   23-Sep-16|10522|\n|    First State Bank|   Flagstaff|   AZ|34875|         Sunwest Bank|    4-Sep-09|10114|\n|Union Bank, Natio...|     Gilbert|   AZ|34485|        MidFirst Bank|   14-Aug-09|10102|\n|    Gold Canyon Bank| Gold Canyon|   AZ|58066| First Scottsdale ...|    5-Apr-13|10472|\n|Valley Capital Ba...|        Mesa|   AZ|58399| Enterprise Bank &...|   11-Dec-09|10159|\n|        NextBank, NA|     Phoenix|   AZ|22314|          No Acquirer|    7-Feb-02| 4653|\n|         Summit Bank|    Prescott|   AZ|57442|   The Foothills Bank|   15-Jul-11|10379|\n|First Arizona Sav...|  Scottsdale|   AZ|32582|          No Acquirer|   22-Oct-10|10306|\n|    San Joaquin Bank| Bakersfield|   CA|23266| Citizens Business...|   16-Oct-09|10126|\n|First Bank of Bev...|   Calabasas|   CA|32069|          No Acquirer|   24-Apr-09|10054|\n|Butte Community Bank|       Chico|   CA|33219|       Rabobank, N.A.|   20-Aug-10|10278|\n|       Alliance Bank| Culver City|   CA|23124| California Bank &...|    6-Feb-09|10035|\n+--------------------+------------+-----+-----+---------------------+------------+-----+\nonly showing top 20 rows\n\n"
     ]
    }
   ],
   "source": [
    "# Using min() Aggregate Function\n",
    "from pyspark.sql import Window\n",
    "from pyspark.sql.functions import col, min\n",
    "\n",
    "# Define a window specification to partition by the state and city column \n",
    "# and order by the fund column\n",
    "windowSpec = Window.partitionBy(\"state\", \"city\")\n",
    "\n",
    "# Add a column for the minimum fund within each state\n",
    "banks_min_fund = banks.withColumn(\"lowest_fund\", min(col(\"fund\")).over(windowSpec))\n",
    "\n",
    "# Filter the DataFrame to retain only rows where the fund matches the maximum fund within each state\n",
    "result = banks_min_fund.filter(col(\"fund\") == col(\"lowest_fund\")).drop(\"lowest_fund\")\n",
    "\n",
    "# Show the result\n",
    "result.show()"
   ]
  },
  {
   "cell_type": "code",
   "execution_count": 0,
   "metadata": {
    "application/vnd.databricks.v1+cell": {
     "cellMetadata": {
      "byteLimit": 2048000,
      "rowLimit": 10000
     },
     "inputWidgets": {},
     "nuid": "7a1ea1b8-d131-488e-a46e-e706b73ae8ae",
     "showTitle": false,
     "tableResultSettingsMap": {},
     "title": ""
    }
   },
   "outputs": [
    {
     "output_type": "stream",
     "name": "stdout",
     "output_type": "stream",
     "text": [
      "+----------------------------------------+------------+-----+-----+-------------------------------------------+------------+-----+\n|bank_name                               |city        |state|cert |acquiring_institution                      |closing_date|fund |\n+----------------------------------------+------------+-----+-----+-------------------------------------------+------------+-----+\n|First Lowndes Bank                      |Fort Deposit|AL   |24957|First Citizens Bank                        |19-Mar-10   |10204|\n|New South Federal Savings Bank          |Irondale    |AL   |32276|Beal Bank                                  |18-Dec-09   |10163|\n|Colonial Bank                           |Montgomery  |AL   |9609 |Branch Banking & Trust Company, (BB&T)     |14-Aug-09   |10103|\n|Alabama Trust Bank, National Association|Sylacauga   |AL   |35224|Southern States Bank                       |18-May-12   |10440|\n|First Southern Bank                     |Batesville  |AR   |58052|Southern Bank                              |17-Dec-10   |10322|\n|ANB Financial, NA                       |Bentonville |AR   |33901|Pulaski Bank and Trust Company             |9-May-08    |10005|\n|Sinclair National Bank                  |Gravette    |AR   |34248|Delta Trust & Bank                         |7-Sep-01    |4649 |\n|Allied Bank                             |Mulberry    |AR   |91   |Today's Bank                               |23-Sep-16   |10522|\n|First State Bank                        |Flagstaff   |AZ   |34875|Sunwest Bank                               |4-Sep-09    |10114|\n|Union Bank, National Association        |Gilbert     |AZ   |34485|MidFirst Bank                              |14-Aug-09   |10102|\n|Gold Canyon Bank                        |Gold Canyon |AZ   |58066|First Scottsdale Bank, National Association|5-Apr-13    |10472|\n|Summit Bank                             |Prescott    |AZ   |57442|The Foothills Bank                         |15-Jul-11   |10379|\n|San Joaquin Bank                        |Bakersfield |CA   |23266|Citizens Business Bank                     |16-Oct-09   |10126|\n|First Bank of Beverly Hills             |Calabasas   |CA   |32069|No Acquirer                                |24-Apr-09   |10054|\n|Butte Community Bank                    |Chico       |CA   |33219|Rabobank, N.A.                             |20-Aug-10   |10278|\n|Alliance Bank                           |Culver City |CA   |23124|California Bank & Trust                    |6-Feb-09    |10035|\n|Granite Community Bank, NA              |Granite Bay |CA   |57315|Tri Counties Bank                          |28-May-10   |10244|\n|MetroPacific Bank                       |Irvine      |CA   |57893|Sunwest Bank                               |26-Jun-09   |10071|\n|County Bank                             |Merced      |CA   |22574|Westamerica Bank                           |6-Feb-09    |10034|\n|Charter Oak Bank                        |Napa        |CA   |57855|Bank of Marin                              |18-Feb-11   |10343|\n+----------------------------------------+------------+-----+-----+-------------------------------------------+------------+-----+\nonly showing top 20 rows\n\n"
     ]
    }
   ],
   "source": [
    "# Using sum() Aggregate Function\n",
    "from pyspark.sql import Window\n",
    "from pyspark.sql.functions import col, min, sum\n",
    "\n",
    "# Define a window specification to partition by the state and city column \n",
    "# and order by the fund column\n",
    "windowSpec = Window.partitionBy(\"state\", \"city\")\n",
    "\n",
    "# Add a column for the minimum fund within each state\n",
    "total_funds_state_city = banks.withColumn(\"total_funds\", sum(col(\"fund\")).over(windowSpec))\n",
    "\n",
    "# Filter the DataFrame to retain only rows where the fund matches the maximum fund within each state\n",
    "result = total_funds_state_city.sort(col('state').asc(), col('city').asc()).filter(col(\"fund\") == col(\"total_funds\")).drop(\"total_funds\")\n",
    "\n",
    "# Show the result\n",
    "result.show(truncate = False)"
   ]
  },
  {
   "cell_type": "markdown",
   "metadata": {
    "application/vnd.databricks.v1+cell": {
     "cellMetadata": {},
     "inputWidgets": {},
     "nuid": "7a202d16-0169-4b6f-912d-f426172f1650",
     "showTitle": false,
     "tableResultSettingsMap": {},
     "title": ""
    }
   },
   "source": [
    "# first() and last()"
   ]
  },
  {
   "cell_type": "code",
   "execution_count": 0,
   "metadata": {
    "application/vnd.databricks.v1+cell": {
     "cellMetadata": {
      "byteLimit": 2048000,
      "rowLimit": 10000
     },
     "inputWidgets": {},
     "nuid": "ba06ec4c-aa73-46b7-9f7e-8e4e92f9951f",
     "showTitle": false,
     "tableResultSettingsMap": {},
     "title": ""
    }
   },
   "outputs": [
    {
     "output_type": "stream",
     "name": "stdout",
     "output_type": "stream",
     "text": [
      "+--------------------+-------+-----+----+---------------------+------------+-----+\n|           bank_name|   city|state|cert|acquiring_institution|closing_date| fund|\n+--------------------+-------+-----+----+---------------------+------------+-----+\n|First National Ba...|Lindsay|   OK|4134| First Bank & Trus...|   18-Oct-24|10547|\n+--------------------+-------+-----+----+---------------------+------------+-----+\nonly showing top 1 row\n\n"
     ]
    }
   ],
   "source": [
    "banks.show(n=1)"
   ]
  },
  {
   "cell_type": "code",
   "execution_count": 0,
   "metadata": {
    "application/vnd.databricks.v1+cell": {
     "cellMetadata": {
      "byteLimit": 2048000,
      "rowLimit": 10000
     },
     "inputWidgets": {},
     "nuid": "4b642100-9f0d-4298-b097-22274c41f3ca",
     "showTitle": false,
     "tableResultSettingsMap": {},
     "title": ""
    }
   },
   "outputs": [
    {
     "output_type": "stream",
     "name": "stdout",
     "output_type": "stream",
     "text": [
      "+------------------------------+\n|first(bank_name)              |\n+------------------------------+\n|First National Bank of Lindsay|\n+------------------------------+\n\n"
     ]
    }
   ],
   "source": [
    "# Using sum() Aggregate Function\n",
    "from pyspark.sql import Window\n",
    "from pyspark.sql.functions import first, last\n",
    "\n",
    "banks.select(first(\"bank_name\")).show(truncate=False)"
   ]
  },
  {
   "cell_type": "code",
   "execution_count": 0,
   "metadata": {
    "application/vnd.databricks.v1+cell": {
     "cellMetadata": {
      "byteLimit": 2048000,
      "rowLimit": 10000
     },
     "inputWidgets": {},
     "nuid": "70ca214d-8d63-432e-92fe-545bb755f644",
     "showTitle": false,
     "tableResultSettingsMap": {},
     "title": ""
    }
   },
   "outputs": [
    {
     "output_type": "stream",
     "name": "stdout",
     "output_type": "stream",
     "text": [
      "Out[168]: [Row(bank_name='Bank of Honolulu', city='Honolulu', state='HI', cert=21029, acquiring_institution='Bank of the Orient', closing_date='13-Oct-00', fund=4645)]"
     ]
    }
   ],
   "source": [
    "banks.tail(num=1)"
   ]
  },
  {
   "cell_type": "code",
   "execution_count": 0,
   "metadata": {
    "application/vnd.databricks.v1+cell": {
     "cellMetadata": {
      "byteLimit": 2048000,
      "rowLimit": 10000
     },
     "inputWidgets": {},
     "nuid": "ba137941-6a11-414e-8cce-773ee5d2fd36",
     "showTitle": false,
     "tableResultSettingsMap": {},
     "title": ""
    }
   },
   "outputs": [
    {
     "output_type": "stream",
     "name": "stdout",
     "output_type": "stream",
     "text": [
      "+----------------+\n|last(bank_name) |\n+----------------+\n|Bank of Honolulu|\n+----------------+\n\n"
     ]
    }
   ],
   "source": [
    "# Using sum() Aggregate Function\n",
    "from pyspark.sql import Window\n",
    "from pyspark.sql.functions import first, last\n",
    "\n",
    "banks.select(last(\"bank_name\")).show(truncate=False)"
   ]
  },
  {
   "cell_type": "code",
   "execution_count": 0,
   "metadata": {
    "application/vnd.databricks.v1+cell": {
     "cellMetadata": {
      "byteLimit": 2048000,
      "rowLimit": 10000
     },
     "inputWidgets": {},
     "nuid": "19dd0f06-35ce-48c3-ab97-1bc70f44e59a",
     "showTitle": false,
     "tableResultSettingsMap": {},
     "title": ""
    }
   },
   "outputs": [],
   "source": [
    "# Using sum() Aggregate Function\n",
    "from pyspark.sql import Window\n",
    "from pyspark.sql.functions import first, last, collect_list\n",
    "\n",
    "listed_funds = banks.select(collect_list(\"fund\"))\n",
    "listed_banks= banks.select(collect_list(\"bank_name\"))\n"
   ]
  },
  {
   "cell_type": "code",
   "execution_count": 0,
   "metadata": {
    "application/vnd.databricks.v1+cell": {
     "cellMetadata": {
      "byteLimit": 2048000,
      "rowLimit": 10000
     },
     "inputWidgets": {},
     "nuid": "9926880e-69a8-4515-a678-491dd384405c",
     "showTitle": false,
     "tableResultSettingsMap": {},
     "title": ""
    }
   },
   "outputs": [
    {
     "output_type": "stream",
     "name": "stdout",
     "output_type": "stream",
     "text": [
      "+-------------------------------------------------------------------------------------------------------------------------------------------------------------------------------------------------------------------------------------------------------------------------------------------------------------------------------------------------------------------------------------------------------------------------------------------------------------------------------------------------------------------------------------------------------------------------------------------------------------------------------------------------------------------------------------------------------------------------------------------------------------------------------------------------------------------------------------------------------------------------------------------------------------------------------------------------------------------------------------------------------------------------------------------------------------------------------------------------------------------------------------------------------------------------------------------------------------------------------------------------------------------------------------------------------------------------------------------------------------------------------------------------------------------------------------------------------------------------------------------------------------------------------------------------------------------------------------------------------------------------------------------------------------------------------------------------------------------------------------------------------------------------------------------------------------------------------------------------------------------------------------------------------------------------------------------------------------------------------------------------------------------------------------------------------------------------------------------------------------------------------------------------------------------------------------------------------------------------------------------------------------------------------------------------------------------------------------------------------------------------------------------------------------------------------------------------------------------------------------------------------------------------------------------------------------------------------------------------------------------------------------------------------------------------------------------------------------------------------------------------------------------------------------------------------------------------------------------------------------------------------------------------------------------------------------------------------------------------------------------------------------------------------------------------------------------------------------------------------------------------------------------------------------------------------------------------------------------------------------------------------------------------------------------------------------------------------------------------------------------------------------------------------------------------------------------------------------------------------------------------------------------------------------------------------------------------------------------------------------------------------------------------------------------------------------------------------------------------------------------------------------------------------------------------------------------------------------------------------------------------------------------------------------------------------------------------------------------------------------------------------------------------------------------------------------------------------------------------------------------------------------------------------------------------------------------------------------------------------------------------------------------------------------------------------------------------------------------------------------------------------------------------------------------------------------------------------------------------------------------------------------------------------------------------------------------------------------------------------------------------------------------------------------------------------------------------------------------------------------------------------------------------------------------------------------------------------------------------------------------------------------------------------------------------------------------------------------------------------------------------------------------------------------------------------------------------------------------------------------------------------------------------------------------------------------------------------------------------------------------------------------------------------------------------------------------------------------------------------------------------------------------------------------------------------------------------------------------------------------------------------------------------------------------------------------------------------------------------------------------------------------------------------------------------------------------------------------------------------------------------------------------------------------------------------------------------------------------------------------------------------------------------------------------------------------------------------------------------------------------------------------------------------------------------------------------------------------------------------------------------------------------------------------------------------------------------------------------------------------------------------------------------------------------------------------------------------------------------------------------------------------------------------------------------------------------------------------------------------------------------------------------------------------------------------------------------------------------------------------------------------------------------------------------------------------------------------------------------------------------------------------------------------------------------------------------------------------------------------------------------------------------------------------------------------------------------------------------------------------------------------------------------------------------------------------------------------------------------------------------------------------------------------------------------------------------------------------------------------------------------------------------------------------------------------------------------------------------------------------------------------------------------------------------------------------------------------------------------------------------------------------------------------------------------------------------------------------------------------------------------------------------------------------------------------------------------------------------------------------------------------------------------------------------------------------------------------------------------------------------------------------------------------------------------------------------------------------------------------------------------------------------------------------------------------------------------------------------------------------------------------------------------------------------------------------------------------------------------------------------------------------------------------------------------------------------------------------------------------------------------------------------------------------------------------------------------------------------------------------------------------------------------------------------------------------------------------------------------------------------------------------------------------------------------------------------------------------------------------------------------------------------------------------------------------------------------------------------------------------------------------------------------------------------------------------------------------------------------------------------------------------------------------------------------------------------------------------------------------------------------------------------------------------------------------------------------------------------------------------------------------------------------------------------------------------------------------------------------------------------------------------------------------------------------------------------------------------------------------------------------------------------------------------------------------------------------------------------------------------------------------------------------------------------------------------------------------------------------------------------------------------------------------------------------------------------------------------------------------------------------------------------------------------------------------------------------------------------------------------------------------------------------------------------------------------------------------------------------------------------------------------------------------------------------------------------------------------------------------------------------------------------------------------------------------------------------------------------------------------------------------------------------------------------------------------------------------------------------------------------------------------------------------------------------------------------------------------------------------------------------------------------------------------------------------------------------------------------------------------------------------------------------------------------------------------------------------------------------------------------------------------------------------------------------------------------------------------------------------------------------------------------------------------------------------------------------------------------------------------------------------------------------------------------------------------------------------------------------------------------------------------------------------------------------------------------------------------------------------------------------------------------------------------------------------------------------------------------------------------------------------------------------------------------------------------------------------------------------------------------------------------------------------------------------------------------------------------------------------------------------------------------------------------------------------------------------------------------------------------------------------------------------------------------------------------------------------------------------------------------------------------------------------------------------------------------------------------------------------------------------------------------------------------------------------------------------------------------------------------------------------------------------------------------------------------------------------------------------------------------------------------------------------------------------------------------------------------------------------------------------------------------------------------------------------------------------------------------------------------------------------------------------------------------------------------------------------------------------------------------------------------------------------------------------------------------------------------------------------------------------------------------------------------------------------------------------------------------------------------------------------------------------------------------------------------------------------------------------------------------------------------------------------------------------------------------------------------------------------------------------------------------------------------------------------------------------------------------------------------------------------------------------------------------------------------------------------------------------------------------------------------------------------------------------------------------------------------------------------------------------------------------------------------------------------------------------------------------------------------------------------------------------------------------------------------------------------------------------------------------------------------------------+\n|collect_list(bank_name)                                                                                                                                                                                                                                                                                                                                                                                                                                                                                                                                                                                                                                                                                                                                                                                                                                                                                                                                                                                                                                                                                                                                                                                                                                                                                                                                                                                                                                                                                                                                                                                                                                                                                                                                                                                                                                                                                                                                                                                                                                                                                                                                                                                                                                                                                                                                                                                                                                                                                                                                                                                                                                                                                                                                                                                                                                                                                                                                                                                                                                                                                                                                                                                                                                                                                                                                                                                                                                                                                                                                                                                                                                                                                                                                                                                                                                                                                                                                                                                                                                                                                                                                                                                                                                                                                                                                                                                                                                                                                                                                                                                                                                                                                                                                                                                                                                                                                                                                                                                                                                                                                                                                                                                                                                                                                                                                                                                                                                                                                                                                                                                                                                                                                                                                                                                                                                                                                                                                                                                                                                                                                                                                                                                                                                                                                                                                                                                                                                                                                                                                                                                                                                                                                                                                                                                                                                                                                                                                                                                                                                                                                                                                                                                                                                                                                                                                                                                                                                                                                                                                                                                                                                                                                                                                                                                                                                                                                                                                                                                                                                                                                                                                                                                                                                                                                                                                                                                                                                                                                                                                                                                                                                                                                                                                                                                                                                                                                                                                                                                                                                                                                                                                                                                                                                                                                                                                                                                                                                                                                                                                                                                                                                                                                                                                                                                                                                                                                                                                                                                                                                                                                                                                                                                                                                                                                                                                                                                                                                                                                                                                                                                                                                                                                                                                                                                                                                                                                                                                                                                                                                                                                                                                                                                                                                                                                                                                                                                                                                                                                                                                                                                                                                                                                                                                                                                                                                                                                                                                                                                                                                                                                                            \n\n*** WARNING: max output size exceeded, skipping output. ***\n\n/b/a Bank of Kenosha, Central Arizona Bank, Sunrise Bank, Pisgah Community Bank, Douglas County Bank, Parkway Bank, Chipola Community Bank, Heritage Bank of North Florida, First Federal Bank, Gold Canyon Bank, Frontier Bank, Covenant Bank, 1st Regents Bank, Westside Community Bank, Community Bank of the Ozarks, Hometown Community Bank, Citizens First National Bank, Heritage Bank of Florida, NOVA Bank, Excel Bank, First East Side Savings Bank, GulfSouth Private Bank, First United Bank, Truman Bank, First Commercial Bank, Waukegan Savings Bank, Jasper Banking Company, Second Federal Savings and Loan Association of Chicago, Heartland Bank, First Cherokee State Bank, Georgia Trust Bank, The Royal Palm Bank of Florida, Glasgow Savings Bank, Montgomery Bank & Trust, The Farmers Bank of Lynchburg, Security Exchange Bank, Putnam State Bank, Waccamaw Bank, Farmers' and Traders' State Bank, Carolina Federal Savings Bank, First Capital Bank, Alabama Trust Bank, National Association, Security Bank, National Association, Palm Desert National Bank, Plantation Federal Bank, Inter Savings Bank, fsb D/B/A InterBank, fsb, HarVest Bank of Maryland, Bank of the Eastern Shore, Fort Lee Federal Savings Bank, FSB, Fidelity Bank, Premier Bank, Covenant Bank & Trust, New City Bank, Global Commerce Bank, Home Savings of America, Central Bank of Georgia, SCB Bank, Charter National Bank and Trust, BankEast, Patriot Bank Minnesota, Tennessee Commerce Bank, First Guaranty Bank and Trust Company of Jacksonville, American Eagle Savings Bank, The First State Bank, Central Florida State Bank, Western National Bank, Premier Community Bank of the Emerald Coast, Central Progressive Bank, Polk County Bank, Community Bank of Rockmart, SunFirst Bank, Mid City Bank, Inc., All American Bank, Community Banks of Colorado, Community Capital Bank, Decatur First Bank, Old Harbor Bank, Country Bank, First State Bank, Blue Ridge Savings Bank, Inc., Piedmont Community Bank, Sun Security Bank, The RiverBank, First International Bank, Citizens Bank of Northern California, Bank of the Commonwealth, The First National Bank of Florida, CreekSide Bank, Patriot Bank of Georgia, First Choice Bank, First Southern National Bank, Lydian Private Bank, Public Savings Bank, The First National Bank of Olathe, Bank of Whitman, Bank of Shorewood, Integra Bank National Association, BankMeridian, N.A., Virginia Business Bank, Bank of Choice, LandMark Bank of Florida, Southshore Community Bank, Summit Bank, First Peoples Bank, High Trust Bank, One Georgia Bank, Signature Bank, Colorado Capital Bank, First Chicago Bank & Trust, Mountain Heritage Bank, First Commercial Bank of Tampa Bay, McIntosh State Bank, Atlantic Bank and Trust, First Heritage Bank, Summit Bank, First Georgia Banking Company, Atlantic Southern Bank, Coastal Bank, Community Central Bank, The Park Avenue Bank, First Choice Community Bank, Cortez Community Bank, First National Bank of Central Florida, Heritage Banking Group, Rosemount National Bank, Superior Bank, Nexity Bank, New Horizons Bank, Bartow County Bank, Nevada Commerce Bank, Western Springs National Bank and Trust, The Bank of Commerce, Legacy Bank, First National Bank of Davis, Valley Community Bank, San Luis Trust Bank, FSB, Charter Oak Bank, Citizens Bank of Effingham, Habersham Bank, Canyon National Bank, Badger State Bank, Peoples State Bank, Sunshine State Community Bank, Community First Bank Chicago, North Georgia Bank, American Trust Bank, First Community Bank, FirsTier Bank, Evergreen State Bank, The First State Bank, United Western Bank, The Bank of Asheville, CommunitySouth Bank & Trust, Enterprise Banking Company, Oglethorpe Bank, Legacy Bank, First Commercial Bank of Florida, Community National Bank, First Southern Bank, United Americas Bank, N.A., Appalachian Community Bank, FSB, Chestatee State Bank, The Bank of Miami,N.A., Earthstar Bank, Paramount Bank, First Banking Center, Allegiance Bank of North America, Gulf State Community Bank, Copper Star Bank, Darby Bank & Trust Co., Tifton Banking Company, First Vietnamese American Bank, Pierce Commercial Bank, Western Commercial Bank, K Bank, First Arizona Savings, A FSB, Hillcrest Bank, First Suburban National Bank, The First National Bank of Barnesville, The Gordon Bank, Progress Bank of Florida, First Bank of Jacksonville, Premier Bank, WestBridge Bank and Trust Company, Security Savings Bank, F.S.B., Shoreline Bank, Wakulla Bank, North County Bank, Haven Trust Bank Florida, Maritime Savings Bank, Bramble Savings Bank, The Peoples Bank, First Commerce Community Bank, Bank of Ellijay, ISN Bank, Horizon Bank, Sonoma Valley Bank, Los Padres Bank, Butte Community Bank, Pacific State Bank, ShoreBank, Imperial Savings and Loan Association, Independent National Bank, Community National Bank at Bartow, Palos Bank and Trust Company, Ravenswood Bank, LibertyBank, The Cowlitz Bank, Coastal Community Bank, Bayside Savings Bank, Northwest Bank & Trust, Home Valley Bank, SouthwestUSA Bank, Community Security Bank, Thunder Bank, Williamsburg First National Bank, Crescent Bank and Trust Company, Sterling Bank, Mainstreet Savings Bank, FSB, Olde Cypress Community Bank, Turnberry Bank, Metro Bank of Dade County, First National Bank of the South, Woodlands Bank, Home National Bank, USA Bank, Ideal Federal Savings Bank, Bay National Bank, High Desert State Bank, First National Bank, Peninsula Bank, Nevada Security Bank, Washington First International Bank, TierOne Bank, Arcola Homestead Savings Bank, First National Bank, Sun West Bank, Granite Community Bank, NA, Bank of Florida - Tampa, Bank of Florida - Southwest, Bank of Florida - Southeast, Pinehurst Bank, Midwest Bank and Trust Company, Southwest Community Bank, New Liberty Bank, Satilla Community Bank, 1st Pacific Bank of California, Towne Bank of Arizona, Access Bank, The Bank of Bonifay, Frontier Bank, BC National Banks, Champion Bank, CF Bancorp, Westernbank Puerto Rico, R-G Premier Bank of Puerto Rico, Eurobank, Wheatland Bank, Peotone Bank and Trust Company, Lincoln Park Savings Bank, New Century Bank, Citizens Bank and Trust Company of Chicago, Broadway Bank, Amcore Bank, National Association, City Bank, Tamalpais Bank, Innovative Bank, Butler Bank, Riverside National Bank of Florida, AmericanFirst Bank, First Federal Bank of North Florida, Lakeside Community Bank, Beach First National Bank, Desert Hills Bank, Unity National Bank, Key West Bank, McIntosh Commercial Bank, State Bank of Aurora, First Lowndes Bank, Bank of Hiawassee, Appalachian Community Bank, Advanta Bank Corp., Century Security Bank, American National Bank, Statewide Bank, Old Southern Bank, The Park Avenue Bank, LibertyPointe Bank, Centennial Bank, Waterfield Bank, Bank of Illinois, Sun American Bank, Rainier Pacific Bank, Carson River Community Bank, La Jolla Bank, FSB, George Washington Savings Bank, The La Coste National Bank, Marco Community Bank, 1st American State Bank of Minnesota, American Marine Bank, First Regional Bank, Community Bank and Trust, Marshall Bank, N.A., Florida Community Bank, First National Bank of Georgia, Columbia River Bank, Evergreen Bank, Charter Bank, Bank of Leeton, Premier American Bank, Barnes Banking Company, St. Stephen State Bank, Town Community Bank & Trust, Horizon Bank, First Federal Bank of California, F.S.B., Imperial Capital Bank, Independent Bankers' Bank, New South Federal Savings Bank, Citizens State Bank, Peoples First Community Bank, RockBridge Commercial Bank, SolutionsBank, Valley Capital Bank, N.A., Republic Federal Bank, N.A., Greater Atlantic Bank, Benchmark Bank, AmTrust Bank, The Tattnall Bank, First Security National Bank, The Buckhead Community Bank, Commerce Bank of Southwest Florida, Pacific Coast National Bank, Orion Bank, Century Bank, F.S.B., United Commercial Bank, Gateway Bank of St. Louis, Prosperan Bank, Home Federal Savings Bank, United Security Bank, North Houston Bank, Madisonville State Bank, Citizens National Bank, Park National Bank, Pacific National Bank, California National Bank, San Diego National Bank, Community Bank of Lemont, Bank USA, N.A., First DuPage Bank, Riverview Community Bank, Bank of Elmwood, Flagship National Bank, Hillcrest Bank Florida, American United Bank, Partners Bank, San Joaquin Bank, Southern Colorado National Bank, Jennings State Bank, Warren Bank, Georgian Bank, Irwin Union Bank, F.S.B., Irwin Union Bank and Trust Company, Venture Bank, Brickwell Community Bank, Corus Bank, N.A., First State Bank, Platinum Community Bank, Vantus Bank, InBank, First Bank of Kansas City, Affinity Bank, Mainstreet Bank, Bradford Bank, Guaranty Bank, CapitalSouth Bank, First Coweta Bank, ebank, Community Bank of Nevada, Community Bank of Arizona, Union Bank, National Association, Colonial Bank, Dwelling House Savings and Loan Association, Community First Bank, Community National Bank of Sarasota County, First State Bank, Mutual Bank, First BankAmericano, Peoples Community Bank, Integrity Bank, First State Bank of Altus, Security Bank of Jones County, Security Bank of Houston County, Security Bank of Bibb County, Security Bank of North Metro, Security Bank of North Fulton, Security Bank of Gwinnett County, Waterford Village Bank, Temecula Valley Bank, Vineyard Bank, BankFirst, First Piedmont Bank, Bank of Wyoming, Founders Bank, Millennium State Bank of Texas, First National Bank of Danville, The Elizabeth State Bank, Rock River Bank, First State Bank of Winchester, John Warner Bank, Mirae Bank, MetroPacific Bank, Horizon Bank, Neighborhood Community Bank, Community Bank of West Georgia, First National Bank of Anthony, Cooperative Bank, Southern Community Bank, Bank of Lincolnwood, Citizens National Bank, Strategic Capital Bank, BankUnited, FSB, Westsound Bank, America West Bank, Citizens Community Bank, Silverton Bank, NA, First Bank of Idaho, First Bank of Beverly Hills, Michigan Heritage Bank, American Southern Bank, Great Basin Bank of Nevada, American Sterling Bank, New Frontier Bank, Cape Fear Bank, Omni National Bank, TeamBank, NA, Colorado National Bank, FirstCity Bank, Freedom Bank of Georgia, Security Savings Bank, Heritage Community Bank, Silver Falls Bank, Pinnacle Bank of Oregon, Corn Belt Bank & Trust Co., Riverside Bank of the Gulf Coast, Sherman County Bank, County Bank, Alliance Bank, FirstBank Financial Services, Ocala National Bank, Suburban FSB, MagnetBank, 1st Centennial Bank, Bank of Clark County, National Bank of Commerce, Sanderson State Bank, Haven Trust Bank, First Georgia Community Bank, PFF Bank & Trust, Downey Savings & Loan, Community Bank, Security Pacific Bank, Franklin Bank, SSB, Freedom Bank, Alpha Bank & Trust, Meridian Bank, Main Street Bank, Washington Mutual Bank (Including its subsidiary Washington Mutual Bank FSB), Ameribank, Silver State Bank, Integrity Bank, Columbian Bank & Trust, First Priority Bank, First Heritage Bank, NA, First National Bank of Nevada, IndyMac Bank, First Integrity Bank, NA, ANB Financial, NA, Hume Bank, Douglass National Bank, Miami Valley Bank, NetBank, Metropolitan Savings Bank, Bank of Ephraim, Reliance Bank, Guaranty National Bank of Tallahassee, Dollar Savings Bank, Pulaski Savings Bank, First National Bank of Blanchardville, Southern Pacific Bank, Farmers Bank of Cheneyville, Bank of Alamo, AmTrade International Bank, Universal Federal Savings Bank, Connecticut Bank of Commerce, New Century Bank, Net 1st National Bank, NextBank, NA, Oakwood Deposit Bank Co., Bank of Sierra Blanca, Hamilton Bank, NA, Sinclair National Bank, Superior Bank, FSB, Malta National Bank, First Alliance Bank & Trust Co., National State Bank of Metropolis, Bank of Honolulu]|\n+-------------------------------------------------------------------------------------------------------------------------------------------------------------------------------------------------------------------------------------------------------------------------------------------------------------------------------------------------------------------------------------------------------------------------------------------------------------------------------------------------------------------------------------------------------------------------------------------------------------------------------------------------------------------------------------------------------------------------------------------------------------------------------------------------------------------------------------------------------------------------------------------------------------------------------------------------------------------------------------------------------------------------------------------------------------------------------------------------------------------------------------------------------------------------------------------------------------------------------------------------------------------------------------------------------------------------------------------------------------------------------------------------------------------------------------------------------------------------------------------------------------------------------------------------------------------------------------------------------------------------------------------------------------------------------------------------------------------------------------------------------------------------------------------------------------------------------------------------------------------------------------------------------------------------------------------------------------------------------------------------------------------------------------------------------------------------------------------------------------------------------------------------------------------------------------------------------------------------------------------------------------------------------------------------------------------------------------------------------------------------------------------------------------------------------------------------------------------------------------------------------------------------------------------------------------------------------------------------------------------------------------------------------------------------------------------------------------------------------------------------------------------------------------------------------------------------------------------------------------------------------------------------------------------------------------------------------------------------------------------------------------------------------------------------------------------------------------------------------------------------------------------------------------------------------------------------------------------------------------------------------------------------------------------------------------------------------------------------------------------------------------------------------------------------------------------------------------------------------------------------------------------------------------------------------------------------------------------------------------------------------------------------------------------------------------------------------------------------------------------------------------------------------------------------------------------------------------------------------------------------------------------------------------------------------------------------------------------------------------------------------------------------------------------------------------------------------------------------------------------------------------------------------------------------------------------------------------------------------------------------------------------------------------------------------------------------------------------------------------------------------------------------------------------------------------------------------------------------------------------------------------------------------------------------------------------------------------------------------------------------------------------------------------------------------------------------------------------------------------------------------------------------------------------------------------------------------------------------------------------------------------------------------------------------------------------------------------------------------------------------------------------------------------------------------------------------------------------------------------------------------------------------------------------------------------------------------------------------------------------------------------------------------------------------------------------------------------------------------------------------------------------------------------------------------------------------------------------------------------------------------------------------------------------------------------------------------------------------------------------------------------------------------------------------------------------------------------------------------------------------------------------------------------------------------------------------------------------------------------------------------------------------------------------------------------------------------------------------------------------------------------------------------------------------------------------------------------------------------------------------------------------------------------------------------------------------------------------------------------------------------------------------------------------------------------------------------------------------------------------------------------------------------------------------------------------------------------------------------------------------------------------------------------------------------------------------------------------------------------------------------------------------------------------------------------------------------------------------------------------------------------------------------------------------------------------------------------------------------------------------------------------------------------------------------------------------------------------------------------------------------------------------------------------------------------------------------------------------------------------------------------------------------------------------------------------------------------------------------------------------------------------------------------------------------------------------------------------------------------------------------------------------------------------------------------------------------------------------------------------------------------------------------------------------------------------------------------------------------------------------------------------------------------------------------------------------------------------------------------------------------------------------------------------------------------------------------------------------------------------------------------------------------------------------------------------------------------------------------------------------------------------------------------------------------------------------------------------------------------------------------------------------------------------------------------------------------------------------------------------------------------------------------------------------------------------------------------------------------------------------------------------------------------------------------------------------------------------------------------------------------------------------------------------------------------------------------------------------------------------------------------------------------------------------------------------------------------------------------------------------------------------------------------------------------------------------------------------------------------------------------------------------------------------------------------------------------------------------------------------------------------------------------------------------------------------------------------------------------------------------------------------------------------------------------------------------------------------------------------------------------------------------------------------------------------------------------------------------------------------------------------------------------------------------------------------------------------------------------------------------------------------------------------------------------------------------------------------------------------------------------------------------------------------------------------------------------------------------------------------------------------------------------------------------------------------------------------------------------------------------------------------------------------------------------------------------------------------------------------------------------------------------------------------------------------------------------------------------------------------------------------------------------------------------------------------------------------------------------------------------------------------------------------------------------------------------------------------------------------------------------------------------------------------------------------------------------------------------------------------------------------------------------------------------------------------------------------------------------------------------------------------------------------------------------------------------------------------------------------------------------------------------------------------------------------------------------------------------------------------------------------------------------------------------------------------------------------------------------------------------------------------------------------------------------------------------------------------------------------------------------------------------------------------------------------------------------------------------------------------------------------------------------------------------------------------------------------------------------------------------------------------------------------------------------------------------------------------------------------------------------------------------------------------------------------------------------------------------------------------------------------------------------------------------------------------------------------------------------------------------------------------------------------------------------------------------------------------------------------------------------------------------------------------------------------------------------------------------------------------------------------------------------------------------------------------------------------------------------------------------------------------------------------------------------------------------------------------------------------------------------------------------------------------------------------------------------------------------------------------------------------------------------------------------------------------------------------------------------------------------------------------------------------------------------------------------------------------------------------------------------------------------------------------------------------------------------------------------------------------------------------------------------------------------------------------------------------------------------------------------------------------------------------------------------------------------------------------------------------------------------------------------------------------------------------------------------------------------------------------------------------------------------------------------------------------------------------------------------------------------------------------------------------------------------------------------------------------------------------------------------------------------------------------------------------------------------------------------------------------------------------------------------------------------------------------------------------------------------------------------------------------------------------------------------------------------------------------------------------------------------------------------------------------------------------------------------------------------------------------------------------------------+\n\n"
     ]
    }
   ],
   "source": [
    "listed_banks.show(truncate=False)"
   ]
  },
  {
   "cell_type": "markdown",
   "metadata": {
    "application/vnd.databricks.v1+cell": {
     "cellMetadata": {},
     "inputWidgets": {},
     "nuid": "1da3dff1-f1ee-40e3-9b33-f03235408787",
     "showTitle": false,
     "tableResultSettingsMap": {},
     "title": ""
    }
   },
   "source": [
    "# pyspark window aggregate functions"
   ]
  },
  {
   "cell_type": "code",
   "execution_count": 0,
   "metadata": {
    "application/vnd.databricks.v1+cell": {
     "cellMetadata": {
      "byteLimit": 2048000,
      "rowLimit": 10000
     },
     "inputWidgets": {},
     "nuid": "172662d1-9891-4353-be27-2a188f9e7a31",
     "showTitle": false,
     "tableResultSettingsMap": {},
     "title": ""
    }
   },
   "outputs": [
    {
     "output_type": "stream",
     "name": "stdout",
     "output_type": "stream",
     "text": [
      "+----------------------------------------+-----------------+-----+-----+------------------------------------------+------------+-----+------------------+------+-----+-----+\n|bank_name                               |city             |state|cert |acquiring_institution                     |closing_date|fund |avg               |sum   |min  |max  |\n+----------------------------------------+-----------------+-----+-----+------------------------------------------+------------+-----+------------------+------+-----+-----+\n|Alabama Trust Bank, National Association|Sylacauga        |AL   |35224|Southern States Bank                      |18-May-12   |10440|10247.142857142857|71730 |10103|10440|\n|Allied Bank                             |Mulberry         |AR   |91   |Today's Bank                              |23-Sep-16   |10522|8874.5            |35498 |4649 |10522|\n|Sunrise Bank of Arizona                 |Phoenix          |AZ   |34707|First Fidelity Bank, National Association |23-Aug-13   |10487|9930.0625         |158881|4653 |10487|\n|First Republic Bank                     |San Francisco    |CA   |59017|JPMorgan Chase Bank, N.A.                 |1-May-23    |10543|10068.372093023256|432940|4660 |10543|\n|Premier Bank                            |Denver           |CO   |34112|United Fidelity Bank, fsb                 |10-Jul-15   |10515|10293.1           |102931|10045|10515|\n|The Community's Bank                    |Bridgeport       |CT   |57041|No Acquirer                               |13-Sep-13   |10489|7572.5            |15145 |4656 |10489|\n|First City Bank of Florida              |Fort Walton Beach|FL   |16748|United Fidelity Bank, fsb                 |16-Oct-20   |10537|10062.421052631578|764744|4650 |10537|\n|The Woodbury Banking Company            |Woodbury         |GA   |11297|United Bank                               |19-Aug-16   |10521|10203.752688172042|948949|4657 |10521|\n|Bank of Honolulu                        |Honolulu         |HI   |21029|Bank of the Orient                        |13-Oct-00   |4645 |4645.0            |4645  |4645 |4645 |\n|Citizens Bank                           |Sac City         |IA   |8758 |Iowa Trust & Savings Bank                 |3-Nov-23    |10545|10358.333333333334|31075 |10116|10545|\n|Syringa Bank                            |Boise            |ID   |34296|Sunwest Bank                              |31-Jan-14   |10494|10274.5           |20549 |10055|10494|\n|Washington Federal Bank for Savings     |Chicago          |IL   |30570|Royal Savings Bank                        |15-Dec-17   |10530|10069.31884057971 |694783|4646 |10530|\n|SCB Bank                                |Shelbyville      |IN   |29761|First Merchants Bank, National Association|10-Feb-12   |10425|10309.666666666666|30929 |10120|10425|\n|Heartland Tri-State Bank                |Elkhart          |KS   |25851|Dream First Bank, N.A.                    |28-Jul-23   |10544|10300.25          |123603|10011|10544|\n|Louisa Community Bank                   |Louisa           |KY   |58112|Kentucky Farmers Bank Corporation         |25-Oct-19   |10532|10375.666666666666|31127 |10121|10532|\n|First NBC Bank                          |New Orleans      |LA   |58302|Whitney Bank                              |28-Apr-17   |10526|8948.5            |35794 |4659 |10526|\n|Butler Bank                             |Lowell           |MA   |26619|People's United Bank                      |16-Apr-10   |10211|10211.0           |10211 |10211|10211|\n|NBRS Financial                          |Rising Sun       |MD   |4862 |Howard Bank                               |17-Oct-14   |10506|10302.7           |103027|10033|10506|\n|Fidelity Bank                           |Dearborn         |MI   |33883|The Huntington National Bank              |30-Mar-12   |10432|9824.57142857143  |137544|4655 |10432|\n|Northern Star Bank                      |Mankato          |MN   |34983|BankVista                                 |19-Dec-14   |10509|10259.826086956522|235976|10006|10509|\n+----------------------------------------+-----------------+-----+-----+------------------------------------------+------------+-----+------------------+------+-----+-----+\nonly showing top 20 rows\n\n"
     ]
    }
   ],
   "source": [
    "# Using sum() Aggregate Function\n",
    "from pyspark.sql import Window\n",
    "from pyspark.sql.functions import col, avg, sum, min, max, row_number\n",
    "\n",
    "# Define a window specification to partition by the state and city column \n",
    "# and order by the fund column\n",
    "windowSpecAgg = Window.partitionBy(\"state\").orderBy('state')\n",
    "\n",
    "columns_to_select = ['state', 'funds_average', 'funds_sum',\"funds_min\", 'funds_max'  ]\n",
    "\n",
    "summary = banks.withColumn(\"row\", row_number().over(windowSpecAgg))\\\n",
    "    .withColumn(\"avg\", avg(col('fund')).over(windowSpecAgg))\\\n",
    "        .withColumn(\"sum\", sum(col('fund')).over(windowSpecAgg))\\\n",
    "            .withColumn(\"min\", min(col('fund')).over(windowSpecAgg))\\\n",
    "                .withColumn(\"max\", max(col('fund')).over(windowSpecAgg))\\\n",
    "                    .filter(col(\"row\") == 1)\\\n",
    "                        .drop(\"row\")\n",
    "summary.show(truncate = False)"
   ]
  },
  {
   "cell_type": "markdown",
   "metadata": {
    "application/vnd.databricks.v1+cell": {
     "cellMetadata": {},
     "inputWidgets": {},
     "nuid": "8662eca1-05da-4158-a036-198387bcf26c",
     "showTitle": false,
     "tableResultSettingsMap": {},
     "title": ""
    }
   },
   "source": [
    "# round average column to 2 dec places\n"
   ]
  },
  {
   "cell_type": "code",
   "execution_count": 0,
   "metadata": {
    "application/vnd.databricks.v1+cell": {
     "cellMetadata": {
      "byteLimit": 2048000,
      "rowLimit": 10000
     },
     "inputWidgets": {},
     "nuid": "c1da76ff-17d7-498f-8e76-2a30bd3af790",
     "showTitle": false,
     "tableResultSettingsMap": {},
     "title": ""
    }
   },
   "outputs": [
    {
     "output_type": "stream",
     "name": "stdout",
     "output_type": "stream",
     "text": [
      "+----------------------------------------+-----------------+-----+-----+------------------------------------------+------------+-----+--------+------+-----+-----+\n|bank_name                               |city             |state|cert |acquiring_institution                     |closing_date|fund |avg     |sum   |min  |max  |\n+----------------------------------------+-----------------+-----+-----+------------------------------------------+------------+-----+--------+------+-----+-----+\n|Alabama Trust Bank, National Association|Sylacauga        |AL   |35224|Southern States Bank                      |18-May-12   |10440|10247.14|71730 |10103|10440|\n|Allied Bank                             |Mulberry         |AR   |91   |Today's Bank                              |23-Sep-16   |10522|8874.5  |35498 |4649 |10522|\n|Sunrise Bank of Arizona                 |Phoenix          |AZ   |34707|First Fidelity Bank, National Association |23-Aug-13   |10487|9930.06 |158881|4653 |10487|\n|First Republic Bank                     |San Francisco    |CA   |59017|JPMorgan Chase Bank, N.A.                 |1-May-23    |10543|10068.37|432940|4660 |10543|\n|Premier Bank                            |Denver           |CO   |34112|United Fidelity Bank, fsb                 |10-Jul-15   |10515|10293.1 |102931|10045|10515|\n|The Community's Bank                    |Bridgeport       |CT   |57041|No Acquirer                               |13-Sep-13   |10489|7572.5  |15145 |4656 |10489|\n|First City Bank of Florida              |Fort Walton Beach|FL   |16748|United Fidelity Bank, fsb                 |16-Oct-20   |10537|10062.42|764744|4650 |10537|\n|The Woodbury Banking Company            |Woodbury         |GA   |11297|United Bank                               |19-Aug-16   |10521|10203.75|948949|4657 |10521|\n|Bank of Honolulu                        |Honolulu         |HI   |21029|Bank of the Orient                        |13-Oct-00   |4645 |4645.0  |4645  |4645 |4645 |\n|Citizens Bank                           |Sac City         |IA   |8758 |Iowa Trust & Savings Bank                 |3-Nov-23    |10545|10358.33|31075 |10116|10545|\n|Syringa Bank                            |Boise            |ID   |34296|Sunwest Bank                              |31-Jan-14   |10494|10274.5 |20549 |10055|10494|\n|Washington Federal Bank for Savings     |Chicago          |IL   |30570|Royal Savings Bank                        |15-Dec-17   |10530|10069.32|694783|4646 |10530|\n|SCB Bank                                |Shelbyville      |IN   |29761|First Merchants Bank, National Association|10-Feb-12   |10425|10309.67|30929 |10120|10425|\n|Heartland Tri-State Bank                |Elkhart          |KS   |25851|Dream First Bank, N.A.                    |28-Jul-23   |10544|10300.25|123603|10011|10544|\n|Louisa Community Bank                   |Louisa           |KY   |58112|Kentucky Farmers Bank Corporation         |25-Oct-19   |10532|10375.67|31127 |10121|10532|\n|First NBC Bank                          |New Orleans      |LA   |58302|Whitney Bank                              |28-Apr-17   |10526|8948.5  |35794 |4659 |10526|\n|Butler Bank                             |Lowell           |MA   |26619|People's United Bank                      |16-Apr-10   |10211|10211.0 |10211 |10211|10211|\n|NBRS Financial                          |Rising Sun       |MD   |4862 |Howard Bank                               |17-Oct-14   |10506|10302.7 |103027|10033|10506|\n|Fidelity Bank                           |Dearborn         |MI   |33883|The Huntington National Bank              |30-Mar-12   |10432|9824.57 |137544|4655 |10432|\n|Northern Star Bank                      |Mankato          |MN   |34983|BankVista                                 |19-Dec-14   |10509|10259.83|235976|10006|10509|\n+----------------------------------------+-----------------+-----+-----+------------------------------------------+------------+-----+--------+------+-----+-----+\nonly showing top 20 rows\n\n"
     ]
    }
   ],
   "source": [
    "from pyspark.sql import functions as f\n",
    "\n",
    "rounded_avg = summary.withColumn(\"avg\", f.round(\"avg\", 2))\n",
    "rounded_avg.show(truncate=False)"
   ]
  }
 ],
 "metadata": {
  "application/vnd.databricks.v1+notebook": {
   "computePreferences": null,
   "dashboards": [],
   "environmentMetadata": {
    "base_environment": "",
    "client": "1"
   },
   "language": "python",
   "notebookMetadata": {
    "mostRecentlyExecutedCommandWithImplicitDF": {
     "commandId": 1212023560686114,
     "dataframes": [
      "_sqldf"
     ]
    },
    "pythonIndentUnit": 4
   },
   "notebookName": "pyspark_failed_banks",
   "widgets": {}
  }
 },
 "nbformat": 4,
 "nbformat_minor": 0
}
